{
 "cells": [
  {
   "cell_type": "markdown",
   "id": "8baacd8a",
   "metadata": {
    "id": "c81daeeb"
   },
   "source": [
    "# Исследование надежности заемщиков\n"
   ]
  },
  {
   "cell_type": "markdown",
   "id": "41bf9710",
   "metadata": {},
   "source": [
    "Заказчик — кредитный отдел банка. Нужно разобраться, влияет ли семейное положение и количество детей клиента на факт погашения кредита в срок. Входные данные от банка — статистика о платёжеспособности клиентов.\n",
    "\n",
    "Результаты исследования будут учтены при построении модели кредитного скоринга — специальной системы, которая оценивает способность потенциального заёмщика вернуть кредит банку.\n",
    "\n",
    "## Описание данных\n",
    "`children` — количество детей в семье\n",
    "<br>\n",
    "`days_employed` — общий трудовой стаж в днях\n",
    "<br>\n",
    "`dob_years` — возраст клиента в годах\n",
    "<br>\n",
    "`education` — уровень образования клиента\n",
    "<br>\n",
    "`education_id` — идентификатор уровня образования\n",
    "<br>\n",
    "`family_status` — семейное положение\n",
    "<br>\n",
    "`family_status_id` — идентификатор семейного положения\n",
    "<br>\n",
    "`gender` — пол клиента\n",
    "<br>\n",
    "`income_type` — тип занятости\n",
    "<br>\n",
    "`debt` — имел ли задолженность по возврату кредитов\n",
    "<br>\n",
    "`total_income` — ежемесячный доход\n",
    "<br>\n",
    "`purpose` — цель получения кредита\n"
   ]
  },
  {
   "cell_type": "markdown",
   "id": "224fb311",
   "metadata": {
    "id": "744d7639"
   },
   "source": [
    "## Откроем таблицу и изучим общую информацию о данных"
   ]
  },
  {
   "cell_type": "markdown",
   "id": "08cd9462",
   "metadata": {
    "id": "e7a14c31"
   },
   "source": [
    "**1. Импортируем библиотеку pandas. Считаем данные из csv-файла в датафрейм и сохраним в переменную `data`.**"
   ]
  },
  {
   "cell_type": "code",
   "execution_count": 1,
   "id": "4a87bc3d",
   "metadata": {
    "id": "7bcf75c9"
   },
   "outputs": [],
   "source": [
    "import pandas as pd\n",
    "\n",
    "try:\n",
    "    data = pd.read_csv('/datasets/data.csv')\n",
    "except:\n",
    "    data = pd.read_csv('https://code.s3.yandex.net/datasets/data.csv')"
   ]
  },
  {
   "cell_type": "markdown",
   "id": "d986e974",
   "metadata": {
    "id": "b8038fe3"
   },
   "source": [
    "**2. Выведем первые 20 строчек датафрейма `data` на экран.**"
   ]
  },
  {
   "cell_type": "code",
   "execution_count": 2,
   "id": "1f9fceae",
   "metadata": {
    "id": "2a7cab99",
    "outputId": "1a8f3ef2-d323-4ec2-ddf7-89670b5944c4"
   },
   "outputs": [
    {
     "data": {
      "text/html": [
       "<div>\n",
       "<style scoped>\n",
       "    .dataframe tbody tr th:only-of-type {\n",
       "        vertical-align: middle;\n",
       "    }\n",
       "\n",
       "    .dataframe tbody tr th {\n",
       "        vertical-align: top;\n",
       "    }\n",
       "\n",
       "    .dataframe thead th {\n",
       "        text-align: right;\n",
       "    }\n",
       "</style>\n",
       "<table border=\"1\" class=\"dataframe\">\n",
       "  <thead>\n",
       "    <tr style=\"text-align: right;\">\n",
       "      <th></th>\n",
       "      <th>children</th>\n",
       "      <th>days_employed</th>\n",
       "      <th>dob_years</th>\n",
       "      <th>education</th>\n",
       "      <th>education_id</th>\n",
       "      <th>family_status</th>\n",
       "      <th>family_status_id</th>\n",
       "      <th>gender</th>\n",
       "      <th>income_type</th>\n",
       "      <th>debt</th>\n",
       "      <th>total_income</th>\n",
       "      <th>purpose</th>\n",
       "    </tr>\n",
       "  </thead>\n",
       "  <tbody>\n",
       "    <tr>\n",
       "      <th>0</th>\n",
       "      <td>1</td>\n",
       "      <td>-8437.673028</td>\n",
       "      <td>42</td>\n",
       "      <td>высшее</td>\n",
       "      <td>0</td>\n",
       "      <td>женат / замужем</td>\n",
       "      <td>0</td>\n",
       "      <td>F</td>\n",
       "      <td>сотрудник</td>\n",
       "      <td>0</td>\n",
       "      <td>253875.639453</td>\n",
       "      <td>покупка жилья</td>\n",
       "    </tr>\n",
       "    <tr>\n",
       "      <th>1</th>\n",
       "      <td>1</td>\n",
       "      <td>-4024.803754</td>\n",
       "      <td>36</td>\n",
       "      <td>среднее</td>\n",
       "      <td>1</td>\n",
       "      <td>женат / замужем</td>\n",
       "      <td>0</td>\n",
       "      <td>F</td>\n",
       "      <td>сотрудник</td>\n",
       "      <td>0</td>\n",
       "      <td>112080.014102</td>\n",
       "      <td>приобретение автомобиля</td>\n",
       "    </tr>\n",
       "    <tr>\n",
       "      <th>2</th>\n",
       "      <td>0</td>\n",
       "      <td>-5623.422610</td>\n",
       "      <td>33</td>\n",
       "      <td>Среднее</td>\n",
       "      <td>1</td>\n",
       "      <td>женат / замужем</td>\n",
       "      <td>0</td>\n",
       "      <td>M</td>\n",
       "      <td>сотрудник</td>\n",
       "      <td>0</td>\n",
       "      <td>145885.952297</td>\n",
       "      <td>покупка жилья</td>\n",
       "    </tr>\n",
       "    <tr>\n",
       "      <th>3</th>\n",
       "      <td>3</td>\n",
       "      <td>-4124.747207</td>\n",
       "      <td>32</td>\n",
       "      <td>среднее</td>\n",
       "      <td>1</td>\n",
       "      <td>женат / замужем</td>\n",
       "      <td>0</td>\n",
       "      <td>M</td>\n",
       "      <td>сотрудник</td>\n",
       "      <td>0</td>\n",
       "      <td>267628.550329</td>\n",
       "      <td>дополнительное образование</td>\n",
       "    </tr>\n",
       "    <tr>\n",
       "      <th>4</th>\n",
       "      <td>0</td>\n",
       "      <td>340266.072047</td>\n",
       "      <td>53</td>\n",
       "      <td>среднее</td>\n",
       "      <td>1</td>\n",
       "      <td>гражданский брак</td>\n",
       "      <td>1</td>\n",
       "      <td>F</td>\n",
       "      <td>пенсионер</td>\n",
       "      <td>0</td>\n",
       "      <td>158616.077870</td>\n",
       "      <td>сыграть свадьбу</td>\n",
       "    </tr>\n",
       "    <tr>\n",
       "      <th>5</th>\n",
       "      <td>0</td>\n",
       "      <td>-926.185831</td>\n",
       "      <td>27</td>\n",
       "      <td>высшее</td>\n",
       "      <td>0</td>\n",
       "      <td>гражданский брак</td>\n",
       "      <td>1</td>\n",
       "      <td>M</td>\n",
       "      <td>компаньон</td>\n",
       "      <td>0</td>\n",
       "      <td>255763.565419</td>\n",
       "      <td>покупка жилья</td>\n",
       "    </tr>\n",
       "    <tr>\n",
       "      <th>6</th>\n",
       "      <td>0</td>\n",
       "      <td>-2879.202052</td>\n",
       "      <td>43</td>\n",
       "      <td>высшее</td>\n",
       "      <td>0</td>\n",
       "      <td>женат / замужем</td>\n",
       "      <td>0</td>\n",
       "      <td>F</td>\n",
       "      <td>компаньон</td>\n",
       "      <td>0</td>\n",
       "      <td>240525.971920</td>\n",
       "      <td>операции с жильем</td>\n",
       "    </tr>\n",
       "    <tr>\n",
       "      <th>7</th>\n",
       "      <td>0</td>\n",
       "      <td>-152.779569</td>\n",
       "      <td>50</td>\n",
       "      <td>СРЕДНЕЕ</td>\n",
       "      <td>1</td>\n",
       "      <td>женат / замужем</td>\n",
       "      <td>0</td>\n",
       "      <td>M</td>\n",
       "      <td>сотрудник</td>\n",
       "      <td>0</td>\n",
       "      <td>135823.934197</td>\n",
       "      <td>образование</td>\n",
       "    </tr>\n",
       "    <tr>\n",
       "      <th>8</th>\n",
       "      <td>2</td>\n",
       "      <td>-6929.865299</td>\n",
       "      <td>35</td>\n",
       "      <td>ВЫСШЕЕ</td>\n",
       "      <td>0</td>\n",
       "      <td>гражданский брак</td>\n",
       "      <td>1</td>\n",
       "      <td>F</td>\n",
       "      <td>сотрудник</td>\n",
       "      <td>0</td>\n",
       "      <td>95856.832424</td>\n",
       "      <td>на проведение свадьбы</td>\n",
       "    </tr>\n",
       "    <tr>\n",
       "      <th>9</th>\n",
       "      <td>0</td>\n",
       "      <td>-2188.756445</td>\n",
       "      <td>41</td>\n",
       "      <td>среднее</td>\n",
       "      <td>1</td>\n",
       "      <td>женат / замужем</td>\n",
       "      <td>0</td>\n",
       "      <td>M</td>\n",
       "      <td>сотрудник</td>\n",
       "      <td>0</td>\n",
       "      <td>144425.938277</td>\n",
       "      <td>покупка жилья для семьи</td>\n",
       "    </tr>\n",
       "    <tr>\n",
       "      <th>10</th>\n",
       "      <td>2</td>\n",
       "      <td>-4171.483647</td>\n",
       "      <td>36</td>\n",
       "      <td>высшее</td>\n",
       "      <td>0</td>\n",
       "      <td>женат / замужем</td>\n",
       "      <td>0</td>\n",
       "      <td>M</td>\n",
       "      <td>компаньон</td>\n",
       "      <td>0</td>\n",
       "      <td>113943.491460</td>\n",
       "      <td>покупка недвижимости</td>\n",
       "    </tr>\n",
       "    <tr>\n",
       "      <th>11</th>\n",
       "      <td>0</td>\n",
       "      <td>-792.701887</td>\n",
       "      <td>40</td>\n",
       "      <td>среднее</td>\n",
       "      <td>1</td>\n",
       "      <td>женат / замужем</td>\n",
       "      <td>0</td>\n",
       "      <td>F</td>\n",
       "      <td>сотрудник</td>\n",
       "      <td>0</td>\n",
       "      <td>77069.234271</td>\n",
       "      <td>покупка коммерческой недвижимости</td>\n",
       "    </tr>\n",
       "    <tr>\n",
       "      <th>12</th>\n",
       "      <td>0</td>\n",
       "      <td>NaN</td>\n",
       "      <td>65</td>\n",
       "      <td>среднее</td>\n",
       "      <td>1</td>\n",
       "      <td>гражданский брак</td>\n",
       "      <td>1</td>\n",
       "      <td>M</td>\n",
       "      <td>пенсионер</td>\n",
       "      <td>0</td>\n",
       "      <td>NaN</td>\n",
       "      <td>сыграть свадьбу</td>\n",
       "    </tr>\n",
       "    <tr>\n",
       "      <th>13</th>\n",
       "      <td>0</td>\n",
       "      <td>-1846.641941</td>\n",
       "      <td>54</td>\n",
       "      <td>неоконченное высшее</td>\n",
       "      <td>2</td>\n",
       "      <td>женат / замужем</td>\n",
       "      <td>0</td>\n",
       "      <td>F</td>\n",
       "      <td>сотрудник</td>\n",
       "      <td>0</td>\n",
       "      <td>130458.228857</td>\n",
       "      <td>приобретение автомобиля</td>\n",
       "    </tr>\n",
       "    <tr>\n",
       "      <th>14</th>\n",
       "      <td>0</td>\n",
       "      <td>-1844.956182</td>\n",
       "      <td>56</td>\n",
       "      <td>высшее</td>\n",
       "      <td>0</td>\n",
       "      <td>гражданский брак</td>\n",
       "      <td>1</td>\n",
       "      <td>F</td>\n",
       "      <td>компаньон</td>\n",
       "      <td>1</td>\n",
       "      <td>165127.911772</td>\n",
       "      <td>покупка жилой недвижимости</td>\n",
       "    </tr>\n",
       "    <tr>\n",
       "      <th>15</th>\n",
       "      <td>1</td>\n",
       "      <td>-972.364419</td>\n",
       "      <td>26</td>\n",
       "      <td>среднее</td>\n",
       "      <td>1</td>\n",
       "      <td>женат / замужем</td>\n",
       "      <td>0</td>\n",
       "      <td>F</td>\n",
       "      <td>сотрудник</td>\n",
       "      <td>0</td>\n",
       "      <td>116820.904450</td>\n",
       "      <td>строительство собственной недвижимости</td>\n",
       "    </tr>\n",
       "    <tr>\n",
       "      <th>16</th>\n",
       "      <td>0</td>\n",
       "      <td>-1719.934226</td>\n",
       "      <td>35</td>\n",
       "      <td>среднее</td>\n",
       "      <td>1</td>\n",
       "      <td>женат / замужем</td>\n",
       "      <td>0</td>\n",
       "      <td>F</td>\n",
       "      <td>сотрудник</td>\n",
       "      <td>0</td>\n",
       "      <td>289202.704229</td>\n",
       "      <td>недвижимость</td>\n",
       "    </tr>\n",
       "    <tr>\n",
       "      <th>17</th>\n",
       "      <td>0</td>\n",
       "      <td>-2369.999720</td>\n",
       "      <td>33</td>\n",
       "      <td>высшее</td>\n",
       "      <td>0</td>\n",
       "      <td>гражданский брак</td>\n",
       "      <td>1</td>\n",
       "      <td>M</td>\n",
       "      <td>сотрудник</td>\n",
       "      <td>0</td>\n",
       "      <td>90410.586745</td>\n",
       "      <td>строительство недвижимости</td>\n",
       "    </tr>\n",
       "    <tr>\n",
       "      <th>18</th>\n",
       "      <td>0</td>\n",
       "      <td>400281.136913</td>\n",
       "      <td>53</td>\n",
       "      <td>среднее</td>\n",
       "      <td>1</td>\n",
       "      <td>вдовец / вдова</td>\n",
       "      <td>2</td>\n",
       "      <td>F</td>\n",
       "      <td>пенсионер</td>\n",
       "      <td>0</td>\n",
       "      <td>56823.777243</td>\n",
       "      <td>на покупку подержанного автомобиля</td>\n",
       "    </tr>\n",
       "    <tr>\n",
       "      <th>19</th>\n",
       "      <td>0</td>\n",
       "      <td>-10038.818549</td>\n",
       "      <td>48</td>\n",
       "      <td>СРЕДНЕЕ</td>\n",
       "      <td>1</td>\n",
       "      <td>в разводе</td>\n",
       "      <td>3</td>\n",
       "      <td>F</td>\n",
       "      <td>сотрудник</td>\n",
       "      <td>0</td>\n",
       "      <td>242831.107982</td>\n",
       "      <td>на покупку своего автомобиля</td>\n",
       "    </tr>\n",
       "  </tbody>\n",
       "</table>\n",
       "</div>"
      ],
      "text/plain": [
       "    children  days_employed  dob_years            education  education_id  \\\n",
       "0          1   -8437.673028         42               высшее             0   \n",
       "1          1   -4024.803754         36              среднее             1   \n",
       "2          0   -5623.422610         33              Среднее             1   \n",
       "3          3   -4124.747207         32              среднее             1   \n",
       "4          0  340266.072047         53              среднее             1   \n",
       "5          0    -926.185831         27               высшее             0   \n",
       "6          0   -2879.202052         43               высшее             0   \n",
       "7          0    -152.779569         50              СРЕДНЕЕ             1   \n",
       "8          2   -6929.865299         35               ВЫСШЕЕ             0   \n",
       "9          0   -2188.756445         41              среднее             1   \n",
       "10         2   -4171.483647         36               высшее             0   \n",
       "11         0    -792.701887         40              среднее             1   \n",
       "12         0            NaN         65              среднее             1   \n",
       "13         0   -1846.641941         54  неоконченное высшее             2   \n",
       "14         0   -1844.956182         56               высшее             0   \n",
       "15         1    -972.364419         26              среднее             1   \n",
       "16         0   -1719.934226         35              среднее             1   \n",
       "17         0   -2369.999720         33               высшее             0   \n",
       "18         0  400281.136913         53              среднее             1   \n",
       "19         0  -10038.818549         48              СРЕДНЕЕ             1   \n",
       "\n",
       "       family_status  family_status_id gender income_type  debt  \\\n",
       "0    женат / замужем                 0      F   сотрудник     0   \n",
       "1    женат / замужем                 0      F   сотрудник     0   \n",
       "2    женат / замужем                 0      M   сотрудник     0   \n",
       "3    женат / замужем                 0      M   сотрудник     0   \n",
       "4   гражданский брак                 1      F   пенсионер     0   \n",
       "5   гражданский брак                 1      M   компаньон     0   \n",
       "6    женат / замужем                 0      F   компаньон     0   \n",
       "7    женат / замужем                 0      M   сотрудник     0   \n",
       "8   гражданский брак                 1      F   сотрудник     0   \n",
       "9    женат / замужем                 0      M   сотрудник     0   \n",
       "10   женат / замужем                 0      M   компаньон     0   \n",
       "11   женат / замужем                 0      F   сотрудник     0   \n",
       "12  гражданский брак                 1      M   пенсионер     0   \n",
       "13   женат / замужем                 0      F   сотрудник     0   \n",
       "14  гражданский брак                 1      F   компаньон     1   \n",
       "15   женат / замужем                 0      F   сотрудник     0   \n",
       "16   женат / замужем                 0      F   сотрудник     0   \n",
       "17  гражданский брак                 1      M   сотрудник     0   \n",
       "18    вдовец / вдова                 2      F   пенсионер     0   \n",
       "19         в разводе                 3      F   сотрудник     0   \n",
       "\n",
       "     total_income                                 purpose  \n",
       "0   253875.639453                           покупка жилья  \n",
       "1   112080.014102                 приобретение автомобиля  \n",
       "2   145885.952297                           покупка жилья  \n",
       "3   267628.550329              дополнительное образование  \n",
       "4   158616.077870                         сыграть свадьбу  \n",
       "5   255763.565419                           покупка жилья  \n",
       "6   240525.971920                       операции с жильем  \n",
       "7   135823.934197                             образование  \n",
       "8    95856.832424                   на проведение свадьбы  \n",
       "9   144425.938277                 покупка жилья для семьи  \n",
       "10  113943.491460                    покупка недвижимости  \n",
       "11   77069.234271       покупка коммерческой недвижимости  \n",
       "12            NaN                         сыграть свадьбу  \n",
       "13  130458.228857                 приобретение автомобиля  \n",
       "14  165127.911772              покупка жилой недвижимости  \n",
       "15  116820.904450  строительство собственной недвижимости  \n",
       "16  289202.704229                            недвижимость  \n",
       "17   90410.586745              строительство недвижимости  \n",
       "18   56823.777243      на покупку подержанного автомобиля  \n",
       "19  242831.107982            на покупку своего автомобиля  "
      ]
     },
     "execution_count": 2,
     "metadata": {},
     "output_type": "execute_result"
    }
   ],
   "source": [
    "data.head(20)"
   ]
  },
  {
   "cell_type": "markdown",
   "id": "c313d409",
   "metadata": {
    "id": "1c12e233"
   },
   "source": [
    "**3. Выведем основную информацию о датафрейме с помощью метода `info()`.**"
   ]
  },
  {
   "cell_type": "code",
   "execution_count": 3,
   "id": "9f5e0e23",
   "metadata": {
    "id": "2b757bca",
    "outputId": "15376089-8dad-46c9-b520-c05248d43158"
   },
   "outputs": [
    {
     "name": "stdout",
     "output_type": "stream",
     "text": [
      "<class 'pandas.core.frame.DataFrame'>\n",
      "RangeIndex: 21525 entries, 0 to 21524\n",
      "Data columns (total 12 columns):\n",
      " #   Column            Non-Null Count  Dtype  \n",
      "---  ------            --------------  -----  \n",
      " 0   children          21525 non-null  int64  \n",
      " 1   days_employed     19351 non-null  float64\n",
      " 2   dob_years         21525 non-null  int64  \n",
      " 3   education         21525 non-null  object \n",
      " 4   education_id      21525 non-null  int64  \n",
      " 5   family_status     21525 non-null  object \n",
      " 6   family_status_id  21525 non-null  int64  \n",
      " 7   gender            21525 non-null  object \n",
      " 8   income_type       21525 non-null  object \n",
      " 9   debt              21525 non-null  int64  \n",
      " 10  total_income      19351 non-null  float64\n",
      " 11  purpose           21525 non-null  object \n",
      "dtypes: float64(2), int64(5), object(5)\n",
      "memory usage: 2.0+ MB\n"
     ]
    }
   ],
   "source": [
    "data.info()"
   ]
  },
  {
   "cell_type": "markdown",
   "id": "c89401e3",
   "metadata": {
    "id": "333ec665"
   },
   "source": [
    "## Предобработка данных"
   ]
  },
  {
   "cell_type": "markdown",
   "id": "52d82516",
   "metadata": {
    "id": "02d92d53"
   },
   "source": [
    "### Удаление пропусков"
   ]
  },
  {
   "cell_type": "markdown",
   "id": "faf64e49",
   "metadata": {
    "id": "cd84967c"
   },
   "source": [
    "**4. Выведем количество пропущенных значений для каждого столбца.**"
   ]
  },
  {
   "cell_type": "code",
   "execution_count": 4,
   "id": "5893c27f",
   "metadata": {
    "id": "7f9b2309",
    "outputId": "81f4d817-781c-465c-ed15-91ce4446810d"
   },
   "outputs": [
    {
     "data": {
      "text/plain": [
       "children               0\n",
       "days_employed       2174\n",
       "dob_years              0\n",
       "education              0\n",
       "education_id           0\n",
       "family_status          0\n",
       "family_status_id       0\n",
       "gender                 0\n",
       "income_type            0\n",
       "debt                   0\n",
       "total_income        2174\n",
       "purpose                0\n",
       "dtype: int64"
      ]
     },
     "execution_count": 4,
     "metadata": {},
     "output_type": "execute_result"
    }
   ],
   "source": [
    "data.isna().sum()"
   ]
  },
  {
   "cell_type": "markdown",
   "id": "d8982d30",
   "metadata": {
    "id": "db86e27b"
   },
   "source": [
    "**5. На сумму дохода сильнее всего влияет тип занятости, поэтому заполнить пропуски в этом столбце нужно медианным значением по каждому типу из столбца `income_type`.**"
   ]
  },
  {
   "cell_type": "code",
   "execution_count": 5,
   "id": "3ba3fc11",
   "metadata": {
    "id": "42006a93"
   },
   "outputs": [],
   "source": [
    "for t in data['income_type'].unique():\n",
    "    data.loc[(data['income_type'] == t) & (data['total_income'].isna()), 'total_income'] = \\\n",
    "    data.loc[(data['income_type'] == t), 'total_income'].median()"
   ]
  },
  {
   "cell_type": "markdown",
   "id": "1920edc8",
   "metadata": {
    "id": "89da5ece"
   },
   "source": [
    "### Обработка аномальных значений"
   ]
  },
  {
   "cell_type": "markdown",
   "id": "bfda397f",
   "metadata": {
    "id": "57964554"
   },
   "source": [
    "**6. В данных могут встречаться артефакты (аномалии) — значения, которые не отражают действительность и появились по какой-то ошибке. таким артефактом будет отрицательное количество дней трудового стажа в столбце `days_employed`. Обработаем значения в этом столбце: заменим все отрицательные значения положительными с помощью метода `abs()`.**"
   ]
  },
  {
   "cell_type": "code",
   "execution_count": 6,
   "id": "51c89ed8",
   "metadata": {
    "id": "f6f055bf"
   },
   "outputs": [],
   "source": [
    "data['days_employed'] = data['days_employed'].abs()"
   ]
  },
  {
   "cell_type": "markdown",
   "id": "a4ca6b6d",
   "metadata": {
    "id": "6107dd2f"
   },
   "source": [
    "**7. Для каждого типа занятости выведем медианное значение трудового стажа `days_employed` в днях.**"
   ]
  },
  {
   "cell_type": "code",
   "execution_count": 7,
   "id": "89e39b35",
   "metadata": {
    "id": "85a5faf6",
    "outputId": "801ef80e-522b-4668-f34e-565af7432bcf"
   },
   "outputs": [
    {
     "data": {
      "text/plain": [
       "income_type\n",
       "безработный        366413.652744\n",
       "в декрете            3296.759962\n",
       "госслужащий          2689.368353\n",
       "компаньон            1547.382223\n",
       "пенсионер          365213.306266\n",
       "предприниматель       520.848083\n",
       "сотрудник            1574.202821\n",
       "студент               578.751554\n",
       "Name: days_employed, dtype: float64"
      ]
     },
     "execution_count": 7,
     "metadata": {},
     "output_type": "execute_result"
    }
   ],
   "source": [
    "data.groupby('income_type')['days_employed'].agg('median')"
   ]
  },
  {
   "cell_type": "markdown",
   "id": "50f96728",
   "metadata": {
    "id": "38d1a030"
   },
   "source": [
    "У двух типов (безработные и пенсионеры) получатся аномально большие значения. Исправить такие значения сложно, поэтому оставим их как есть. Тем более этот столбец не понадобится нам для исследования."
   ]
  },
  {
   "cell_type": "markdown",
   "id": "397178be",
   "metadata": {
    "id": "d8a9f147"
   },
   "source": [
    "**8. Выведем перечень уникальных значений столбца `children`.**"
   ]
  },
  {
   "cell_type": "code",
   "execution_count": 8,
   "id": "df819731",
   "metadata": {
    "id": "ef5056eb",
    "outputId": "6975b15c-7f95-4697-d16d-a0c79b657b03"
   },
   "outputs": [
    {
     "data": {
      "text/plain": [
       "array([ 1,  0,  3,  2, -1,  4, 20,  5])"
      ]
     },
     "execution_count": 8,
     "metadata": {},
     "output_type": "execute_result"
    }
   ],
   "source": [
    "data['children'].unique()"
   ]
  },
  {
   "cell_type": "markdown",
   "id": "a2156aa2",
   "metadata": {
    "id": "40b9ebf2"
   },
   "source": [
    "**9. В столбце `children` есть два аномальных значения. Удалим строки, в которых встречаются такие аномальные значения из датафрейма `data`.**"
   ]
  },
  {
   "cell_type": "code",
   "execution_count": 9,
   "id": "464cbba5",
   "metadata": {
    "id": "3ff9801d"
   },
   "outputs": [],
   "source": [
    "data = data[(data['children'] != -1) & (data['children'] != 20)]"
   ]
  },
  {
   "cell_type": "markdown",
   "id": "ae455c9c",
   "metadata": {
    "id": "bbc4d0ce"
   },
   "source": [
    "**10. Ещё раз выведем перечень уникальных значений столбца `children`, чтобы убедиться, что артефакты удалены.**"
   ]
  },
  {
   "cell_type": "code",
   "execution_count": 10,
   "id": "9848a262",
   "metadata": {
    "id": "ad4fa8b7",
    "outputId": "b2097101-d49d-44d9-901b-32a65c9463d1"
   },
   "outputs": [
    {
     "data": {
      "text/plain": [
       "array([1, 0, 3, 2, 4, 5])"
      ]
     },
     "execution_count": 10,
     "metadata": {},
     "output_type": "execute_result"
    }
   ],
   "source": [
    "data['children'].unique()"
   ]
  },
  {
   "cell_type": "markdown",
   "id": "340c8ba8",
   "metadata": {
    "id": "75440b63"
   },
   "source": [
    "### Удаление пропусков (продолжение)"
   ]
  },
  {
   "cell_type": "markdown",
   "id": "bc329ff0",
   "metadata": {
    "id": "f4ea573f"
   },
   "source": [
    "**11. Заполним пропуски в столбце `days_employed` медианными значениями по каждому типу занятости `income_type`.**"
   ]
  },
  {
   "cell_type": "code",
   "execution_count": 11,
   "id": "29e12f01",
   "metadata": {
    "id": "af6b1a7e"
   },
   "outputs": [],
   "source": [
    "for t in data['income_type'].unique():\n",
    "    data.loc[(data['income_type'] == t) & (data['days_employed'].isna()), 'days_employed'] = \\\n",
    "    data.loc[(data['income_type'] == t), 'days_employed'].median()"
   ]
  },
  {
   "cell_type": "markdown",
   "id": "6892d65c",
   "metadata": {
    "id": "2753f40d"
   },
   "source": [
    "**12. Убедимся, что все пропуски заполнены.**"
   ]
  },
  {
   "cell_type": "code",
   "execution_count": 12,
   "id": "d3058229",
   "metadata": {
    "id": "55f78bc2",
    "outputId": "8da1e4e1-358e-4e87-98c9-f261bce0a7b2"
   },
   "outputs": [
    {
     "data": {
      "text/plain": [
       "children            0\n",
       "days_employed       0\n",
       "dob_years           0\n",
       "education           0\n",
       "education_id        0\n",
       "family_status       0\n",
       "family_status_id    0\n",
       "gender              0\n",
       "income_type         0\n",
       "debt                0\n",
       "total_income        0\n",
       "purpose             0\n",
       "dtype: int64"
      ]
     },
     "execution_count": 12,
     "metadata": {},
     "output_type": "execute_result"
    }
   ],
   "source": [
    "data.isna().sum()"
   ]
  },
  {
   "cell_type": "markdown",
   "id": "76abd542",
   "metadata": {
    "id": "ddc81e43"
   },
   "source": [
    "### Изменение типов данных"
   ]
  },
  {
   "cell_type": "markdown",
   "id": "edc4f30c",
   "metadata": {
    "id": "42d19d24"
   },
   "source": [
    "**13. Заменим вещественный тип данных в столбце `total_income` на целочисленный с помощью метода `astype()`.**"
   ]
  },
  {
   "cell_type": "code",
   "execution_count": 13,
   "id": "74468265",
   "metadata": {
    "deletable": false,
    "id": "920b65ad"
   },
   "outputs": [],
   "source": [
    "data['total_income'] = data['total_income'].astype(int)"
   ]
  },
  {
   "cell_type": "markdown",
   "id": "6501b9f9",
   "metadata": {
    "id": "80c420ba"
   },
   "source": [
    "### Обработка дубликатов"
   ]
  },
  {
   "cell_type": "markdown",
   "id": "bb28cea6",
   "metadata": {},
   "source": [
    "**14. Обработаем неявные дубликаты в столбце `education`. В этом столбце есть одни и те же значения, но записанные по-разному: с использованием заглавных и строчных букв. Приведем их к нижнему регистру.**"
   ]
  },
  {
   "cell_type": "code",
   "execution_count": 14,
   "id": "5a7fa962",
   "metadata": {},
   "outputs": [],
   "source": [
    "data['education'] = data['education'].str.lower()"
   ]
  },
  {
   "cell_type": "markdown",
   "id": "831e7dfe",
   "metadata": {
    "id": "dc587695"
   },
   "source": [
    "**15. Выведем на экран количество строк-дубликатов в данных. Если такие строки присутствуют, удалим их.**"
   ]
  },
  {
   "cell_type": "code",
   "execution_count": 15,
   "id": "90f68dfc",
   "metadata": {
    "id": "3ee445e4",
    "outputId": "9684deba-1934-42d1-99e1-cda61740f822"
   },
   "outputs": [
    {
     "data": {
      "text/plain": [
       "71"
      ]
     },
     "execution_count": 15,
     "metadata": {},
     "output_type": "execute_result"
    }
   ],
   "source": [
    "data.duplicated().sum()"
   ]
  },
  {
   "cell_type": "code",
   "execution_count": 16,
   "id": "e8ec6cc7",
   "metadata": {
    "id": "8575fe05"
   },
   "outputs": [],
   "source": [
    "data = data.drop_duplicates()"
   ]
  },
  {
   "cell_type": "markdown",
   "id": "3201a5fc",
   "metadata": {
    "id": "9904cf55"
   },
   "source": [
    "### Категоризация данных"
   ]
  },
  {
   "cell_type": "markdown",
   "id": "9bef0b21",
   "metadata": {
    "id": "72fcc8a2"
   },
   "source": [
    "**16. На основании диапазонов, указанных ниже, создадим в датафрейме `data` столбец `total_income_category` с категориями:**\n",
    "\n",
    "- 0–30000 — `'E'`;\n",
    "- 30001–50000 — `'D'`;\n",
    "- 50001–200000 — `'C'`;\n",
    "- 200001–1000000 — `'B'`;\n",
    "- 1000001 и выше — `'A'`."
   ]
  },
  {
   "cell_type": "code",
   "execution_count": 17,
   "id": "c3947913",
   "metadata": {
    "id": "e1771346"
   },
   "outputs": [],
   "source": [
    "def categorize_income(income):\n",
    "    try:\n",
    "        if 0 <= income <= 30000:\n",
    "            return 'E'\n",
    "        elif 30001 <= income <= 50000:\n",
    "            return 'D'\n",
    "        elif 50001 <= income <= 200000:\n",
    "            return 'C'\n",
    "        elif 200001 <= income <= 1000000:\n",
    "            return 'B'\n",
    "        elif income >= 1000001:\n",
    "            return 'A'\n",
    "    except:\n",
    "        pass"
   ]
  },
  {
   "cell_type": "code",
   "execution_count": 18,
   "id": "917cf41a",
   "metadata": {
    "id": "d5f3586d"
   },
   "outputs": [],
   "source": [
    "data['total_income_category'] = data['total_income'].apply(categorize_income)"
   ]
  },
  {
   "cell_type": "markdown",
   "id": "87b9b797",
   "metadata": {
    "id": "dde49b5c"
   },
   "source": [
    "**17. Выведем на экран перечень уникальных целей взятия кредита из столбца `purpose`.**"
   ]
  },
  {
   "cell_type": "code",
   "execution_count": 19,
   "id": "085a3732",
   "metadata": {
    "id": "f67ce9b3",
    "outputId": "673c12d9-7d7e-4ae0-9812-c622c89dd244"
   },
   "outputs": [
    {
     "data": {
      "text/plain": [
       "array(['покупка жилья', 'приобретение автомобиля',\n",
       "       'дополнительное образование', 'сыграть свадьбу',\n",
       "       'операции с жильем', 'образование', 'на проведение свадьбы',\n",
       "       'покупка жилья для семьи', 'покупка недвижимости',\n",
       "       'покупка коммерческой недвижимости', 'покупка жилой недвижимости',\n",
       "       'строительство собственной недвижимости', 'недвижимость',\n",
       "       'строительство недвижимости', 'на покупку подержанного автомобиля',\n",
       "       'на покупку своего автомобиля',\n",
       "       'операции с коммерческой недвижимостью',\n",
       "       'строительство жилой недвижимости', 'жилье',\n",
       "       'операции со своей недвижимостью', 'автомобили',\n",
       "       'заняться образованием', 'сделка с подержанным автомобилем',\n",
       "       'получение образования', 'автомобиль', 'свадьба',\n",
       "       'получение дополнительного образования', 'покупка своего жилья',\n",
       "       'операции с недвижимостью', 'получение высшего образования',\n",
       "       'свой автомобиль', 'сделка с автомобилем',\n",
       "       'профильное образование', 'высшее образование',\n",
       "       'покупка жилья для сдачи', 'на покупку автомобиля', 'ремонт жилью',\n",
       "       'заняться высшим образованием'], dtype=object)"
      ]
     },
     "execution_count": 19,
     "metadata": {},
     "output_type": "execute_result"
    }
   ],
   "source": [
    "data['purpose'].unique()"
   ]
  },
  {
   "cell_type": "markdown",
   "id": "7be9b9f9",
   "metadata": {
    "id": "85d0aef0"
   },
   "source": [
    "**18. Создадим функцию, которая на основании данных из столбца `purpose` сформирует новый столбец `purpose_category`, в который войдут следующие категории:**\n",
    "\n",
    "- `'операции с автомобилем'`,\n",
    "- `'операции с недвижимостью'`,\n",
    "- `'проведение свадьбы'`,\n",
    "- `'получение образования'`."
   ]
  },
  {
   "cell_type": "code",
   "execution_count": 20,
   "id": "54f18458",
   "metadata": {
    "id": "e149fab4"
   },
   "outputs": [],
   "source": [
    "def categorize_purpose(row):\n",
    "    try:\n",
    "        if 'автом' in row:\n",
    "            return 'операции с автомобилем'\n",
    "        elif 'жил' in row or 'недвиж' in row:\n",
    "            return 'операции с недвижимостью'\n",
    "        elif 'свад' in row:\n",
    "            return 'проведение свадьбы'\n",
    "        elif 'образов' in row:\n",
    "            return 'получение образования'\n",
    "    except:\n",
    "        return 'нет категории'"
   ]
  },
  {
   "cell_type": "code",
   "execution_count": 21,
   "id": "0b3bf4d7",
   "metadata": {
    "id": "bf36e69b"
   },
   "outputs": [],
   "source": [
    "data['purpose_category'] = data['purpose'].apply(categorize_purpose)"
   ]
  },
  {
   "cell_type": "markdown",
   "id": "0db64548",
   "metadata": {
    "id": "09b242bf"
   },
   "source": [
    "### Шаг 3. Исследуем данные и отвечаем на вопросы"
   ]
  },
  {
   "cell_type": "markdown",
   "id": "7de890a9",
   "metadata": {
    "id": "c5d66278"
   },
   "source": [
    "#### 3.1 Есть ли зависимость между количеством детей и возвратом кредита в срок?"
   ]
  },
  {
   "cell_type": "code",
   "execution_count": 22,
   "id": "01ef2cb9",
   "metadata": {
    "id": "2cacfc4a"
   },
   "outputs": [
    {
     "name": "stdout",
     "output_type": "stream",
     "text": [
      "Requirement already satisfied: phik in /opt/conda/lib/python3.9/site-packages (0.12.2)\n",
      "Requirement already satisfied: pandas>=0.25.1 in /opt/conda/lib/python3.9/site-packages (from phik) (1.2.4)\n",
      "Requirement already satisfied: scipy>=1.5.2 in /opt/conda/lib/python3.9/site-packages (from phik) (1.8.0)\n",
      "Requirement already satisfied: matplotlib>=2.2.3 in /opt/conda/lib/python3.9/site-packages (from phik) (3.3.4)\n",
      "Requirement already satisfied: joblib>=0.14.1 in /opt/conda/lib/python3.9/site-packages (from phik) (1.1.0)\n",
      "Requirement already satisfied: numpy>=1.18.0 in /opt/conda/lib/python3.9/site-packages (from phik) (1.21.1)\n",
      "Requirement already satisfied: python-dateutil>=2.1 in /opt/conda/lib/python3.9/site-packages (from matplotlib>=2.2.3->phik) (2.8.1)\n",
      "Requirement already satisfied: cycler>=0.10 in /opt/conda/lib/python3.9/site-packages (from matplotlib>=2.2.3->phik) (0.11.0)\n",
      "Requirement already satisfied: kiwisolver>=1.0.1 in /opt/conda/lib/python3.9/site-packages (from matplotlib>=2.2.3->phik) (1.4.2)\n",
      "Requirement already satisfied: pyparsing!=2.0.4,!=2.1.2,!=2.1.6,>=2.0.3 in /opt/conda/lib/python3.9/site-packages (from matplotlib>=2.2.3->phik) (2.4.7)\n",
      "Requirement already satisfied: pillow>=6.2.0 in /opt/conda/lib/python3.9/site-packages (from matplotlib>=2.2.3->phik) (8.4.0)\n",
      "Requirement already satisfied: pytz>=2017.3 in /opt/conda/lib/python3.9/site-packages (from pandas>=0.25.1->phik) (2021.1)\n",
      "Requirement already satisfied: six>=1.5 in /opt/conda/lib/python3.9/site-packages (from python-dateutil>=2.1->matplotlib>=2.2.3->phik) (1.16.0)\n"
     ]
    }
   ],
   "source": [
    "# Ваш код будет здесь. Вы можете создавать новые ячейки.\n",
    "# Подготовим инструменты для дальнейшего использования\n",
    "!pip install phik\n",
    "import phik\n",
    "import numpy as np\n",
    "import matplotlib.pyplot as plt\n",
    "import seaborn as sns"
   ]
  },
  {
   "cell_type": "code",
   "execution_count": 23,
   "id": "1367a878",
   "metadata": {},
   "outputs": [
    {
     "data": {
      "text/html": [
       "<div>\n",
       "<style scoped>\n",
       "    .dataframe tbody tr th:only-of-type {\n",
       "        vertical-align: middle;\n",
       "    }\n",
       "\n",
       "    .dataframe tbody tr th {\n",
       "        vertical-align: top;\n",
       "    }\n",
       "\n",
       "    .dataframe thead th {\n",
       "        text-align: right;\n",
       "    }\n",
       "</style>\n",
       "<table border=\"1\" class=\"dataframe\">\n",
       "  <thead>\n",
       "    <tr style=\"text-align: right;\">\n",
       "      <th></th>\n",
       "      <th>children</th>\n",
       "      <th>days_employed</th>\n",
       "      <th>dob_years</th>\n",
       "      <th>education</th>\n",
       "      <th>education_id</th>\n",
       "      <th>family_status</th>\n",
       "      <th>family_status_id</th>\n",
       "      <th>gender</th>\n",
       "      <th>income_type</th>\n",
       "      <th>debt</th>\n",
       "      <th>total_income</th>\n",
       "      <th>purpose</th>\n",
       "      <th>total_income_category</th>\n",
       "      <th>purpose_category</th>\n",
       "    </tr>\n",
       "  </thead>\n",
       "  <tbody>\n",
       "    <tr>\n",
       "      <th>0</th>\n",
       "      <td>1</td>\n",
       "      <td>8437.673028</td>\n",
       "      <td>42</td>\n",
       "      <td>высшее</td>\n",
       "      <td>0</td>\n",
       "      <td>женат / замужем</td>\n",
       "      <td>0</td>\n",
       "      <td>F</td>\n",
       "      <td>сотрудник</td>\n",
       "      <td>0</td>\n",
       "      <td>253875</td>\n",
       "      <td>покупка жилья</td>\n",
       "      <td>B</td>\n",
       "      <td>операции с недвижимостью</td>\n",
       "    </tr>\n",
       "    <tr>\n",
       "      <th>1</th>\n",
       "      <td>1</td>\n",
       "      <td>4024.803754</td>\n",
       "      <td>36</td>\n",
       "      <td>среднее</td>\n",
       "      <td>1</td>\n",
       "      <td>женат / замужем</td>\n",
       "      <td>0</td>\n",
       "      <td>F</td>\n",
       "      <td>сотрудник</td>\n",
       "      <td>0</td>\n",
       "      <td>112080</td>\n",
       "      <td>приобретение автомобиля</td>\n",
       "      <td>C</td>\n",
       "      <td>операции с автомобилем</td>\n",
       "    </tr>\n",
       "    <tr>\n",
       "      <th>2</th>\n",
       "      <td>0</td>\n",
       "      <td>5623.422610</td>\n",
       "      <td>33</td>\n",
       "      <td>среднее</td>\n",
       "      <td>1</td>\n",
       "      <td>женат / замужем</td>\n",
       "      <td>0</td>\n",
       "      <td>M</td>\n",
       "      <td>сотрудник</td>\n",
       "      <td>0</td>\n",
       "      <td>145885</td>\n",
       "      <td>покупка жилья</td>\n",
       "      <td>C</td>\n",
       "      <td>операции с недвижимостью</td>\n",
       "    </tr>\n",
       "    <tr>\n",
       "      <th>3</th>\n",
       "      <td>3</td>\n",
       "      <td>4124.747207</td>\n",
       "      <td>32</td>\n",
       "      <td>среднее</td>\n",
       "      <td>1</td>\n",
       "      <td>женат / замужем</td>\n",
       "      <td>0</td>\n",
       "      <td>M</td>\n",
       "      <td>сотрудник</td>\n",
       "      <td>0</td>\n",
       "      <td>267628</td>\n",
       "      <td>дополнительное образование</td>\n",
       "      <td>B</td>\n",
       "      <td>получение образования</td>\n",
       "    </tr>\n",
       "    <tr>\n",
       "      <th>4</th>\n",
       "      <td>0</td>\n",
       "      <td>340266.072047</td>\n",
       "      <td>53</td>\n",
       "      <td>среднее</td>\n",
       "      <td>1</td>\n",
       "      <td>гражданский брак</td>\n",
       "      <td>1</td>\n",
       "      <td>F</td>\n",
       "      <td>пенсионер</td>\n",
       "      <td>0</td>\n",
       "      <td>158616</td>\n",
       "      <td>сыграть свадьбу</td>\n",
       "      <td>C</td>\n",
       "      <td>проведение свадьбы</td>\n",
       "    </tr>\n",
       "    <tr>\n",
       "      <th>...</th>\n",
       "      <td>...</td>\n",
       "      <td>...</td>\n",
       "      <td>...</td>\n",
       "      <td>...</td>\n",
       "      <td>...</td>\n",
       "      <td>...</td>\n",
       "      <td>...</td>\n",
       "      <td>...</td>\n",
       "      <td>...</td>\n",
       "      <td>...</td>\n",
       "      <td>...</td>\n",
       "      <td>...</td>\n",
       "      <td>...</td>\n",
       "      <td>...</td>\n",
       "    </tr>\n",
       "    <tr>\n",
       "      <th>21520</th>\n",
       "      <td>1</td>\n",
       "      <td>4529.316663</td>\n",
       "      <td>43</td>\n",
       "      <td>среднее</td>\n",
       "      <td>1</td>\n",
       "      <td>гражданский брак</td>\n",
       "      <td>1</td>\n",
       "      <td>F</td>\n",
       "      <td>компаньон</td>\n",
       "      <td>0</td>\n",
       "      <td>224791</td>\n",
       "      <td>операции с жильем</td>\n",
       "      <td>B</td>\n",
       "      <td>операции с недвижимостью</td>\n",
       "    </tr>\n",
       "    <tr>\n",
       "      <th>21521</th>\n",
       "      <td>0</td>\n",
       "      <td>343937.404131</td>\n",
       "      <td>67</td>\n",
       "      <td>среднее</td>\n",
       "      <td>1</td>\n",
       "      <td>женат / замужем</td>\n",
       "      <td>0</td>\n",
       "      <td>F</td>\n",
       "      <td>пенсионер</td>\n",
       "      <td>0</td>\n",
       "      <td>155999</td>\n",
       "      <td>сделка с автомобилем</td>\n",
       "      <td>C</td>\n",
       "      <td>операции с автомобилем</td>\n",
       "    </tr>\n",
       "    <tr>\n",
       "      <th>21522</th>\n",
       "      <td>1</td>\n",
       "      <td>2113.346888</td>\n",
       "      <td>38</td>\n",
       "      <td>среднее</td>\n",
       "      <td>1</td>\n",
       "      <td>гражданский брак</td>\n",
       "      <td>1</td>\n",
       "      <td>M</td>\n",
       "      <td>сотрудник</td>\n",
       "      <td>1</td>\n",
       "      <td>89672</td>\n",
       "      <td>недвижимость</td>\n",
       "      <td>C</td>\n",
       "      <td>операции с недвижимостью</td>\n",
       "    </tr>\n",
       "    <tr>\n",
       "      <th>21523</th>\n",
       "      <td>3</td>\n",
       "      <td>3112.481705</td>\n",
       "      <td>38</td>\n",
       "      <td>среднее</td>\n",
       "      <td>1</td>\n",
       "      <td>женат / замужем</td>\n",
       "      <td>0</td>\n",
       "      <td>M</td>\n",
       "      <td>сотрудник</td>\n",
       "      <td>1</td>\n",
       "      <td>244093</td>\n",
       "      <td>на покупку своего автомобиля</td>\n",
       "      <td>B</td>\n",
       "      <td>операции с автомобилем</td>\n",
       "    </tr>\n",
       "    <tr>\n",
       "      <th>21524</th>\n",
       "      <td>2</td>\n",
       "      <td>1984.507589</td>\n",
       "      <td>40</td>\n",
       "      <td>среднее</td>\n",
       "      <td>1</td>\n",
       "      <td>женат / замужем</td>\n",
       "      <td>0</td>\n",
       "      <td>F</td>\n",
       "      <td>сотрудник</td>\n",
       "      <td>0</td>\n",
       "      <td>82047</td>\n",
       "      <td>на покупку автомобиля</td>\n",
       "      <td>C</td>\n",
       "      <td>операции с автомобилем</td>\n",
       "    </tr>\n",
       "  </tbody>\n",
       "</table>\n",
       "<p>21331 rows × 14 columns</p>\n",
       "</div>"
      ],
      "text/plain": [
       "       children  days_employed  dob_years education  education_id  \\\n",
       "0             1    8437.673028         42    высшее             0   \n",
       "1             1    4024.803754         36   среднее             1   \n",
       "2             0    5623.422610         33   среднее             1   \n",
       "3             3    4124.747207         32   среднее             1   \n",
       "4             0  340266.072047         53   среднее             1   \n",
       "...         ...            ...        ...       ...           ...   \n",
       "21520         1    4529.316663         43   среднее             1   \n",
       "21521         0  343937.404131         67   среднее             1   \n",
       "21522         1    2113.346888         38   среднее             1   \n",
       "21523         3    3112.481705         38   среднее             1   \n",
       "21524         2    1984.507589         40   среднее             1   \n",
       "\n",
       "          family_status  family_status_id gender income_type  debt  \\\n",
       "0       женат / замужем                 0      F   сотрудник     0   \n",
       "1       женат / замужем                 0      F   сотрудник     0   \n",
       "2       женат / замужем                 0      M   сотрудник     0   \n",
       "3       женат / замужем                 0      M   сотрудник     0   \n",
       "4      гражданский брак                 1      F   пенсионер     0   \n",
       "...                 ...               ...    ...         ...   ...   \n",
       "21520  гражданский брак                 1      F   компаньон     0   \n",
       "21521   женат / замужем                 0      F   пенсионер     0   \n",
       "21522  гражданский брак                 1      M   сотрудник     1   \n",
       "21523   женат / замужем                 0      M   сотрудник     1   \n",
       "21524   женат / замужем                 0      F   сотрудник     0   \n",
       "\n",
       "       total_income                       purpose total_income_category  \\\n",
       "0            253875                 покупка жилья                     B   \n",
       "1            112080       приобретение автомобиля                     C   \n",
       "2            145885                 покупка жилья                     C   \n",
       "3            267628    дополнительное образование                     B   \n",
       "4            158616               сыграть свадьбу                     C   \n",
       "...             ...                           ...                   ...   \n",
       "21520        224791             операции с жильем                     B   \n",
       "21521        155999          сделка с автомобилем                     C   \n",
       "21522         89672                  недвижимость                     C   \n",
       "21523        244093  на покупку своего автомобиля                     B   \n",
       "21524         82047         на покупку автомобиля                     C   \n",
       "\n",
       "               purpose_category  \n",
       "0      операции с недвижимостью  \n",
       "1        операции с автомобилем  \n",
       "2      операции с недвижимостью  \n",
       "3         получение образования  \n",
       "4            проведение свадьбы  \n",
       "...                         ...  \n",
       "21520  операции с недвижимостью  \n",
       "21521    операции с автомобилем  \n",
       "21522  операции с недвижимостью  \n",
       "21523    операции с автомобилем  \n",
       "21524    операции с автомобилем  \n",
       "\n",
       "[21331 rows x 14 columns]"
      ]
     },
     "execution_count": 23,
     "metadata": {},
     "output_type": "execute_result"
    }
   ],
   "source": [
    "# Повторно выведем датафрейм для наглядности\n",
    "df = data\n",
    "data"
   ]
  },
  {
   "cell_type": "markdown",
   "id": "465a61aa",
   "metadata": {},
   "source": [
    "Для начала оценим 𝜙k корреляцию для понимания общей картины взаимосвязей."
   ]
  },
  {
   "cell_type": "code",
   "execution_count": 24,
   "id": "2ada8972",
   "metadata": {},
   "outputs": [
    {
     "data": {
      "text/html": [
       "<style  type=\"text/css\" >\n",
       "#T_11895_row0_col1{\n",
       "            background-color:  #b40426;\n",
       "            color:  #f1f1f1;\n",
       "        }#T_11895_row1_col1{\n",
       "            background-color:  #f18f71;\n",
       "            color:  #000000;\n",
       "        }#T_11895_row2_col1{\n",
       "            background-color:  #dddcdc;\n",
       "            color:  #000000;\n",
       "        }#T_11895_row3_col1{\n",
       "            background-color:  #d2dbe8;\n",
       "            color:  #000000;\n",
       "        }#T_11895_row4_col1{\n",
       "            background-color:  #a1c0ff;\n",
       "            color:  #000000;\n",
       "        }#T_11895_row5_col1{\n",
       "            background-color:  #8db0fe;\n",
       "            color:  #000000;\n",
       "        }#T_11895_row6_col1{\n",
       "            background-color:  #88abfd;\n",
       "            color:  #000000;\n",
       "        }#T_11895_row7_col1{\n",
       "            background-color:  #6e90f2;\n",
       "            color:  #000000;\n",
       "        }#T_11895_row8_col1{\n",
       "            background-color:  #3d50c3;\n",
       "            color:  #f1f1f1;\n",
       "        }#T_11895_row9_col1{\n",
       "            background-color:  #3b4cc0;\n",
       "            color:  #f1f1f1;\n",
       "        }</style><table id=\"T_11895_\" ><thead>    <tr>        <th class=\"blank level0\" ></th>        <th class=\"col_heading level0 col0\" >index</th>        <th class=\"col_heading level0 col1\" >debt</th>    </tr></thead><tbody>\n",
       "                <tr>\n",
       "                        <th id=\"T_11895_level0_row0\" class=\"row_heading level0 row0\" >0</th>\n",
       "                        <td id=\"T_11895_row0_col0\" class=\"data row0 col0\" >income_type</td>\n",
       "                        <td id=\"T_11895_row0_col1\" class=\"data row0 col1\" >0.083525</td>\n",
       "            </tr>\n",
       "            <tr>\n",
       "                        <th id=\"T_11895_level0_row1\" class=\"row_heading level0 row1\" >1</th>\n",
       "                        <td id=\"T_11895_row1_col0\" class=\"data row1 col0\" >dob_years</td>\n",
       "                        <td id=\"T_11895_row1_col1\" class=\"data row1 col1\" >0.068599</td>\n",
       "            </tr>\n",
       "            <tr>\n",
       "                        <th id=\"T_11895_level0_row2\" class=\"row_heading level0 row2\" >2</th>\n",
       "                        <td id=\"T_11895_row2_col0\" class=\"data row2 col0\" >purpose_category</td>\n",
       "                        <td id=\"T_11895_row2_col1\" class=\"data row2 col1\" >0.050060</td>\n",
       "            </tr>\n",
       "            <tr>\n",
       "                        <th id=\"T_11895_level0_row3\" class=\"row_heading level0 row3\" >3</th>\n",
       "                        <td id=\"T_11895_row3_col0\" class=\"data row3 col0\" >education</td>\n",
       "                        <td id=\"T_11895_row3_col1\" class=\"data row3 col1\" >0.047145</td>\n",
       "            </tr>\n",
       "            <tr>\n",
       "                        <th id=\"T_11895_level0_row4\" class=\"row_heading level0 row4\" >4</th>\n",
       "                        <td id=\"T_11895_row4_col0\" class=\"data row4 col0\" >children</td>\n",
       "                        <td id=\"T_11895_row4_col1\" class=\"data row4 col1\" >0.037015</td>\n",
       "            </tr>\n",
       "            <tr>\n",
       "                        <th id=\"T_11895_level0_row5\" class=\"row_heading level0 row5\" >5</th>\n",
       "                        <td id=\"T_11895_row5_col0\" class=\"data row5 col0\" >gender</td>\n",
       "                        <td id=\"T_11895_row5_col1\" class=\"data row5 col1\" >0.033420</td>\n",
       "            </tr>\n",
       "            <tr>\n",
       "                        <th id=\"T_11895_level0_row6\" class=\"row_heading level0 row6\" >6</th>\n",
       "                        <td id=\"T_11895_row6_col0\" class=\"data row6 col0\" >purpose</td>\n",
       "                        <td id=\"T_11895_row6_col1\" class=\"data row6 col1\" >0.032239</td>\n",
       "            </tr>\n",
       "            <tr>\n",
       "                        <th id=\"T_11895_level0_row7\" class=\"row_heading level0 row7\" >7</th>\n",
       "                        <td id=\"T_11895_row7_col0\" class=\"data row7 col0\" >family_status</td>\n",
       "                        <td id=\"T_11895_row7_col1\" class=\"data row7 col1\" >0.027289</td>\n",
       "            </tr>\n",
       "            <tr>\n",
       "                        <th id=\"T_11895_level0_row8\" class=\"row_heading level0 row8\" >8</th>\n",
       "                        <td id=\"T_11895_row8_col0\" class=\"data row8 col0\" >total_income</td>\n",
       "                        <td id=\"T_11895_row8_col1\" class=\"data row8 col1\" >0.017078</td>\n",
       "            </tr>\n",
       "            <tr>\n",
       "                        <th id=\"T_11895_level0_row9\" class=\"row_heading level0 row9\" >9</th>\n",
       "                        <td id=\"T_11895_row9_col0\" class=\"data row9 col0\" >total_income_category</td>\n",
       "                        <td id=\"T_11895_row9_col1\" class=\"data row9 col1\" >0.016502</td>\n",
       "            </tr>\n",
       "    </tbody></table>"
      ],
      "text/plain": [
       "<pandas.io.formats.style.Styler at 0x7f26d74ccd30>"
      ]
     },
     "execution_count": 24,
     "metadata": {},
     "output_type": "execute_result"
    }
   ],
   "source": [
    "interval_cols = ['children', 'dob_years', 'total_income']\n",
    "phik_overview = df[\n",
    "        ['children', 'dob_years', 'education',\n",
    "         'family_status', 'gender', 'income_type', 'debt',\n",
    "         'total_income', 'purpose', 'total_income_category', 'purpose_category']\n",
    "    ].phik_matrix(interval_cols=interval_cols)\n",
    "phik_overview = phik_overview['debt'].sort_values(ascending=False).iloc[1:].reset_index()\n",
    "cm = sns.color_palette(\"coolwarm\", as_cmap=True)\n",
    "phik_overview.style.background_gradient(cmap=cm,subset=['debt'])\n",
    "#sns.dark_palette(\"red\", as_cmap=True)"
   ]
  },
  {
   "cell_type": "markdown",
   "id": "b6543b16",
   "metadata": {},
   "source": [
    "На первый взгляд, похоже, что на возврат кредита в срок большего всего влияет `тип занятости`, с другой стороны появляется вопрос почему в то же время корреляция с параметром `уровнь дохода` самая низкая из всех. Вторым по значимости является возраст клиента.\n",
    "<br>\n",
    "`Категория цели кредита` - третья.\n",
    "<br>\n",
    "`Колличество детей` на пятом месте\n",
    "<br>\n",
    "`Семейное положение` судя по всему, влияет относительно незначительно.\n",
    "<br>\n",
    "Впрочем, даже 𝜙k корреляции не стоит слепо доверять, так что давайте проверять каждую интересующую нас взаимосвязь подробнее.\n",
    "<br>\n",
    "И начнем мы с количества детей.\n",
    "\n",
    "\n",
    "Для удобства в дальнейшем под \"целевым параметром\" будет подразумеваться `возврат кредита в срок`. Чем выше этот параметр, тем выше шанс просрочки по кредиту."
   ]
  },
  {
   "cell_type": "code",
   "execution_count": 25,
   "id": "598ba4fc",
   "metadata": {
    "scrolled": false
   },
   "outputs": [
    {
     "data": {
      "text/html": [
       "<div>\n",
       "<style scoped>\n",
       "    .dataframe tbody tr th:only-of-type {\n",
       "        vertical-align: middle;\n",
       "    }\n",
       "\n",
       "    .dataframe tbody tr th {\n",
       "        vertical-align: top;\n",
       "    }\n",
       "\n",
       "    .dataframe thead th {\n",
       "        text-align: right;\n",
       "    }\n",
       "</style>\n",
       "<table border=\"1\" class=\"dataframe\">\n",
       "  <thead>\n",
       "    <tr style=\"text-align: right;\">\n",
       "      <th></th>\n",
       "      <th>среднее значение целевого параметра</th>\n",
       "      <th>колличество клиентов</th>\n",
       "      <th>колличество случаев просрочки</th>\n",
       "    </tr>\n",
       "    <tr>\n",
       "      <th>children</th>\n",
       "      <th></th>\n",
       "      <th></th>\n",
       "      <th></th>\n",
       "    </tr>\n",
       "  </thead>\n",
       "  <tbody>\n",
       "    <tr>\n",
       "      <th>5</th>\n",
       "      <td>0.000000</td>\n",
       "      <td>9</td>\n",
       "      <td>0</td>\n",
       "    </tr>\n",
       "    <tr>\n",
       "      <th>4</th>\n",
       "      <td>0.097561</td>\n",
       "      <td>41</td>\n",
       "      <td>4</td>\n",
       "    </tr>\n",
       "    <tr>\n",
       "      <th>3</th>\n",
       "      <td>0.081818</td>\n",
       "      <td>330</td>\n",
       "      <td>27</td>\n",
       "    </tr>\n",
       "    <tr>\n",
       "      <th>2</th>\n",
       "      <td>0.094542</td>\n",
       "      <td>2052</td>\n",
       "      <td>194</td>\n",
       "    </tr>\n",
       "    <tr>\n",
       "      <th>1</th>\n",
       "      <td>0.092346</td>\n",
       "      <td>4808</td>\n",
       "      <td>444</td>\n",
       "    </tr>\n",
       "    <tr>\n",
       "      <th>0</th>\n",
       "      <td>0.075438</td>\n",
       "      <td>14091</td>\n",
       "      <td>1063</td>\n",
       "    </tr>\n",
       "  </tbody>\n",
       "</table>\n",
       "</div>"
      ],
      "text/plain": [
       "          среднее значение целевого параметра  колличество клиентов  \\\n",
       "children                                                              \n",
       "5                                    0.000000                     9   \n",
       "4                                    0.097561                    41   \n",
       "3                                    0.081818                   330   \n",
       "2                                    0.094542                  2052   \n",
       "1                                    0.092346                  4808   \n",
       "0                                    0.075438                 14091   \n",
       "\n",
       "          колличество случаев просрочки  \n",
       "children                                 \n",
       "5                                     0  \n",
       "4                                     4  \n",
       "3                                    27  \n",
       "2                                   194  \n",
       "1                                   444  \n",
       "0                                  1063  "
      ]
     },
     "execution_count": 25,
     "metadata": {},
     "output_type": "execute_result"
    }
   ],
   "source": [
    "#Построим сводник по колличеству детей и целевому параметру\n",
    "children_group = df.groupby('children')['debt'].agg(['mean', 'count', 'sum']).sort_values(by='count')\n",
    "children_group.columns = ['среднее значение целевого параметра', 'колличество клиентов', 'колличество случаев просрочки']\n",
    "children_group"
   ]
  },
  {
   "cell_type": "markdown",
   "id": "57b58110",
   "metadata": {},
   "source": [
    "Из таблицы выше видно, что у клиентов с 5 детьми нет ни одной просрочки, но если обратить внимание на колличество клиентов - оказывается их всего 9, в выборку легко могло не попастьни одной просрочки, но утверждать на основе этих данных, что клиенты с 5 детьми самые надежные плательщики нельзя.\n",
    "<br>\n",
    "Посмотрим на таблицу без первой строки."
   ]
  },
  {
   "cell_type": "code",
   "execution_count": 26,
   "id": "cd513928",
   "metadata": {},
   "outputs": [
    {
     "data": {
      "text/html": [
       "<style  type=\"text/css\" >\n",
       "#T_3c0b8_row0_col0{\n",
       "            background-color:  #ff0000;\n",
       "            color:  #f1f1f1;\n",
       "        }#T_3c0b8_row1_col0{\n",
       "            background-color:  #f6abab;\n",
       "            color:  #000000;\n",
       "        }#T_3c0b8_row2_col0{\n",
       "            background-color:  #fd2020;\n",
       "            color:  #f1f1f1;\n",
       "        }#T_3c0b8_row3_col0{\n",
       "            background-color:  #fc3838;\n",
       "            color:  #f1f1f1;\n",
       "        }#T_3c0b8_row4_col0{\n",
       "            background-color:  #f3f0f0;\n",
       "            color:  #000000;\n",
       "        }</style><table id=\"T_3c0b8_\" ><thead>    <tr>        <th class=\"blank level0\" ></th>        <th class=\"col_heading level0 col0\" >среднее значение целевого параметра</th>        <th class=\"col_heading level0 col1\" >колличество клиентов</th>        <th class=\"col_heading level0 col2\" >колличество случаев просрочки</th>    </tr>    <tr>        <th class=\"index_name level0\" >children</th>        <th class=\"blank\" ></th>        <th class=\"blank\" ></th>        <th class=\"blank\" ></th>    </tr></thead><tbody>\n",
       "                <tr>\n",
       "                        <th id=\"T_3c0b8_level0_row0\" class=\"row_heading level0 row0\" >4</th>\n",
       "                        <td id=\"T_3c0b8_row0_col0\" class=\"data row0 col0\" >0.097561</td>\n",
       "                        <td id=\"T_3c0b8_row0_col1\" class=\"data row0 col1\" >41</td>\n",
       "                        <td id=\"T_3c0b8_row0_col2\" class=\"data row0 col2\" >4</td>\n",
       "            </tr>\n",
       "            <tr>\n",
       "                        <th id=\"T_3c0b8_level0_row1\" class=\"row_heading level0 row1\" >3</th>\n",
       "                        <td id=\"T_3c0b8_row1_col0\" class=\"data row1 col0\" >0.081818</td>\n",
       "                        <td id=\"T_3c0b8_row1_col1\" class=\"data row1 col1\" >330</td>\n",
       "                        <td id=\"T_3c0b8_row1_col2\" class=\"data row1 col2\" >27</td>\n",
       "            </tr>\n",
       "            <tr>\n",
       "                        <th id=\"T_3c0b8_level0_row2\" class=\"row_heading level0 row2\" >2</th>\n",
       "                        <td id=\"T_3c0b8_row2_col0\" class=\"data row2 col0\" >0.094542</td>\n",
       "                        <td id=\"T_3c0b8_row2_col1\" class=\"data row2 col1\" >2052</td>\n",
       "                        <td id=\"T_3c0b8_row2_col2\" class=\"data row2 col2\" >194</td>\n",
       "            </tr>\n",
       "            <tr>\n",
       "                        <th id=\"T_3c0b8_level0_row3\" class=\"row_heading level0 row3\" >1</th>\n",
       "                        <td id=\"T_3c0b8_row3_col0\" class=\"data row3 col0\" >0.092346</td>\n",
       "                        <td id=\"T_3c0b8_row3_col1\" class=\"data row3 col1\" >4808</td>\n",
       "                        <td id=\"T_3c0b8_row3_col2\" class=\"data row3 col2\" >444</td>\n",
       "            </tr>\n",
       "            <tr>\n",
       "                        <th id=\"T_3c0b8_level0_row4\" class=\"row_heading level0 row4\" >0</th>\n",
       "                        <td id=\"T_3c0b8_row4_col0\" class=\"data row4 col0\" >0.075438</td>\n",
       "                        <td id=\"T_3c0b8_row4_col1\" class=\"data row4 col1\" >14091</td>\n",
       "                        <td id=\"T_3c0b8_row4_col2\" class=\"data row4 col2\" >1063</td>\n",
       "            </tr>\n",
       "    </tbody></table>"
      ],
      "text/plain": [
       "<pandas.io.formats.style.Styler at 0x7f26c244a580>"
      ]
     },
     "execution_count": 26,
     "metadata": {},
     "output_type": "execute_result"
    }
   ],
   "source": [
    "children_group = children_group.iloc[1:]\n",
    "cm = sns.color_palette(\"light:#FF0000\", as_cmap=True)\n",
    "children_group.style.background_gradient(cmap=cm,subset=['среднее значение целевого параметра'])"
   ]
  },
  {
   "cell_type": "markdown",
   "id": "4e00df8e",
   "metadata": {},
   "source": [
    "Удалив данный выброс мы видим, что самый высокий целевой у показатель у клиентов с 4 детьми. Но и тут нельзя с уверностью сказать о четкой закономерности, так как данных по клиентам с 3-мя и 4-мя детьми все еще очень мало, по сравнению с остальными категориями. Таким образом колебания от 10% просрочек (4 ребенка) до 8% (3 ребенка) могут оказаться случайными.\n",
    "<br>\n",
    "Зато с увереностью можно говорить о том, что у клиентов без детей целевой показатель ниже, чем у клиентов с любым колличеством детей.  "
   ]
  },
  {
   "cell_type": "markdown",
   "id": "da50b5ee",
   "metadata": {
    "deletable": false,
    "id": "3a6b99ec"
   },
   "source": [
    "**Вывод:** "
   ]
  },
  {
   "cell_type": "markdown",
   "id": "2c54409e",
   "metadata": {},
   "source": [
    "✅ **Зависимость между количеством детей и возвратом кредита в срок подтверждена.**\n",
    "- **У клиентов без детей целевой параметр ниже, чем у клиентов с детьми.**"
   ]
  },
  {
   "cell_type": "markdown",
   "id": "ff7215fd",
   "metadata": {
    "deletable": false,
    "editable": false,
    "id": "97be82ca"
   },
   "source": [
    "#### 3.2 Есть ли зависимость между семейным положением и возвратом кредита в срок?"
   ]
  },
  {
   "cell_type": "code",
   "execution_count": 27,
   "id": "90f15305",
   "metadata": {
    "deletable": false,
    "id": "dc3f7ee8"
   },
   "outputs": [
    {
     "data": {
      "text/html": [
       "<style  type=\"text/css\" >\n",
       "#T_3bce9_row0_col0{\n",
       "            background-color:  #f3f0f0;\n",
       "            color:  #000000;\n",
       "        }#T_3bce9_row1_col0{\n",
       "            background-color:  #f4cfcf;\n",
       "            color:  #000000;\n",
       "        }#T_3bce9_row2_col0{\n",
       "            background-color:  #ff0000;\n",
       "            color:  #f1f1f1;\n",
       "        }#T_3bce9_row3_col0{\n",
       "            background-color:  #fd2222;\n",
       "            color:  #f1f1f1;\n",
       "        }#T_3bce9_row4_col0{\n",
       "            background-color:  #f6a8a8;\n",
       "            color:  #000000;\n",
       "        }</style><table id=\"T_3bce9_\" ><thead>    <tr>        <th class=\"blank level0\" ></th>        <th class=\"col_heading level0 col0\" >среднее значение целевого параметра</th>        <th class=\"col_heading level0 col1\" >колличество клиентов</th>        <th class=\"col_heading level0 col2\" >колличество случаев просрочки</th>    </tr>    <tr>        <th class=\"index_name level0\" >family_status</th>        <th class=\"blank\" ></th>        <th class=\"blank\" ></th>        <th class=\"blank\" ></th>    </tr></thead><tbody>\n",
       "                <tr>\n",
       "                        <th id=\"T_3bce9_level0_row0\" class=\"row_heading level0 row0\" >вдовец / вдова</th>\n",
       "                        <td id=\"T_3bce9_row0_col0\" class=\"data row0 col0\" >0.066246</td>\n",
       "                        <td id=\"T_3bce9_row0_col1\" class=\"data row0 col1\" >951</td>\n",
       "                        <td id=\"T_3bce9_row0_col2\" class=\"data row0 col2\" >63</td>\n",
       "            </tr>\n",
       "            <tr>\n",
       "                        <th id=\"T_3bce9_level0_row1\" class=\"row_heading level0 row1\" >в разводе</th>\n",
       "                        <td id=\"T_3bce9_row1_col0\" class=\"data row1 col0\" >0.070648</td>\n",
       "                        <td id=\"T_3bce9_row1_col1\" class=\"data row1 col1\" >1189</td>\n",
       "                        <td id=\"T_3bce9_row1_col2\" class=\"data row1 col2\" >84</td>\n",
       "            </tr>\n",
       "            <tr>\n",
       "                        <th id=\"T_3bce9_level0_row2\" class=\"row_heading level0 row2\" >Не женат / не замужем</th>\n",
       "                        <td id=\"T_3bce9_row2_col0\" class=\"data row2 col0\" >0.097639</td>\n",
       "                        <td id=\"T_3bce9_row2_col1\" class=\"data row2 col1\" >2796</td>\n",
       "                        <td id=\"T_3bce9_row2_col2\" class=\"data row2 col2\" >273</td>\n",
       "            </tr>\n",
       "            <tr>\n",
       "                        <th id=\"T_3bce9_level0_row3\" class=\"row_heading level0 row3\" >гражданский брак</th>\n",
       "                        <td id=\"T_3bce9_row3_col0\" class=\"data row3 col0\" >0.093130</td>\n",
       "                        <td id=\"T_3bce9_row3_col1\" class=\"data row3 col1\" >4134</td>\n",
       "                        <td id=\"T_3bce9_row3_col2\" class=\"data row3 col2\" >385</td>\n",
       "            </tr>\n",
       "            <tr>\n",
       "                        <th id=\"T_3bce9_level0_row4\" class=\"row_heading level0 row4\" >женат / замужем</th>\n",
       "                        <td id=\"T_3bce9_row4_col0\" class=\"data row4 col0\" >0.075606</td>\n",
       "                        <td id=\"T_3bce9_row4_col1\" class=\"data row4 col1\" >12261</td>\n",
       "                        <td id=\"T_3bce9_row4_col2\" class=\"data row4 col2\" >927</td>\n",
       "            </tr>\n",
       "    </tbody></table>"
      ],
      "text/plain": [
       "<pandas.io.formats.style.Styler at 0x7f26c244a760>"
      ]
     },
     "execution_count": 27,
     "metadata": {},
     "output_type": "execute_result"
    }
   ],
   "source": [
    "#Построим сводник по семейному положению и целевому параметру\n",
    "family_status_group = df.groupby('family_status')['debt'].agg(['mean', 'count', 'sum']).sort_values(by='count')\n",
    "family_status_group.columns = ['среднее значение целевого параметра', 'колличество клиентов', 'колличество случаев просрочки']\n",
    "cm = sns.color_palette(\"light:#FF0000\", as_cmap=True)\n",
    "family_status_group.style.background_gradient(cmap=cm,subset=['среднее значение целевого параметра'])"
   ]
  },
  {
   "cell_type": "markdown",
   "id": "ab9b0699",
   "metadata": {},
   "source": [
    "Тот самый случай, когда корреляция может не показывать всех деталей.\n",
    "<br>\n",
    "Как мы видим из таблицы выше, у клиентов со статусом `Не женат / не замужем` и `гражданский брак` целевой параметр выше.\n",
    "<br>\n",
    "Важно отметить, что в категории `женат / замужем` клиентов больше, чем во всех остальных вместе взятых. Это может искажать результаты.\n",
    "<br>\n",
    "В категории `вдовец / вдова` целевой параметр самый низкий, но тут наоборот, колличество клиентов меньше, чем во всех остальных."
   ]
  },
  {
   "cell_type": "markdown",
   "id": "a5047282",
   "metadata": {
    "deletable": false,
    "id": "1cef7837"
   },
   "source": [
    "**Вывод:** "
   ]
  },
  {
   "cell_type": "markdown",
   "id": "9dac9c5c",
   "metadata": {},
   "source": [
    "✅ **Зависимость между семейным положением и возвратом кредита в срок подтверждена.**\n",
    "\n",
    "Более детальные выводы:\n",
    "- У клиентов со статусом `Не женат / не замужем` и `гражданский брак` целевой параметр самый высокий.\n",
    "- В категории `вдовец / вдова` целевой параметр самый низкий\n",
    "\n",
    "\n",
    "На точность данных утверждений могут влиять следующие факторы:\n",
    "- В категории `женат / замужем` клиентов значительно больше, чем в остальных.\n",
    "- В категории `вдовец / вдова` клиентов меньше, чем в остальных."
   ]
  },
  {
   "cell_type": "markdown",
   "id": "cb4d1af9",
   "metadata": {
    "deletable": false,
    "editable": false,
    "id": "1e8b2fca"
   },
   "source": [
    "#### 3.3 Есть ли зависимость между уровнем дохода и возвратом кредита в срок?"
   ]
  },
  {
   "cell_type": "code",
   "execution_count": 28,
   "id": "0d666b35",
   "metadata": {
    "deletable": false,
    "id": "cd7e3720"
   },
   "outputs": [
    {
     "data": {
      "text/html": [
       "<style  type=\"text/css\" >\n",
       "#T_d403a_row0_col0{\n",
       "            background-color:  #fb5555;\n",
       "            color:  #000000;\n",
       "        }#T_d403a_row1_col0{\n",
       "            background-color:  #f79f9f;\n",
       "            color:  #000000;\n",
       "        }#T_d403a_row2_col0{\n",
       "            background-color:  #fd2e2e;\n",
       "            color:  #f1f1f1;\n",
       "        }#T_d403a_row3_col0{\n",
       "            background-color:  #f3f0f0;\n",
       "            color:  #000000;\n",
       "        }#T_d403a_row4_col0{\n",
       "            background-color:  #ff0000;\n",
       "            color:  #f1f1f1;\n",
       "        }</style><table id=\"T_d403a_\" ><thead>    <tr>        <th class=\"blank level0\" ></th>        <th class=\"col_heading level0 col0\" >среднее значение целевого параметра</th>        <th class=\"col_heading level0 col1\" >колличество клиентов</th>        <th class=\"col_heading level0 col2\" >колличество случаев просрочки</th>    </tr>    <tr>        <th class=\"index_name level0\" >total_income_category</th>        <th class=\"blank\" ></th>        <th class=\"blank\" ></th>        <th class=\"blank\" ></th>    </tr></thead><tbody>\n",
       "                <tr>\n",
       "                        <th id=\"T_d403a_level0_row0\" class=\"row_heading level0 row0\" >A</th>\n",
       "                        <td id=\"T_d403a_row0_col0\" class=\"data row0 col0\" >0.080000</td>\n",
       "                        <td id=\"T_d403a_row0_col1\" class=\"data row0 col1\" >25</td>\n",
       "                        <td id=\"T_d403a_row0_col2\" class=\"data row0 col2\" >2</td>\n",
       "            </tr>\n",
       "            <tr>\n",
       "                        <th id=\"T_d403a_level0_row1\" class=\"row_heading level0 row1\" >B</th>\n",
       "                        <td id=\"T_d403a_row1_col0\" class=\"data row1 col0\" >0.070602</td>\n",
       "                        <td id=\"T_d403a_row1_col1\" class=\"data row1 col1\" >5014</td>\n",
       "                        <td id=\"T_d403a_row1_col2\" class=\"data row1 col2\" >354</td>\n",
       "            </tr>\n",
       "            <tr>\n",
       "                        <th id=\"T_d403a_level0_row2\" class=\"row_heading level0 row2\" >C</th>\n",
       "                        <td id=\"T_d403a_row2_col0\" class=\"data row2 col0\" >0.084982</td>\n",
       "                        <td id=\"T_d403a_row2_col1\" class=\"data row2 col1\" >15921</td>\n",
       "                        <td id=\"T_d403a_row2_col2\" class=\"data row2 col2\" >1353</td>\n",
       "            </tr>\n",
       "            <tr>\n",
       "                        <th id=\"T_d403a_level0_row3\" class=\"row_heading level0 row3\" >D</th>\n",
       "                        <td id=\"T_d403a_row3_col0\" class=\"data row3 col0\" >0.060172</td>\n",
       "                        <td id=\"T_d403a_row3_col1\" class=\"data row3 col1\" >349</td>\n",
       "                        <td id=\"T_d403a_row3_col2\" class=\"data row3 col2\" >21</td>\n",
       "            </tr>\n",
       "            <tr>\n",
       "                        <th id=\"T_d403a_level0_row4\" class=\"row_heading level0 row4\" >E</th>\n",
       "                        <td id=\"T_d403a_row4_col0\" class=\"data row4 col0\" >0.090909</td>\n",
       "                        <td id=\"T_d403a_row4_col1\" class=\"data row4 col1\" >22</td>\n",
       "                        <td id=\"T_d403a_row4_col2\" class=\"data row4 col2\" >2</td>\n",
       "            </tr>\n",
       "    </tbody></table>"
      ],
      "text/plain": [
       "<pandas.io.formats.style.Styler at 0x7f26c3b11850>"
      ]
     },
     "execution_count": 28,
     "metadata": {},
     "output_type": "execute_result"
    }
   ],
   "source": [
    "# Построим сводник по категории уровня дохода и целевому параметру\n",
    "income_group = df.groupby('total_income_category')['debt'].agg(['mean', 'count', 'sum']).sort_values(by='total_income_category')\n",
    "income_group.columns = ['среднее значение целевого параметра', 'колличество клиентов', 'колличество случаев просрочки']\n",
    "cm = sns.color_palette(\"light:#FF0000\", as_cmap=True)\n",
    "income_group.style.background_gradient(cmap=cm,subset=['среднее значение целевого параметра'])"
   ]
  },
  {
   "cell_type": "markdown",
   "id": "59516e13",
   "metadata": {},
   "source": [
    "На таблице заметно чередование среднего значения целевого параметра - у группы `A`, `C` и `E` он выше, а у `D` и `B` ниже. Проблема в том, что в нашу выборку попало очень разное колличество клиентов - в группе `E` их всего 22, тогда как в группе `C` почти 16 тысяч. Для того, чтобы получить более репрезентативную выборку можно разбить клиентов по уровню дохода на бóльшее колличество групп с равномерным распределением в них - то есть так, чтобы в каждую группу попало почти одинаковое колличество клиентов."
   ]
  },
  {
   "cell_type": "code",
   "execution_count": 29,
   "id": "037e9cb6",
   "metadata": {},
   "outputs": [
    {
     "data": {
      "text/html": [
       "<style  type=\"text/css\" >\n",
       "#T_2ad23_row0_col0{\n",
       "            background-color:  #f3f0f0;\n",
       "            color:  #000000;\n",
       "        }#T_2ad23_row1_col0,#T_2ad23_row13_col0{\n",
       "            background-color:  #f97070;\n",
       "            color:  #000000;\n",
       "        }#T_2ad23_row2_col0{\n",
       "            background-color:  #fb4d4d;\n",
       "            color:  #000000;\n",
       "        }#T_2ad23_row3_col0,#T_2ad23_row14_col0{\n",
       "            background-color:  #fe1212;\n",
       "            color:  #f1f1f1;\n",
       "        }#T_2ad23_row4_col0{\n",
       "            background-color:  #f88989;\n",
       "            color:  #000000;\n",
       "        }#T_2ad23_row5_col0{\n",
       "            background-color:  #fd2323;\n",
       "            color:  #f1f1f1;\n",
       "        }#T_2ad23_row6_col0{\n",
       "            background-color:  #fc3c3c;\n",
       "            color:  #f1f1f1;\n",
       "        }#T_2ad23_row7_col0,#T_2ad23_row11_col0{\n",
       "            background-color:  #fa5f5f;\n",
       "            color:  #000000;\n",
       "        }#T_2ad23_row8_col0{\n",
       "            background-color:  #fd2222;\n",
       "            color:  #f1f1f1;\n",
       "        }#T_2ad23_row9_col0{\n",
       "            background-color:  #ff0000;\n",
       "            color:  #f1f1f1;\n",
       "        }#T_2ad23_row10_col0{\n",
       "            background-color:  #fb4e4e;\n",
       "            color:  #000000;\n",
       "        }#T_2ad23_row12_col0{\n",
       "            background-color:  #fb4747;\n",
       "            color:  #000000;\n",
       "        }#T_2ad23_row15_col0{\n",
       "            background-color:  #f89292;\n",
       "            color:  #000000;\n",
       "        }#T_2ad23_row16_col0{\n",
       "            background-color:  #f4dfdf;\n",
       "            color:  #000000;\n",
       "        }#T_2ad23_row17_col0,#T_2ad23_row19_col0{\n",
       "            background-color:  #f5cece;\n",
       "            color:  #000000;\n",
       "        }#T_2ad23_row18_col0{\n",
       "            background-color:  #f5c5c5;\n",
       "            color:  #000000;\n",
       "        }</style><table id=\"T_2ad23_\" ><thead>    <tr>        <th class=\"blank level0\" ></th>        <th class=\"col_heading level0 col0\" >среднее значение целевого параметра</th>        <th class=\"col_heading level0 col1\" >разброс доходов в группе</th>        <th class=\"col_heading level0 col2\" >группа</th>    </tr>    <tr>        <th class=\"index_name level0\" >total_income_qcut</th>        <th class=\"blank\" ></th>        <th class=\"blank\" ></th>        <th class=\"blank\" ></th>    </tr></thead><tbody>\n",
       "                <tr>\n",
       "                        <th id=\"T_2ad23_level0_row0\" class=\"row_heading level0 row0\" >(20666.999, 64561.5]</th>\n",
       "                        <td id=\"T_2ad23_row0_col0\" class=\"data row0 col0\" >0.066542</td>\n",
       "                        <td id=\"T_2ad23_row0_col1\" class=\"data row0 col1\" >43894.501000</td>\n",
       "                        <td id=\"T_2ad23_row0_col2\" class=\"data row0 col2\" >20667-64562</td>\n",
       "            </tr>\n",
       "            <tr>\n",
       "                        <th id=\"T_2ad23_level0_row1\" class=\"row_heading level0 row1\" >(64561.5, 78710.0]</th>\n",
       "                        <td id=\"T_2ad23_row1_col0\" class=\"data row1 col0\" >0.080600</td>\n",
       "                        <td id=\"T_2ad23_row1_col1\" class=\"data row1 col1\" >14148.500000</td>\n",
       "                        <td id=\"T_2ad23_row1_col2\" class=\"data row1 col2\" >64562-78710</td>\n",
       "            </tr>\n",
       "            <tr>\n",
       "                        <th id=\"T_2ad23_level0_row2\" class=\"row_heading level0 row2\" >(78710.0, 88700.0]</th>\n",
       "                        <td id=\"T_2ad23_row2_col0\" class=\"data row2 col0\" >0.084428</td>\n",
       "                        <td id=\"T_2ad23_row2_col1\" class=\"data row2 col1\" >9990.000000</td>\n",
       "                        <td id=\"T_2ad23_row2_col2\" class=\"data row2 col2\" >78710-88700</td>\n",
       "            </tr>\n",
       "            <tr>\n",
       "                        <th id=\"T_2ad23_level0_row3\" class=\"row_heading level0 row3\" >(88700.0, 98514.0]</th>\n",
       "                        <td id=\"T_2ad23_row3_col0\" class=\"data row3 col0\" >0.090909</td>\n",
       "                        <td id=\"T_2ad23_row3_col1\" class=\"data row3 col1\" >9814.000000</td>\n",
       "                        <td id=\"T_2ad23_row3_col2\" class=\"data row3 col2\" >88700-98514</td>\n",
       "            </tr>\n",
       "            <tr>\n",
       "                        <th id=\"T_2ad23_level0_row4\" class=\"row_heading level0 row4\" >(98514.0, 107507.0]</th>\n",
       "                        <td id=\"T_2ad23_row4_col0\" class=\"data row4 col0\" >0.077861</td>\n",
       "                        <td id=\"T_2ad23_row4_col1\" class=\"data row4 col1\" >8993.000000</td>\n",
       "                        <td id=\"T_2ad23_row4_col2\" class=\"data row4 col2\" >98514-107507</td>\n",
       "            </tr>\n",
       "            <tr>\n",
       "                        <th id=\"T_2ad23_level0_row5\" class=\"row_heading level0 row5\" >(107507.0, 115973.0]</th>\n",
       "                        <td id=\"T_2ad23_row5_col0\" class=\"data row5 col0\" >0.089035</td>\n",
       "                        <td id=\"T_2ad23_row5_col1\" class=\"data row5 col1\" >8466.000000</td>\n",
       "                        <td id=\"T_2ad23_row5_col2\" class=\"data row5 col2\" >107507-115973</td>\n",
       "            </tr>\n",
       "            <tr>\n",
       "                        <th id=\"T_2ad23_level0_row6\" class=\"row_heading level0 row6\" >(115973.0, 122507.5]</th>\n",
       "                        <td id=\"T_2ad23_row6_col0\" class=\"data row6 col0\" >0.086304</td>\n",
       "                        <td id=\"T_2ad23_row6_col1\" class=\"data row6 col1\" >6534.500000</td>\n",
       "                        <td id=\"T_2ad23_row6_col2\" class=\"data row6 col2\" >115973-122508</td>\n",
       "            </tr>\n",
       "            <tr>\n",
       "                        <th id=\"T_2ad23_level0_row7\" class=\"row_heading level0 row7\" >(122507.5, 132113.0]</th>\n",
       "                        <td id=\"T_2ad23_row7_col0\" class=\"data row7 col0\" >0.082474</td>\n",
       "                        <td id=\"T_2ad23_row7_col1\" class=\"data row7 col1\" >9605.500000</td>\n",
       "                        <td id=\"T_2ad23_row7_col2\" class=\"data row7 col2\" >122508-132113</td>\n",
       "            </tr>\n",
       "            <tr>\n",
       "                        <th id=\"T_2ad23_level0_row8\" class=\"row_heading level0 row8\" >(132113.0, 141735.5]</th>\n",
       "                        <td id=\"T_2ad23_row8_col0\" class=\"data row8 col0\" >0.089118</td>\n",
       "                        <td id=\"T_2ad23_row8_col1\" class=\"data row8 col1\" >9622.500000</td>\n",
       "                        <td id=\"T_2ad23_row8_col2\" class=\"data row8 col2\" >132113-141736</td>\n",
       "            </tr>\n",
       "            <tr>\n",
       "                        <th id=\"T_2ad23_level0_row9\" class=\"row_heading level0 row9\" >(141735.5, 142594.0]</th>\n",
       "                        <td id=\"T_2ad23_row9_col0\" class=\"data row9 col0\" >0.092905</td>\n",
       "                        <td id=\"T_2ad23_row9_col1\" class=\"data row9 col1\" >858.500000</td>\n",
       "                        <td id=\"T_2ad23_row9_col2\" class=\"data row9 col2\" >141736-142594</td>\n",
       "            </tr>\n",
       "            <tr>\n",
       "                        <th id=\"T_2ad23_level0_row10\" class=\"row_heading level0 row10\" >(142594.0, 150467.5]</th>\n",
       "                        <td id=\"T_2ad23_row10_col0\" class=\"data row10 col0\" >0.084299</td>\n",
       "                        <td id=\"T_2ad23_row10_col1\" class=\"data row10 col1\" >7873.500000</td>\n",
       "                        <td id=\"T_2ad23_row10_col2\" class=\"data row10 col2\" >142594-150468</td>\n",
       "            </tr>\n",
       "            <tr>\n",
       "                        <th id=\"T_2ad23_level0_row11\" class=\"row_heading level0 row11\" >(150467.5, 161380.0]</th>\n",
       "                        <td id=\"T_2ad23_row11_col0\" class=\"data row11 col0\" >0.082474</td>\n",
       "                        <td id=\"T_2ad23_row11_col1\" class=\"data row11 col1\" >10912.500000</td>\n",
       "                        <td id=\"T_2ad23_row11_col2\" class=\"data row11 col2\" >150468-161380</td>\n",
       "            </tr>\n",
       "            <tr>\n",
       "                        <th id=\"T_2ad23_level0_row12\" class=\"row_heading level0 row12\" >(161380.0, 172357.0]</th>\n",
       "                        <td id=\"T_2ad23_row12_col0\" class=\"data row12 col0\" >0.085161</td>\n",
       "                        <td id=\"T_2ad23_row12_col1\" class=\"data row12 col1\" >10977.000000</td>\n",
       "                        <td id=\"T_2ad23_row12_col2\" class=\"data row12 col2\" >161380-172357</td>\n",
       "            </tr>\n",
       "            <tr>\n",
       "                        <th id=\"T_2ad23_level0_row13\" class=\"row_heading level0 row13\" >(172357.0, 179844.0]</th>\n",
       "                        <td id=\"T_2ad23_row13_col0\" class=\"data row13 col0\" >0.080617</td>\n",
       "                        <td id=\"T_2ad23_row13_col1\" class=\"data row13 col1\" >7487.000000</td>\n",
       "                        <td id=\"T_2ad23_row13_col2\" class=\"data row13 col2\" >172357-179844</td>\n",
       "            </tr>\n",
       "            <tr>\n",
       "                        <th id=\"T_2ad23_level0_row14\" class=\"row_heading level0 row14\" >(179844.0, 195842.0]</th>\n",
       "                        <td id=\"T_2ad23_row14_col0\" class=\"data row14 col0\" >0.090909</td>\n",
       "                        <td id=\"T_2ad23_row14_col1\" class=\"data row14 col1\" >15998.000000</td>\n",
       "                        <td id=\"T_2ad23_row14_col2\" class=\"data row14 col2\" >179844-195842</td>\n",
       "            </tr>\n",
       "            <tr>\n",
       "                        <th id=\"T_2ad23_level0_row15\" class=\"row_heading level0 row15\" >(195842.0, 214604.0]</th>\n",
       "                        <td id=\"T_2ad23_row15_col0\" class=\"data row15 col0\" >0.076923</td>\n",
       "                        <td id=\"T_2ad23_row15_col1\" class=\"data row15 col1\" >18762.000000</td>\n",
       "                        <td id=\"T_2ad23_row15_col2\" class=\"data row15 col2\" >195842-214604</td>\n",
       "            </tr>\n",
       "            <tr>\n",
       "                        <th id=\"T_2ad23_level0_row16\" class=\"row_heading level0 row16\" >(214604.0, 237538.0]</th>\n",
       "                        <td id=\"T_2ad23_row16_col0\" class=\"data row16 col0\" >0.068480</td>\n",
       "                        <td id=\"T_2ad23_row16_col1\" class=\"data row16 col1\" >22934.000000</td>\n",
       "                        <td id=\"T_2ad23_row16_col2\" class=\"data row16 col2\" >214604-237538</td>\n",
       "            </tr>\n",
       "            <tr>\n",
       "                        <th id=\"T_2ad23_level0_row17\" class=\"row_heading level0 row17\" >(237538.0, 269801.0]</th>\n",
       "                        <td id=\"T_2ad23_row17_col0\" class=\"data row17 col0\" >0.070291</td>\n",
       "                        <td id=\"T_2ad23_row17_col1\" class=\"data row17 col1\" >32263.000000</td>\n",
       "                        <td id=\"T_2ad23_row17_col2\" class=\"data row17 col2\" >237538-269801</td>\n",
       "            </tr>\n",
       "            <tr>\n",
       "                        <th id=\"T_2ad23_level0_row18\" class=\"row_heading level0 row18\" >(269801.0, 331767.5]</th>\n",
       "                        <td id=\"T_2ad23_row18_col0\" class=\"data row18 col0\" >0.071295</td>\n",
       "                        <td id=\"T_2ad23_row18_col1\" class=\"data row18 col1\" >61966.500000</td>\n",
       "                        <td id=\"T_2ad23_row18_col2\" class=\"data row18 col2\" >269801-331768</td>\n",
       "            </tr>\n",
       "            <tr>\n",
       "                        <th id=\"T_2ad23_level0_row19\" class=\"row_heading level0 row19\" >(331767.5, 2265604.0]</th>\n",
       "                        <td id=\"T_2ad23_row19_col0\" class=\"data row19 col0\" >0.070291</td>\n",
       "                        <td id=\"T_2ad23_row19_col1\" class=\"data row19 col1\" >1933836.500000</td>\n",
       "                        <td id=\"T_2ad23_row19_col2\" class=\"data row19 col2\" >331768-2265604</td>\n",
       "            </tr>\n",
       "    </tbody></table>"
      ],
      "text/plain": [
       "<pandas.io.formats.style.Styler at 0x7f2741faf4c0>"
      ]
     },
     "execution_count": 29,
     "metadata": {},
     "output_type": "execute_result"
    }
   ],
   "source": [
    "# Для этого воспользуемся qcut\n",
    "df['total_income_qcut'] = pd.qcut(df['total_income'], 20)\n",
    "income_group_qcut = df.groupby('total_income_qcut')['debt'].agg(['mean'])\n",
    "income_group_qcut['variance'] = income_group_qcut.index.categories.length\n",
    "income_group_qcut['left'] = income_group_qcut.index.categories.left\n",
    "income_group_qcut['left'] = income_group_qcut['left'].round().astype(int)\n",
    "income_group_qcut['right'] = income_group_qcut.index.categories.right\n",
    "income_group_qcut['right'] = income_group_qcut['right'].round().astype(int)\n",
    "income_group_qcut['group'] = income_group_qcut['left'].astype(str) + '-' + income_group_qcut['right'].astype(str)\n",
    "income_group_qcut = income_group_qcut.drop(['left', 'right'], axis=1)\n",
    "income_group_qcut.columns = ['среднее значение целевого параметра', 'разброс доходов в группе', 'группа']\n",
    "cm = sns.color_palette(\"light:#FF0000\", as_cmap=True)\n",
    "income_group_qcut.style.background_gradient(cmap=cm,subset=['среднее значение целевого параметра'])"
   ]
  },
  {
   "cell_type": "code",
   "execution_count": 30,
   "id": "4dae0401",
   "metadata": {},
   "outputs": [
    {
     "data": {
      "text/plain": [
       "''"
      ]
     },
     "execution_count": 30,
     "metadata": {},
     "output_type": "execute_result"
    },
    {
     "data": {
      "image/png": "[encoded data removed]",
      "text/plain": [
       "<Figure size 432x288 with 1 Axes>"
      ]
     },
     "metadata": {},
     "output_type": "display_data"
    }
   ],
   "source": [
    "# Для удобства построим график, где по оси x будут группы доходов оп возрастанию, \n",
    "# а по оси y среднее значение целевого параметра\n",
    "sns.set_theme(style=\"darkgrid\")\n",
    "sns.lineplot(x=income_group_qcut['группа'], y=income_group_qcut['среднее значение целевого параметра'])\n",
    "plt.xticks(rotation=90)\n",
    "''"
   ]
  },
  {
   "cell_type": "markdown",
   "id": "cfe24173",
   "metadata": {},
   "source": [
    "Как и предсказывала 𝜙k корреляция в основной массе целевой показатель слабо зависит от уровня дохода и в диапазоне от 65тыс до 195тыс в котором находится около 70% клиентов целевой показатель хаотично колеблется между 7.8% и 9.3%.\n",
    "<br>\n",
    "Что интересно, у клиентов с доходом ниже 65тыс или выше 195тыс целевой показатель ниже, чем у диапазона 65тыс-195тыс."
   ]
  },
  {
   "cell_type": "markdown",
   "id": "a80d2e56",
   "metadata": {
    "deletable": false,
    "id": "e8593def"
   },
   "source": [
    "**Вывод:** "
   ]
  },
  {
   "cell_type": "markdown",
   "id": "89837cae",
   "metadata": {},
   "source": [
    "- **Линейная зависимость между уровнем дохода и возвратом кредита в срок отсутствует.**\n",
    "- **Взаимосвязь все же есть - клиенты с доходом ниже 65тыс и клиенты с доходом выше 195тыс в среднем совершают меньше просрочек, чем чем клиенты с доходом от 65тыс до 195тыс.**"
   ]
  },
  {
   "cell_type": "markdown",
   "id": "1d957bd0",
   "metadata": {
    "deletable": false,
    "editable": false,
    "id": "99ecbd1f"
   },
   "source": [
    "#### 3.4 Как разные цели кредита влияют на его возврат в срок?"
   ]
  },
  {
   "cell_type": "code",
   "execution_count": 31,
   "id": "0337dd36",
   "metadata": {
    "deletable": false,
    "id": "2b687290"
   },
   "outputs": [
    {
     "data": {
      "text/html": [
       "<style  type=\"text/css\" >\n",
       "#T_6a272_row0_col0{\n",
       "            background-color:  #f7a5a5;\n",
       "            color:  #000000;\n",
       "        }#T_6a272_row1_col0{\n",
       "            background-color:  #fe0a0a;\n",
       "            color:  #f1f1f1;\n",
       "        }#T_6a272_row2_col0{\n",
       "            background-color:  #ff0000;\n",
       "            color:  #f1f1f1;\n",
       "        }#T_6a272_row3_col0{\n",
       "            background-color:  #f3f0f0;\n",
       "            color:  #000000;\n",
       "        }</style><table id=\"T_6a272_\" ><thead>    <tr>        <th class=\"blank level0\" ></th>        <th class=\"col_heading level0 col0\" >среднее значение целевого параметра</th>        <th class=\"col_heading level0 col1\" >колличество клиентов</th>        <th class=\"col_heading level0 col2\" >колличество случаев просрочки</th>    </tr>    <tr>        <th class=\"index_name level0\" >purpose_category</th>        <th class=\"blank\" ></th>        <th class=\"blank\" ></th>        <th class=\"blank\" ></th>    </tr></thead><tbody>\n",
       "                <tr>\n",
       "                        <th id=\"T_6a272_level0_row0\" class=\"row_heading level0 row0\" >проведение свадьбы</th>\n",
       "                        <td id=\"T_6a272_row0_col0\" class=\"data row0 col0\" >0.079118</td>\n",
       "                        <td id=\"T_6a272_row0_col1\" class=\"data row0 col1\" >2313</td>\n",
       "                        <td id=\"T_6a272_row0_col2\" class=\"data row0 col2\" >183</td>\n",
       "            </tr>\n",
       "            <tr>\n",
       "                        <th id=\"T_6a272_level0_row1\" class=\"row_heading level0 row1\" >получение образования</th>\n",
       "                        <td id=\"T_6a272_row1_col0\" class=\"data row1 col0\" >0.092528</td>\n",
       "                        <td id=\"T_6a272_row1_col1\" class=\"data row1 col1\" >3988</td>\n",
       "                        <td id=\"T_6a272_row1_col2\" class=\"data row1 col2\" >369</td>\n",
       "            </tr>\n",
       "            <tr>\n",
       "                        <th id=\"T_6a272_level0_row2\" class=\"row_heading level0 row2\" >операции с автомобилем</th>\n",
       "                        <td id=\"T_6a272_row2_col0\" class=\"data row2 col0\" >0.093480</td>\n",
       "                        <td id=\"T_6a272_row2_col1\" class=\"data row2 col1\" >4279</td>\n",
       "                        <td id=\"T_6a272_row2_col2\" class=\"data row2 col2\" >400</td>\n",
       "            </tr>\n",
       "            <tr>\n",
       "                        <th id=\"T_6a272_level0_row3\" class=\"row_heading level0 row3\" >операции с недвижимостью</th>\n",
       "                        <td id=\"T_6a272_row3_col0\" class=\"data row3 col0\" >0.072551</td>\n",
       "                        <td id=\"T_6a272_row3_col1\" class=\"data row3 col1\" >10751</td>\n",
       "                        <td id=\"T_6a272_row3_col2\" class=\"data row3 col2\" >780</td>\n",
       "            </tr>\n",
       "    </tbody></table>"
      ],
      "text/plain": [
       "<pandas.io.formats.style.Styler at 0x7f26bfa43e80>"
      ]
     },
     "execution_count": 31,
     "metadata": {},
     "output_type": "execute_result"
    }
   ],
   "source": [
    "# В силу большого колличества различных целей удобнее будет работать с категориями целей кредита\n",
    "# Построим сводник по категориям целей кредита и целевому параметру\n",
    "purpose_category_group = df.groupby('purpose_category')['debt'].agg(['mean', 'count', 'sum']).sort_values(by='count')\n",
    "purpose_category_group.columns = ['среднее значение целевого параметра', 'колличество клиентов', 'колличество случаев просрочки']\n",
    "cm = sns.color_palette(\"light:#FF0000\", as_cmap=True)\n",
    "purpose_category_group.style.background_gradient(cmap=cm,subset=['среднее значение целевого параметра'])"
   ]
  },
  {
   "cell_type": "markdown",
   "id": "8352f46e",
   "metadata": {
    "deletable": false,
    "id": "b4bb2ce6"
   },
   "source": [
    "**Вывод:** "
   ]
  },
  {
   "cell_type": "markdown",
   "id": "96660216",
   "metadata": {},
   "source": [
    "✅ **Зависимость между целями кредита и возвратом кредита в срок подтверждена.**\n",
    "\n",
    "Более детальные выводы:\n",
    "- У клиентов, бравших кредит на `операции с автомобилем` и `получение образования` целевой параметр самый высокий.\n",
    "- У клиентов, бравших кредит на `проведение свадьбы` целевой параметр значительно ниже.\n",
    "- У клиентов, бравших кредит на `операции с недвижимостью` целевой параметр самый низкий.\n",
    "\n",
    "\n",
    "На точность данных утверждений могут влиять следующие факторы:\n",
    "- В категории `операции с недвижимостью` клиентов значительно больше, чем в остальных."
   ]
  },
  {
   "cell_type": "markdown",
   "id": "ae9e1c6b",
   "metadata": {
    "deletable": false,
    "editable": false,
    "id": "09c3ac4c"
   },
   "source": [
    "#### 3.5 Возможные причины появления пропусков в исходных данных."
   ]
  },
  {
   "cell_type": "markdown",
   "id": "8d84ce9e",
   "metadata": {
    "deletable": false,
    "id": "9da2ceda"
   },
   "source": [
    "*Ответ:* \n",
    "\n",
    "\n",
    "К сожалению, по имеющимся данным невозможно установить характер пропусков. Причины могут быть как технические, так и человеческим фактором. К примеру, данные могли собираться из разных БД с разной структурой и в одной из них не было информации о пропущенных значениях. В качестве же примера человеческого фактора можно привести процесс одобрения заявки на кредит - бóльшую часть информации о клиенте легко получить из паспортных данных, обязательных при взятии кредита, цели и просрочка - информация, которая наверняка есть у банка, тогда как тип занятости, трудовой стаж, заработная плата и образование - информация, которую может предоставить только клиент. Возможно, трудовой стаж и заработная плата являются не обязательной информацией для выдачи некотрых типов кредитов."
   ]
  },
  {
   "cell_type": "markdown",
   "id": "610d1acb",
   "metadata": {
    "deletable": false,
    "editable": false,
    "id": "7b0487d6"
   },
   "source": [
    "#### 3.6 Почему заполнить пропуски медианным значением — зачастую лучшее решение для количественных переменных."
   ]
  },
  {
   "cell_type": "markdown",
   "id": "03037067",
   "metadata": {
    "deletable": false,
    "id": "7ecf2b8e"
   },
   "source": [
    "*Ответ:* \n",
    "\n",
    "\n",
    "При отсутствии информации о непрерывных переменных может появиться необходимость избавится от пропусков. В этом случае есть разные подходы:\n",
    "- Заменить пропущенное значение средним значением\n",
    "- Заменить пропущенное значение медианой. \n",
    "Если в данных присутствуют выбросы, способ замены пропусков медианы является предпочтительным, так как меньше икажает результаты.\n",
    "\n",
    "\n",
    "В данном случае можно также попробовать найти взаимосвязи с другой информацией о клиенте, чтобы уменьшить среднюю ошибку. Минус данного подхода в том, что при маленькой выборке он может давать непредсказуемые результаты.\n",
    "<br>\n",
    "Для демонстрации данного подхода попробуем решить эту задачу регрессии градиентным бустингом с использованием наиболее простой библиотеки catboost."
   ]
  },
  {
   "cell_type": "code",
   "execution_count": 32,
   "id": "47ca4226",
   "metadata": {},
   "outputs": [],
   "source": [
    "# Заново подрузим необработанные данные\n",
    "try:\n",
    "    data = pd.read_csv('/datasets/data.csv')\n",
    "except:\n",
    "    data = pd.read_csv('https://code.s3.yandex.net/datasets/data.csv')"
   ]
  },
  {
   "cell_type": "code",
   "execution_count": 33,
   "id": "cf83b294",
   "metadata": {},
   "outputs": [],
   "source": [
    "# Подготовим данные\n",
    "data = data[data['children'].isin([ 1, 0, 3, 2, 4, 5])]\n",
    "# В этот раз удалим все строки пропусками в столбце 'total_income'\n",
    "data = data[data['total_income'].notna()]\n",
    "data['total_income'] = data['total_income'].astype('int')\n",
    "data['education'] = data['education'].str.lower()\n",
    "data = data.drop_duplicates().reset_index(drop=True)\n",
    "data['purpose_category'] = data['purpose'].apply(categorize_purpose)\n",
    "# Избавимся от ненужных стоблцов и стобцов с аномальными значениями\n",
    "data = data[['children', 'dob_years', 'education',\n",
    "             'family_status', 'gender', 'income_type', 'debt',\n",
    "             'total_income', 'purpose']]"
   ]
  },
  {
   "cell_type": "code",
   "execution_count": 34,
   "id": "f0d52a77",
   "metadata": {},
   "outputs": [
    {
     "data": {
      "text/plain": [
       "children          int64\n",
       "dob_years         int64\n",
       "education        object\n",
       "family_status    object\n",
       "gender           object\n",
       "income_type      object\n",
       "debt              int64\n",
       "total_income      int64\n",
       "purpose          object\n",
       "dtype: object"
      ]
     },
     "execution_count": 34,
     "metadata": {},
     "output_type": "execute_result"
    }
   ],
   "source": [
    "# Для удобства выведем тип данных каждого столбца \n",
    "data.dtypes"
   ]
  },
  {
   "cell_type": "code",
   "execution_count": 35,
   "id": "a99e4f25",
   "metadata": {},
   "outputs": [],
   "source": [
    "# Импортируем нужные библиотеки\n",
    "from sklearn.model_selection import train_test_split\n",
    "from sklearn.metrics import mean_absolute_error, mean_absolute_percentage_error\n",
    "from catboost import CatBoostRegressor\n",
    "\n",
    "# Разделяем данные на выборку для обучения, валидационную выборку и тестовую выборку\n",
    "train, test = train_test_split(data, train_size=0.6, random_state=42)\n",
    "val, test = train_test_split(test,train_size=0.5,random_state=42)"
   ]
  },
  {
   "cell_type": "code",
   "execution_count": 36,
   "id": "fe13fac1",
   "metadata": {},
   "outputs": [],
   "source": [
    "# Формируем список переменных для построения модели, целевую переменную и категориальные переменные\n",
    "X = ['children', 'dob_years', 'education',\n",
    "     'family_status', 'gender', 'income_type', 'debt',\n",
    "     'total_income', 'purpose']\n",
    "\n",
    "cat_features = ['education', 'family_status', 'gender', 'income_type', 'purpose']\n",
    "\n",
    "y = ['total_income']\n",
    "\n",
    "# Формируем параметры модели\n",
    "parameters = {'cat_features': cat_features,\n",
    "              'eval_metric': 'MAPE',\n",
    "              'learning_rate': 0.5,\n",
    "              'random_seed':42,\n",
    "              'verbose':100}"
   ]
  },
  {
   "cell_type": "code",
   "execution_count": 37,
   "id": "3e88554c",
   "metadata": {},
   "outputs": [],
   "source": [
    "# модель с параметрами\n",
    "model = CatBoostRegressor(**parameters)"
   ]
  },
  {
   "cell_type": "code",
   "execution_count": 38,
   "id": "9b53ffee",
   "metadata": {},
   "outputs": [
    {
     "name": "stdout",
     "output_type": "stream",
     "text": [
      "0:\tlearn: 0.2989655\ttest: 0.3064193\tbest: 0.3064193 (0)\ttotal: 61ms\tremaining: 1m\n",
      "100:\tlearn: 0.0088210\ttest: 0.0100019\tbest: 0.0100019 (100)\ttotal: 1.07s\tremaining: 9.51s\n",
      "200:\tlearn: 0.0055089\ttest: 0.0072660\tbest: 0.0072660 (200)\ttotal: 2.04s\tremaining: 8.09s\n",
      "300:\tlearn: 0.0045159\ttest: 0.0065599\tbest: 0.0065522 (296)\ttotal: 3.03s\tremaining: 7.04s\n",
      "400:\tlearn: 0.0038006\ttest: 0.0061026\tbest: 0.0060986 (399)\ttotal: 3.96s\tremaining: 5.92s\n",
      "500:\tlearn: 0.0033930\ttest: 0.0058531\tbest: 0.0058485 (496)\ttotal: 4.89s\tremaining: 4.87s\n",
      "600:\tlearn: 0.0030847\ttest: 0.0056895\tbest: 0.0056859 (599)\ttotal: 5.78s\tremaining: 3.84s\n",
      "700:\tlearn: 0.0028326\ttest: 0.0055823\tbest: 0.0055778 (694)\ttotal: 6.75s\tremaining: 2.88s\n",
      "800:\tlearn: 0.0026582\ttest: 0.0055563\tbest: 0.0055563 (799)\ttotal: 7.65s\tremaining: 1.9s\n",
      "900:\tlearn: 0.0024936\ttest: 0.0055213\tbest: 0.0055211 (899)\ttotal: 8.56s\tremaining: 941ms\n",
      "999:\tlearn: 0.0023773\ttest: 0.0055198\tbest: 0.0055119 (970)\ttotal: 9.39s\tremaining: 0us\n",
      "\n",
      "bestTest = 0.005511871358\n",
      "bestIteration = 970\n",
      "\n",
      "Shrink model to first 971 iterations.\n"
     ]
    },
    {
     "data": {
      "text/plain": [
       "<catboost.core.CatBoostRegressor at 0x7f26bcd7ce20>"
      ]
     },
     "execution_count": 38,
     "metadata": {},
     "output_type": "execute_result"
    }
   ],
   "source": [
    "# Обучаем модель\n",
    "model.fit(train[X],train[y],eval_set=(val[X],val[y]))"
   ]
  },
  {
   "cell_type": "code",
   "execution_count": 39,
   "id": "a14ab9e2",
   "metadata": {},
   "outputs": [],
   "source": [
    "# Объявляем функцию подсчет MAE и MAPE\n",
    "def error(y_true,y_pred):\n",
    "  print(mean_absolute_error(y_true,y_pred))\n",
    "  print(mean_absolute_percentage_error(y_true,y_pred))"
   ]
  },
  {
   "cell_type": "code",
   "execution_count": 40,
   "id": "55ff8b59",
   "metadata": {},
   "outputs": [],
   "source": [
    "# Медиана в каждой группе income_type\n",
    "test['total_income_median'] = data.groupby('income_type')['total_income'].transform('median')\n",
    "# Предсказание модели\n",
    "test['total_income_pred'] = model.predict(test[X])"
   ]
  },
  {
   "cell_type": "code",
   "execution_count": 41,
   "id": "55da9c39",
   "metadata": {},
   "outputs": [
    {
     "name": "stdout",
     "output_type": "stream",
     "text": [
      "64938.90020790021\n",
      "0.4293165502769825\n"
     ]
    }
   ],
   "source": [
    "# Считаем ошибку подхода с медианой\n",
    "error(test['total_income'], test['total_income_median'])"
   ]
  },
  {
   "cell_type": "code",
   "execution_count": 42,
   "id": "eba98abe",
   "metadata": {},
   "outputs": [
    {
     "name": "stdout",
     "output_type": "stream",
     "text": [
      "2272.6276055859207\n",
      "0.0060451782711285025\n"
     ]
    }
   ],
   "source": [
    "# Считаем ошибку подхода с градиентным бустингом\n",
    "error(test['total_income'], test['total_income_pred'])"
   ]
  },
  {
   "cell_type": "code",
   "execution_count": 43,
   "id": "a92e6b4f",
   "metadata": {},
   "outputs": [
    {
     "data": {
      "text/plain": [
       "(array([0, 1]), [Text(0, 0, 'медиана'), Text(1, 0, 'градиентный бустинг')])"
      ]
     },
     "execution_count": 43,
     "metadata": {},
     "output_type": "execute_result"
    },
    {
     "data": {
      "image/png": "[encoded data removed]",
      "text/plain": [
       "<Figure size 864x576 with 1 Axes>"
      ]
     },
     "metadata": {},
     "output_type": "display_data"
    }
   ],
   "source": [
    "# Построим график, чтобы наглядно убедится в масштабе разницы\n",
    "MAPE = pd.Series([42.9, 0.6], index=['медиана', 'градиентный бустинг'])\n",
    "plt.figure(figsize=(12, 8))\n",
    "fig = MAPE.plot(kind='bar')\n",
    "fig.set_title('MAPE')\n",
    "fig.set_xlabel('Подход к заполнению пропусков')\n",
    "fig.set_ylabel('средняя абсолютная ошибка в процентах')\n",
    "plt.xticks(rotation=0)"
   ]
  },
  {
   "cell_type": "markdown",
   "id": "ba8ef6f9",
   "metadata": {},
   "source": [
    "Таким образом, используя градиентный бустинг мы смогли снизить среднюю ошибку более чем в 70 раз!\n",
    "<br>\n",
    "Конечно, такой подход значительно сложнее и применять его стоит только в том случае, если точность значений данного столбца важна для дальнейшего анализа."
   ]
  },
  {
   "cell_type": "markdown",
   "id": "e65fdf6a",
   "metadata": {
    "deletable": false,
    "editable": false,
    "id": "6db5255a"
   },
   "source": [
    "### Шаг 4: общий вывод."
   ]
  },
  {
   "cell_type": "markdown",
   "id": "0ef63082",
   "metadata": {},
   "source": [
    "Было проведено исследование, чтобы выявить влияние разных факторов на вероятность погашения кредита в срок. Входные данные – статистика о платежеспособности клиентов. Результаты исследования будут учтены при построении модели кредитного скоринга – специальной системы, которая оценивает способность потенциального заемщика вернуть кредит банку.\n",
    "\n",
    "Перед проведением исследования были поставлены несколько гипотез:\n",
    "\n",
    "- Гипотеза 1: Количество детей клиента влияет на вероятность погашения кредита в срок.\n",
    "- Гипотеза 2: Семейное положение клиента влияет на вероятность погашения кредита в срок.\n",
    "- Гипотеза 3: Уровень дохода клиента влияет на вероятность погашения кредита в срок.\n",
    "- Гипотеза 4: Цель кредита влияет на вероятность погашения кредита в срок.\n",
    "\n",
    "В результате удалось выявить зависимости."
   ]
  },
  {
   "cell_type": "markdown",
   "id": "5a3456fb",
   "metadata": {},
   "source": [
    "✅ **Гипотеза 1 подтверждена:**"
   ]
  },
  {
   "cell_type": "code",
   "execution_count": 44,
   "id": "52a4093d",
   "metadata": {},
   "outputs": [
    {
     "data": {
      "text/plain": [
       "9.3"
      ]
     },
     "execution_count": 44,
     "metadata": {},
     "output_type": "execute_result"
    },
    {
     "data": {
      "image/png": "[encoded data removed]",
      "text/plain": [
       "<Figure size 720x288 with 1 Axes>"
      ]
     },
     "metadata": {},
     "output_type": "display_data"
    }
   ],
   "source": [
    "mean_have_children = round((0.094542 + 0.092346) / 2 * 100, 1)\n",
    "children_plot = pd.Series([7.5, mean_have_children], index=['нет детей', 'есть дети'])\n",
    "plt.figure(figsize=(10, 4))\n",
    "fig = children_plot.plot(kind='bar')\n",
    "fig.set_ylabel('вероятность просрочки в процентах')\n",
    "plt.xticks(rotation=0)\n",
    "mean_have_children"
   ]
  },
  {
   "cell_type": "markdown",
   "id": "11743044",
   "metadata": {},
   "source": [
    "- Вероятность просрочки у клиентов `без детей` - `7.5%`\n",
    "- Вероятность просрочки у клиентов `с детьми` - `9.3%`\n",
    "\n",
    "Вывод:\n",
    "\n",
    "Наличие детей у клиента повышает вероятность просрочки.\n",
    "\n",
    "Рекомендации:\n",
    "\n",
    "Провести повторное исследование на бóльшей выборке для установления наличия зависимоти между количеством детей клиента и вероятностью просрочки."
   ]
  },
  {
   "cell_type": "markdown",
   "id": "b2c5f63c",
   "metadata": {},
   "source": [
    "⚠️ **Гипотеза 2 частично подтверждена:**"
   ]
  },
  {
   "cell_type": "code",
   "execution_count": 45,
   "id": "2dad8c29",
   "metadata": {},
   "outputs": [
    {
     "data": {
      "text/plain": [
       "(0.077, 0.087)"
      ]
     },
     "execution_count": 45,
     "metadata": {},
     "output_type": "execute_result"
    },
    {
     "data": {
      "image/png": "[encoded data removed]",
      "text/plain": [
       "<Figure size 864x288 with 1 Axes>"
      ]
     },
     "metadata": {},
     "output_type": "display_data"
    }
   ],
   "source": [
    "family_status_plot = family_status_group['среднее значение целевого параметра'] * 100\n",
    "plt.figure(figsize=(12, 4))\n",
    "fig = family_status_plot.plot(kind='bar')\n",
    "fig.set_ylabel('вероятность просрочки в процентах')\n",
    "fig.set_xlabel('семейный статус')\n",
    "plt.xticks(rotation=0)\n",
    "marriage = family_status_group['среднее значение целевого параметра'][[0,1,3]].mean().round(3)\n",
    "no_marriage = family_status_group['среднее значение целевого параметра'][[2,4]].mean().round(3)\n",
    "marriage, no_marriage"
   ]
  },
  {
   "cell_type": "markdown",
   "id": "d4f34b6a",
   "metadata": {},
   "source": [
    "- Вероятность просрочки у клиентов, состоящих/состоявших в браке - `7.7%`\n",
    "- Вероятность просрочки у клиентов не состоящих/не состоявших в браке - `8.7%`\n",
    "\n",
    "Вывод:\n",
    "\n",
    "У клиентов состоящих/состоявших в браке вероятность просрочки ниже, чем у клиентов не состоящих/не состоявших в браке.\n",
    "\n",
    "Рекомендации:\n",
    "\n",
    "Разница в вероятностях всего 1%, что очень мало относительно других характеристик, поэтому рассматривать данную характеристику при построении скоринговой системы надо очень осторожно. Такие значения могут оказаться статистической погрешностью и для того, чтобы применять эту зависимость на практике надо сделать повторные исследования на значительно бóльшей выборке."
   ]
  },
  {
   "cell_type": "markdown",
   "id": "87385963",
   "metadata": {},
   "source": [
    "⚠️ **Гипотеза 3 частично подтверждена:**"
   ]
  },
  {
   "cell_type": "code",
   "execution_count": 46,
   "id": "a677ec05",
   "metadata": {},
   "outputs": [
    {
     "data": {
      "text/plain": [
       "(6.654, 8.6, 7.1)"
      ]
     },
     "execution_count": 46,
     "metadata": {},
     "output_type": "execute_result"
    },
    {
     "data": {
      "image/png": "[encoded data removed]",
      "text/plain": [
       "<Figure size 864x288 with 1 Axes>"
      ]
     },
     "metadata": {},
     "output_type": "display_data"
    }
   ],
   "source": [
    "qcut_plot = income_group_qcut['среднее значение целевого параметра'] * 100\n",
    "qcut_plot.index = income_group_qcut['группа']\n",
    "plt.figure(figsize=(12, 4))\n",
    "fig = qcut_plot.plot(kind='bar')\n",
    "fig.set_ylabel('вероятность просрочки в процентах')\n",
    "fig.set_xlabel('группа доходов по возрастанию')\n",
    "plt.xticks(rotation=90)\n",
    "avg = qcut_plot[1:-5].mean().round(1)\n",
    "low = qcut_plot[0].round(3)\n",
    "high = qcut_plot[[0, -5, -4, -3, -2, -1]].mean().round(1)\n",
    "low, avg, high"
   ]
  },
  {
   "cell_type": "markdown",
   "id": "46b20ea9",
   "metadata": {},
   "source": [
    "Линейная зависимость между уровнем дохода и возвратом кредита в срок отсутствует.\n",
    "\n",
    "Однако взаимосвязь все же есть:\n",
    "\n",
    "- Вероятность просрочки у клиентов с доходом ниже `65.000` - `6.7%`\n",
    "- Вероятность просрочки у клиентов с доходом от `65.000` до `195.000` - `8.6%`\n",
    "- Вероятность просрочки у клиентов с доходом выше `195.000` - `7.1%`\n",
    "\n",
    "Вывод:\n",
    "\n",
    "Клиенты с доходом ниже `65.000` и клиенты с доходом выше `195.000` в среднем совершают меньше просрочек, чем чем клиенты с доходом от `65.000` до `195.000`.\n",
    "\n",
    "Рекомендации:\n",
    "\n",
    "Данный результат нужно применять на практике с осторожностью, так как для бóльшей части клиентов уровень дохода не связан с вероятностью просрочки. И если снижение частоты просрочек у клиентов с высокими доходами закономерен, то низкая частота просрочек у клиентов с низким доходом может быть обусловлен многими сторонними факторами. Так как доход - основной показатель, от которого зависит кредитный рейтинг клиента наряду с имуществом и закредитованностью, возможно, банк выдавал кредиты такой категории клиентов только под более крупный и надежный залог, либо при наличии у клиента безупречной КИ."
   ]
  },
  {
   "cell_type": "markdown",
   "id": "3ab5dba3",
   "metadata": {},
   "source": [
    "✅ **Гипотеза 4 подтверждена:**"
   ]
  },
  {
   "cell_type": "code",
   "execution_count": 47,
   "id": "847f9f9d",
   "metadata": {},
   "outputs": [
    {
     "data": {
      "text/plain": [
       "purpose_category\n",
       "проведение свадьбы          7.9\n",
       "получение образования       9.3\n",
       "операции с автомобилем      9.3\n",
       "операции с недвижимостью    7.3\n",
       "Name: среднее значение целевого параметра, dtype: float64"
      ]
     },
     "execution_count": 47,
     "metadata": {},
     "output_type": "execute_result"
    },
    {
     "data": {
      "image/png": "[encoded data removed]",
      "text/plain": [
       "<Figure size 864x288 with 1 Axes>"
      ]
     },
     "metadata": {},
     "output_type": "display_data"
    }
   ],
   "source": [
    "purpose_category_plot = purpose_category_group['среднее значение целевого параметра'] * 100\n",
    "plt.figure(figsize=(12, 4))\n",
    "fig = purpose_category_plot.plot(kind='bar')\n",
    "fig.set_ylabel('вероятность просрочки в процентах')\n",
    "fig.set_xlabel('цель кредита')\n",
    "plt.xticks(rotation=0)\n",
    "purpose_category_plot.round(1)"
   ]
  },
  {
   "cell_type": "markdown",
   "id": "571d9524",
   "metadata": {},
   "source": [
    "- Вероятность просрочки у клиентов, бравших кредит на `получение образования` - `9.3%`\n",
    "- Вероятность просрочки у клиентов, бравших кредит на `операции с автомобилем` - `9.3%`\n",
    "- Вероятность просрочки у клиентов, бравших кредит на `проведение свадьбы` - `7.9%`\n",
    "- Вероятность просрочки у клиентов, бравших кредит на `операции с недвижимостью` - `7.3%`\n",
    "\n",
    "Вывод:\n",
    "\n",
    "Цели кредита значительно влияют на вероятность просрочки:\n",
    "- У клиентов, бравших кредит на `операции с автомобилем` и `получение образования` вероятность просрочки самая высокая.\n",
    "- У клиентов, бравших кредит на `проведение свадьбы` вероятность просрочки значительно ниже.\n",
    "- У клиентов, бравших кредит на `операции с недвижимостью` вероятность просрочки самая низкая.\n",
    "\n",
    "Рекомендации:\n",
    "\n",
    "Взаимосвязь цели кредита и вероятности просрочки достаточно отчетлива, поэтому данную характеристику уже можно применять при построении скоринговой модели. В тоже время различия между минимальной и максимальной вероятностями - 2%. Это говорит о том, что вес данной характеристики в принятии решения не должен быть слишком большой. Можно провести повторное исследование на значительно бóльшей выборке для анализа зависимостей более узких целей кредитования для повышения точности скоринговой модели."
   ]
  },
  {
   "cell_type": "markdown",
   "id": "2b58d36b",
   "metadata": {
    "deletable": false,
    "id": "bad65432"
   },
   "source": [
    "**Общие рекомендации:**\n",
    "1. При построении кредитной скоринговой модели уже можно использовать зависимости из гипотез 1 и 4 (`количество детей` и `цели кредита`) и частично из гипотезы 3 (`уровень дохода`)\n",
    "2. Необходимо собрать более полную выборку для проверки гипотезы 2 (`семейное положение`) и уточнения/расширения гипотезы 1 и 4 (`количество детей` и `цели кредита`)\n",
    "3. Необходимо дополнительно проанализировать причины низкой вероятности просрочки у клиентов с низким доходом на основе более разнообразных данных, например, с использованием данных о заявках на кредиты и об их одобрении/отклонении, для возможности использования этой зависимости в кредитной скоринговой модели."
   ]
  }
 ],
 "metadata": {
  "ExecuteTimeLog": [
   {
    "duration": 426,
    "start_time": "2022-08-20T17:30:42.620Z"
   },
   {
    "duration": 21,
    "start_time": "2022-08-20T17:30:46.478Z"
   },
   {
    "duration": 13,
    "start_time": "2022-08-20T17:30:52.677Z"
   },
   {
    "duration": 9,
    "start_time": "2022-08-20T17:31:02.260Z"
   },
   {
    "duration": 31,
    "start_time": "2022-08-20T17:31:10.936Z"
   },
   {
    "duration": 3,
    "start_time": "2022-08-20T17:31:20.166Z"
   },
   {
    "duration": 7,
    "start_time": "2022-08-20T17:31:21.947Z"
   },
   {
    "duration": 6,
    "start_time": "2022-08-20T17:31:23.815Z"
   },
   {
    "duration": 6,
    "start_time": "2022-08-20T17:31:24.899Z"
   },
   {
    "duration": 8,
    "start_time": "2022-08-20T17:31:26.008Z"
   },
   {
    "duration": 33,
    "start_time": "2022-08-20T17:31:35.642Z"
   },
   {
    "duration": 11,
    "start_time": "2022-08-20T17:31:36.467Z"
   },
   {
    "duration": 5,
    "start_time": "2022-08-20T17:31:38.621Z"
   },
   {
    "duration": 11,
    "start_time": "2022-08-20T17:31:40.054Z"
   },
   {
    "duration": 17,
    "start_time": "2022-08-20T17:31:41.046Z"
   },
   {
    "duration": 25,
    "start_time": "2022-08-20T17:31:41.815Z"
   },
   {
    "duration": 3,
    "start_time": "2022-08-20T17:31:43.666Z"
   },
   {
    "duration": 9,
    "start_time": "2022-08-20T17:31:49.362Z"
   },
   {
    "duration": 6,
    "start_time": "2022-08-20T17:31:53.635Z"
   },
   {
    "duration": 4,
    "start_time": "2022-08-20T17:31:58.529Z"
   },
   {
    "duration": 8,
    "start_time": "2022-08-20T17:32:04.344Z"
   },
   {
    "duration": 2,
    "start_time": "2022-08-20T17:32:05.644Z"
   },
   {
    "duration": 21,
    "start_time": "2022-08-20T17:32:44.832Z"
   },
   {
    "duration": 4,
    "start_time": "2022-08-20T17:33:30.485Z"
   },
   {
    "duration": 32,
    "start_time": "2022-08-20T17:33:35.603Z"
   },
   {
    "duration": 25,
    "start_time": "2022-08-20T17:36:06.596Z"
   },
   {
    "duration": 54,
    "start_time": "2022-08-20T17:39:23.236Z"
   },
   {
    "duration": 1589,
    "start_time": "2022-08-20T17:39:35.231Z"
   },
   {
    "duration": 3176,
    "start_time": "2022-08-20T17:39:42.112Z"
   },
   {
    "duration": 2522,
    "start_time": "2022-08-20T17:42:24.522Z"
   },
   {
    "duration": 20,
    "start_time": "2022-08-20T17:42:30.244Z"
   },
   {
    "duration": 56,
    "start_time": "2022-08-20T17:42:44.380Z"
   },
   {
    "duration": 898,
    "start_time": "2022-08-20T17:42:51.203Z"
   },
   {
    "duration": 2325,
    "start_time": "2022-08-20T17:43:29.635Z"
   },
   {
    "duration": 961,
    "start_time": "2022-08-20T17:43:42.132Z"
   },
   {
    "duration": 943,
    "start_time": "2022-08-20T17:46:05.866Z"
   },
   {
    "duration": 5,
    "start_time": "2022-08-20T17:46:15.667Z"
   },
   {
    "duration": 11,
    "start_time": "2022-08-20T17:46:53.460Z"
   },
   {
    "duration": 5,
    "start_time": "2022-08-20T17:46:56.981Z"
   },
   {
    "duration": 11,
    "start_time": "2022-08-20T17:47:02.413Z"
   },
   {
    "duration": 959,
    "start_time": "2022-08-20T17:47:18.493Z"
   },
   {
    "duration": 16,
    "start_time": "2022-08-20T17:47:21.349Z"
   },
   {
    "duration": 69,
    "start_time": "2022-08-20T17:47:36.270Z"
   },
   {
    "duration": 10,
    "start_time": "2022-08-20T17:48:03.235Z"
   },
   {
    "duration": 10,
    "start_time": "2022-08-20T17:48:11.432Z"
   },
   {
    "duration": 17,
    "start_time": "2022-08-20T17:48:15.374Z"
   },
   {
    "duration": 19,
    "start_time": "2022-08-20T17:48:40.862Z"
   },
   {
    "duration": 6,
    "start_time": "2022-08-20T17:52:21.621Z"
   },
   {
    "duration": 9,
    "start_time": "2022-08-20T17:52:29.215Z"
   },
   {
    "duration": 806,
    "start_time": "2022-08-20T17:52:53.815Z"
   },
   {
    "duration": 7,
    "start_time": "2022-08-20T17:52:58.660Z"
   },
   {
    "duration": 82,
    "start_time": "2022-08-20T17:53:34.461Z"
   },
   {
    "duration": 886,
    "start_time": "2022-08-20T17:53:39.964Z"
   },
   {
    "duration": 885,
    "start_time": "2022-08-20T17:53:53.727Z"
   },
   {
    "duration": 10,
    "start_time": "2022-08-20T17:53:55.760Z"
   },
   {
    "duration": 14,
    "start_time": "2022-08-20T17:54:15.625Z"
   },
   {
    "duration": 5,
    "start_time": "2022-08-20T17:59:01.412Z"
   },
   {
    "duration": 71,
    "start_time": "2022-08-20T17:59:05.517Z"
   },
   {
    "duration": 875,
    "start_time": "2022-08-20T17:59:12.760Z"
   },
   {
    "duration": 1288,
    "start_time": "2022-08-20T18:01:23.037Z"
   },
   {
    "duration": 635,
    "start_time": "2022-08-20T18:01:41.374Z"
   },
   {
    "duration": 54039,
    "start_time": "2022-08-20T18:13:03.527Z"
   },
   {
    "duration": 573,
    "start_time": "2022-08-20T18:14:26.239Z"
   },
   {
    "duration": 416,
    "start_time": "2022-08-20T18:15:02.457Z"
   },
   {
    "duration": 21,
    "start_time": "2022-08-20T18:15:02.875Z"
   },
   {
    "duration": 14,
    "start_time": "2022-08-20T18:15:02.897Z"
   },
   {
    "duration": 13,
    "start_time": "2022-08-20T18:15:02.914Z"
   },
   {
    "duration": 51,
    "start_time": "2022-08-20T18:15:02.929Z"
   },
   {
    "duration": 3,
    "start_time": "2022-08-20T18:15:02.982Z"
   },
   {
    "duration": 11,
    "start_time": "2022-08-20T18:15:02.986Z"
   },
   {
    "duration": 10,
    "start_time": "2022-08-20T18:15:02.998Z"
   },
   {
    "duration": 8,
    "start_time": "2022-08-20T18:15:03.010Z"
   },
   {
    "duration": 9,
    "start_time": "2022-08-20T18:15:03.023Z"
   },
   {
    "duration": 34,
    "start_time": "2022-08-20T18:15:03.034Z"
   },
   {
    "duration": 8,
    "start_time": "2022-08-20T18:15:03.069Z"
   },
   {
    "duration": 17,
    "start_time": "2022-08-20T18:15:03.078Z"
   },
   {
    "duration": 16,
    "start_time": "2022-08-20T18:15:03.096Z"
   },
   {
    "duration": 27,
    "start_time": "2022-08-20T18:15:03.114Z"
   },
   {
    "duration": 15,
    "start_time": "2022-08-20T18:15:03.142Z"
   },
   {
    "duration": 3,
    "start_time": "2022-08-20T18:15:03.158Z"
   },
   {
    "duration": 17,
    "start_time": "2022-08-20T18:15:03.163Z"
   },
   {
    "duration": 11,
    "start_time": "2022-08-20T18:15:03.181Z"
   },
   {
    "duration": 20,
    "start_time": "2022-08-20T18:15:03.193Z"
   },
   {
    "duration": 29,
    "start_time": "2022-08-20T18:15:03.217Z"
   },
   {
    "duration": 2669,
    "start_time": "2022-08-20T18:15:03.248Z"
   },
   {
    "duration": 24,
    "start_time": "2022-08-20T18:15:05.919Z"
   },
   {
    "duration": 679,
    "start_time": "2022-08-20T18:15:05.945Z"
   },
   {
    "duration": 3,
    "start_time": "2022-08-20T18:15:06.626Z"
   },
   {
    "duration": 20,
    "start_time": "2022-08-20T18:15:06.631Z"
   },
   {
    "duration": 13,
    "start_time": "2022-08-20T18:15:06.652Z"
   },
   {
    "duration": 6,
    "start_time": "2022-08-20T18:21:00.894Z"
   },
   {
    "duration": 16,
    "start_time": "2022-08-20T18:30:04.723Z"
   },
   {
    "duration": 7,
    "start_time": "2022-08-20T18:30:14.738Z"
   },
   {
    "duration": 6,
    "start_time": "2022-08-20T18:30:26.502Z"
   },
   {
    "duration": 7,
    "start_time": "2022-08-20T18:30:54.482Z"
   },
   {
    "duration": 10,
    "start_time": "2022-08-20T18:35:20.404Z"
   },
   {
    "duration": 100,
    "start_time": "2022-08-20T18:37:09.676Z"
   },
   {
    "duration": 4,
    "start_time": "2022-08-20T18:37:27.370Z"
   },
   {
    "duration": 11,
    "start_time": "2022-08-20T18:37:38.364Z"
   },
   {
    "duration": 10,
    "start_time": "2022-08-20T18:37:57.670Z"
   },
   {
    "duration": 13,
    "start_time": "2022-08-20T18:38:10.389Z"
   },
   {
    "duration": 15,
    "start_time": "2022-08-20T18:39:47.949Z"
   },
   {
    "duration": 18,
    "start_time": "2022-08-20T18:39:53.305Z"
   },
   {
    "duration": 18,
    "start_time": "2022-08-20T18:40:16.196Z"
   },
   {
    "duration": 607,
    "start_time": "2022-08-20T18:44:29.296Z"
   },
   {
    "duration": 557,
    "start_time": "2022-08-20T18:46:07.682Z"
   },
   {
    "duration": 569,
    "start_time": "2022-08-20T18:47:03.428Z"
   },
   {
    "duration": 543,
    "start_time": "2022-08-20T18:47:30.024Z"
   },
   {
    "duration": 13,
    "start_time": "2022-08-20T18:48:25.378Z"
   },
   {
    "duration": 16,
    "start_time": "2022-08-20T18:53:53.701Z"
   },
   {
    "duration": 14,
    "start_time": "2022-08-20T18:55:52.364Z"
   },
   {
    "duration": 475,
    "start_time": "2022-08-20T18:59:46.390Z"
   },
   {
    "duration": 20,
    "start_time": "2022-08-20T18:59:46.866Z"
   },
   {
    "duration": 23,
    "start_time": "2022-08-20T18:59:46.887Z"
   },
   {
    "duration": 13,
    "start_time": "2022-08-20T18:59:46.913Z"
   },
   {
    "duration": 30,
    "start_time": "2022-08-20T18:59:46.928Z"
   },
   {
    "duration": 3,
    "start_time": "2022-08-20T18:59:46.959Z"
   },
   {
    "duration": 9,
    "start_time": "2022-08-20T18:59:46.964Z"
   },
   {
    "duration": 4,
    "start_time": "2022-08-20T18:59:46.974Z"
   },
   {
    "duration": 32,
    "start_time": "2022-08-20T18:59:46.979Z"
   },
   {
    "duration": 4,
    "start_time": "2022-08-20T18:59:47.015Z"
   },
   {
    "duration": 38,
    "start_time": "2022-08-20T18:59:47.021Z"
   },
   {
    "duration": 8,
    "start_time": "2022-08-20T18:59:47.061Z"
   },
   {
    "duration": 4,
    "start_time": "2022-08-20T18:59:47.070Z"
   },
   {
    "duration": 11,
    "start_time": "2022-08-20T18:59:47.076Z"
   },
   {
    "duration": 35,
    "start_time": "2022-08-20T18:59:47.088Z"
   },
   {
    "duration": 17,
    "start_time": "2022-08-20T18:59:47.125Z"
   },
   {
    "duration": 3,
    "start_time": "2022-08-20T18:59:47.143Z"
   },
   {
    "duration": 15,
    "start_time": "2022-08-20T18:59:47.147Z"
   },
   {
    "duration": 5,
    "start_time": "2022-08-20T18:59:47.163Z"
   },
   {
    "duration": 4,
    "start_time": "2022-08-20T18:59:47.170Z"
   },
   {
    "duration": 34,
    "start_time": "2022-08-20T18:59:47.176Z"
   },
   {
    "duration": 2669,
    "start_time": "2022-08-20T18:59:47.212Z"
   },
   {
    "duration": 33,
    "start_time": "2022-08-20T18:59:49.883Z"
   },
   {
    "duration": 643,
    "start_time": "2022-08-20T18:59:49.918Z"
   },
   {
    "duration": 13,
    "start_time": "2022-08-20T18:59:50.562Z"
   },
   {
    "duration": 2,
    "start_time": "2022-08-20T18:59:50.577Z"
   },
   {
    "duration": 9,
    "start_time": "2022-08-20T18:59:50.580Z"
   },
   {
    "duration": 10,
    "start_time": "2022-08-20T18:59:50.591Z"
   },
   {
    "duration": 10,
    "start_time": "2022-08-20T19:04:51.729Z"
   },
   {
    "duration": 601,
    "start_time": "2022-08-20T19:06:11.802Z"
   },
   {
    "duration": 99,
    "start_time": "2022-08-20T19:09:23.398Z"
   },
   {
    "duration": 7,
    "start_time": "2022-08-20T19:09:42.056Z"
   },
   {
    "duration": 14,
    "start_time": "2022-08-20T19:09:53.720Z"
   },
   {
    "duration": 78,
    "start_time": "2022-08-20T19:12:27.743Z"
   },
   {
    "duration": 15,
    "start_time": "2022-08-20T19:12:34.217Z"
   },
   {
    "duration": 270,
    "start_time": "2022-08-20T19:12:38.223Z"
   },
   {
    "duration": 53,
    "start_time": "2022-08-20T19:13:11.165Z"
   },
   {
    "duration": 584,
    "start_time": "2022-08-20T19:13:29.538Z"
   },
   {
    "duration": 501,
    "start_time": "2022-08-20T19:15:28.199Z"
   },
   {
    "duration": 350,
    "start_time": "2022-08-20T19:15:32.056Z"
   },
   {
    "duration": 334,
    "start_time": "2022-08-20T19:15:36.220Z"
   },
   {
    "duration": 297,
    "start_time": "2022-08-20T19:15:40.237Z"
   },
   {
    "duration": 302,
    "start_time": "2022-08-20T19:15:44.785Z"
   },
   {
    "duration": 233,
    "start_time": "2022-08-20T19:15:51.101Z"
   },
   {
    "duration": 502,
    "start_time": "2022-08-20T19:16:14.747Z"
   },
   {
    "duration": 1255,
    "start_time": "2022-08-20T19:17:01.972Z"
   },
   {
    "duration": 1168,
    "start_time": "2022-08-20T19:17:12.177Z"
   },
   {
    "duration": 1309,
    "start_time": "2022-08-20T19:17:16.795Z"
   },
   {
    "duration": 1187,
    "start_time": "2022-08-20T19:17:21.323Z"
   },
   {
    "duration": 47,
    "start_time": "2022-08-20T19:17:48.317Z"
   },
   {
    "duration": 48,
    "start_time": "2022-08-20T19:18:17.530Z"
   },
   {
    "duration": 17,
    "start_time": "2022-08-20T19:18:29.742Z"
   },
   {
    "duration": 24,
    "start_time": "2022-08-20T19:18:59.075Z"
   },
   {
    "duration": 391,
    "start_time": "2022-08-20T19:19:24.664Z"
   },
   {
    "duration": 15,
    "start_time": "2022-08-20T19:20:09.923Z"
   },
   {
    "duration": 23,
    "start_time": "2022-08-20T19:20:16.846Z"
   },
   {
    "duration": 24,
    "start_time": "2022-08-20T19:20:25.678Z"
   },
   {
    "duration": 506,
    "start_time": "2022-08-20T19:21:10.067Z"
   },
   {
    "duration": 412,
    "start_time": "2022-08-20T19:22:57.869Z"
   },
   {
    "duration": 18,
    "start_time": "2022-08-20T19:25:52.601Z"
   },
   {
    "duration": 698,
    "start_time": "2022-08-20T19:26:35.866Z"
   },
   {
    "duration": 15,
    "start_time": "2022-08-20T19:26:46.367Z"
   },
   {
    "duration": 19,
    "start_time": "2022-08-20T19:26:52.127Z"
   },
   {
    "duration": 361,
    "start_time": "2022-08-20T19:30:14.493Z"
   },
   {
    "duration": 336,
    "start_time": "2022-08-20T19:30:44.645Z"
   },
   {
    "duration": 19,
    "start_time": "2022-08-20T19:44:25.607Z"
   },
   {
    "duration": 17,
    "start_time": "2022-08-20T19:50:12.993Z"
   },
   {
    "duration": 7,
    "start_time": "2022-08-20T19:53:55.296Z"
   },
   {
    "duration": 12,
    "start_time": "2022-08-20T19:54:01.452Z"
   },
   {
    "duration": 12,
    "start_time": "2022-08-20T19:56:12.636Z"
   },
   {
    "duration": 12,
    "start_time": "2022-08-20T19:56:25.014Z"
   },
   {
    "duration": 13,
    "start_time": "2022-08-20T19:56:34.568Z"
   },
   {
    "duration": 15,
    "start_time": "2022-08-20T20:15:41.796Z"
   },
   {
    "duration": 15,
    "start_time": "2022-08-20T20:16:30.433Z"
   },
   {
    "duration": 16,
    "start_time": "2022-08-20T20:17:03.451Z"
   },
   {
    "duration": 15090,
    "start_time": "2022-08-20T20:23:03.545Z"
   },
   {
    "duration": 216,
    "start_time": "2022-08-20T20:24:21.819Z"
   },
   {
    "duration": 163,
    "start_time": "2022-08-20T20:26:44.660Z"
   },
   {
    "duration": 21,
    "start_time": "2022-08-20T20:32:26.180Z"
   },
   {
    "duration": 15,
    "start_time": "2022-08-20T20:33:07.177Z"
   },
   {
    "duration": 13,
    "start_time": "2022-08-20T20:33:24.452Z"
   },
   {
    "duration": 12,
    "start_time": "2022-08-20T20:35:08.660Z"
   },
   {
    "duration": 18,
    "start_time": "2022-08-20T20:35:38.395Z"
   },
   {
    "duration": 14,
    "start_time": "2022-08-20T20:37:22.114Z"
   },
   {
    "duration": 77,
    "start_time": "2022-08-20T20:37:24.280Z"
   },
   {
    "duration": 1371,
    "start_time": "2022-08-20T20:37:46.378Z"
   },
   {
    "duration": 5,
    "start_time": "2022-08-20T20:38:00.384Z"
   },
   {
    "duration": 4,
    "start_time": "2022-08-20T20:38:20.992Z"
   },
   {
    "duration": 8,
    "start_time": "2022-08-20T20:38:31.728Z"
   },
   {
    "duration": 4,
    "start_time": "2022-08-20T20:38:36.637Z"
   },
   {
    "duration": 9,
    "start_time": "2022-08-20T20:38:41.822Z"
   },
   {
    "duration": 4,
    "start_time": "2022-08-20T20:38:46.917Z"
   },
   {
    "duration": 5,
    "start_time": "2022-08-20T20:39:48.151Z"
   },
   {
    "duration": 8,
    "start_time": "2022-08-20T20:40:06.390Z"
   },
   {
    "duration": 4,
    "start_time": "2022-08-20T20:41:15.764Z"
   },
   {
    "duration": 9,
    "start_time": "2022-08-20T20:41:25.236Z"
   },
   {
    "duration": 5,
    "start_time": "2022-08-20T20:41:28.134Z"
   },
   {
    "duration": 8,
    "start_time": "2022-08-20T20:41:33.491Z"
   },
   {
    "duration": 3,
    "start_time": "2022-08-20T20:41:43.647Z"
   },
   {
    "duration": 6,
    "start_time": "2022-08-20T20:41:44.053Z"
   },
   {
    "duration": 4,
    "start_time": "2022-08-20T20:43:42.783Z"
   },
   {
    "duration": 6,
    "start_time": "2022-08-20T20:43:43.178Z"
   },
   {
    "duration": 17,
    "start_time": "2022-08-20T20:43:57.483Z"
   },
   {
    "duration": 15,
    "start_time": "2022-08-20T20:45:13.064Z"
   },
   {
    "duration": 310,
    "start_time": "2022-08-20T20:45:25.775Z"
   },
   {
    "duration": 19,
    "start_time": "2022-08-20T20:46:22.098Z"
   },
   {
    "duration": 20,
    "start_time": "2022-08-20T20:46:37.808Z"
   },
   {
    "duration": 1327,
    "start_time": "2022-08-20T20:47:26.376Z"
   },
   {
    "duration": 19,
    "start_time": "2022-08-20T20:47:42.761Z"
   },
   {
    "duration": 18,
    "start_time": "2022-08-20T20:48:02.844Z"
   },
   {
    "duration": 20,
    "start_time": "2022-08-20T20:48:22.161Z"
   },
   {
    "duration": 15,
    "start_time": "2022-08-20T20:49:19.507Z"
   },
   {
    "duration": 15,
    "start_time": "2022-08-20T20:49:35.657Z"
   },
   {
    "duration": 16,
    "start_time": "2022-08-20T20:49:58.834Z"
   },
   {
    "duration": 18,
    "start_time": "2022-08-20T20:50:17.573Z"
   },
   {
    "duration": 17,
    "start_time": "2022-08-20T20:50:20.551Z"
   },
   {
    "duration": 17,
    "start_time": "2022-08-20T20:50:27.923Z"
   },
   {
    "duration": 15,
    "start_time": "2022-08-20T20:51:05.605Z"
   },
   {
    "duration": 12,
    "start_time": "2022-08-20T20:51:13.410Z"
   },
   {
    "duration": 13,
    "start_time": "2022-08-20T20:51:24.760Z"
   },
   {
    "duration": 24,
    "start_time": "2022-08-20T20:52:06.071Z"
   },
   {
    "duration": 19,
    "start_time": "2022-08-20T20:52:13.207Z"
   },
   {
    "duration": 20,
    "start_time": "2022-08-20T20:52:24.552Z"
   },
   {
    "duration": 21,
    "start_time": "2022-08-20T20:53:34.353Z"
   },
   {
    "duration": 24,
    "start_time": "2022-08-20T20:54:01.677Z"
   },
   {
    "duration": 23,
    "start_time": "2022-08-20T20:54:17.454Z"
   },
   {
    "duration": 25,
    "start_time": "2022-08-20T20:54:23.461Z"
   },
   {
    "duration": 38,
    "start_time": "2022-08-20T20:54:34.325Z"
   },
   {
    "duration": 25,
    "start_time": "2022-08-20T20:55:16.309Z"
   },
   {
    "duration": 21,
    "start_time": "2022-08-20T20:55:23.084Z"
   },
   {
    "duration": 312,
    "start_time": "2022-08-20T20:55:38.225Z"
   },
   {
    "duration": 162,
    "start_time": "2022-08-20T20:56:43.642Z"
   },
   {
    "duration": 356,
    "start_time": "2022-08-20T20:57:23.458Z"
   },
   {
    "duration": 272,
    "start_time": "2022-08-20T20:58:28.547Z"
   },
   {
    "duration": 169,
    "start_time": "2022-08-20T20:59:25.255Z"
   },
   {
    "duration": 171,
    "start_time": "2022-08-20T21:02:37.294Z"
   },
   {
    "duration": 107,
    "start_time": "2022-08-20T21:02:51.014Z"
   },
   {
    "duration": 111,
    "start_time": "2022-08-20T21:02:58.879Z"
   },
   {
    "duration": 191,
    "start_time": "2022-08-20T21:03:07.998Z"
   },
   {
    "duration": 14,
    "start_time": "2022-08-20T21:03:24.933Z"
   },
   {
    "duration": 193,
    "start_time": "2022-08-20T21:07:15.034Z"
   },
   {
    "duration": 560,
    "start_time": "2022-08-20T21:07:50.750Z"
   },
   {
    "duration": 138,
    "start_time": "2022-08-20T21:11:05.829Z"
   },
   {
    "duration": 137,
    "start_time": "2022-08-20T21:11:28.025Z"
   },
   {
    "duration": 209,
    "start_time": "2022-08-20T21:11:40.793Z"
   },
   {
    "duration": 93,
    "start_time": "2022-08-20T21:11:52.834Z"
   },
   {
    "duration": 75,
    "start_time": "2022-08-20T21:11:56.231Z"
   },
   {
    "duration": 227,
    "start_time": "2022-08-20T21:11:59.979Z"
   },
   {
    "duration": 214,
    "start_time": "2022-08-20T21:18:08.164Z"
   },
   {
    "duration": 390,
    "start_time": "2022-08-20T21:19:17.300Z"
   },
   {
    "duration": 257,
    "start_time": "2022-08-20T21:19:39.385Z"
   },
   {
    "duration": 290,
    "start_time": "2022-08-20T21:20:55.680Z"
   },
   {
    "duration": 243,
    "start_time": "2022-08-20T21:21:00.792Z"
   },
   {
    "duration": 261,
    "start_time": "2022-08-20T21:21:16.524Z"
   },
   {
    "duration": 290,
    "start_time": "2022-08-20T21:21:26.087Z"
   },
   {
    "duration": 257,
    "start_time": "2022-08-20T21:21:31.271Z"
   },
   {
    "duration": 267,
    "start_time": "2022-08-20T21:21:38.767Z"
   },
   {
    "duration": 287,
    "start_time": "2022-08-20T21:22:39.974Z"
   },
   {
    "duration": 249,
    "start_time": "2022-08-20T21:23:08.527Z"
   },
   {
    "duration": 241,
    "start_time": "2022-08-20T21:24:38.443Z"
   },
   {
    "duration": 230,
    "start_time": "2022-08-20T21:24:49.325Z"
   },
   {
    "duration": 23,
    "start_time": "2022-08-20T21:27:20.723Z"
   },
   {
    "duration": 182,
    "start_time": "2022-08-20T21:27:21.549Z"
   },
   {
    "duration": 153,
    "start_time": "2022-08-20T21:29:10.926Z"
   },
   {
    "duration": 161,
    "start_time": "2022-08-20T21:29:11.723Z"
   },
   {
    "duration": 405,
    "start_time": "2022-08-20T21:35:00.638Z"
   },
   {
    "duration": 20,
    "start_time": "2022-08-20T21:35:01.045Z"
   },
   {
    "duration": 20,
    "start_time": "2022-08-20T21:35:01.066Z"
   },
   {
    "duration": 9,
    "start_time": "2022-08-20T21:35:01.087Z"
   },
   {
    "duration": 35,
    "start_time": "2022-08-20T21:35:01.098Z"
   },
   {
    "duration": 4,
    "start_time": "2022-08-20T21:35:01.134Z"
   },
   {
    "duration": 12,
    "start_time": "2022-08-20T21:35:01.139Z"
   },
   {
    "duration": 4,
    "start_time": "2022-08-20T21:35:01.153Z"
   },
   {
    "duration": 12,
    "start_time": "2022-08-20T21:35:01.158Z"
   },
   {
    "duration": 5,
    "start_time": "2022-08-20T21:35:01.171Z"
   },
   {
    "duration": 51,
    "start_time": "2022-08-20T21:35:01.178Z"
   },
   {
    "duration": 10,
    "start_time": "2022-08-20T21:35:01.230Z"
   },
   {
    "duration": 5,
    "start_time": "2022-08-20T21:35:01.241Z"
   },
   {
    "duration": 11,
    "start_time": "2022-08-20T21:35:01.249Z"
   },
   {
    "duration": 19,
    "start_time": "2022-08-20T21:35:01.261Z"
   },
   {
    "duration": 39,
    "start_time": "2022-08-20T21:35:01.281Z"
   },
   {
    "duration": 3,
    "start_time": "2022-08-20T21:35:01.322Z"
   },
   {
    "duration": 11,
    "start_time": "2022-08-20T21:35:01.327Z"
   },
   {
    "duration": 12,
    "start_time": "2022-08-20T21:35:01.339Z"
   },
   {
    "duration": 4,
    "start_time": "2022-08-20T21:35:01.353Z"
   },
   {
    "duration": 26,
    "start_time": "2022-08-20T21:35:01.358Z"
   },
   {
    "duration": 2720,
    "start_time": "2022-08-20T21:35:01.386Z"
   },
   {
    "duration": 20,
    "start_time": "2022-08-20T21:35:04.107Z"
   },
   {
    "duration": 562,
    "start_time": "2022-08-20T21:35:04.129Z"
   },
   {
    "duration": 18,
    "start_time": "2022-08-20T21:35:04.692Z"
   },
   {
    "duration": 9,
    "start_time": "2022-08-20T21:35:04.711Z"
   },
   {
    "duration": 14,
    "start_time": "2022-08-20T21:35:04.721Z"
   },
   {
    "duration": 13,
    "start_time": "2022-08-20T21:35:04.736Z"
   },
   {
    "duration": 20,
    "start_time": "2022-08-20T21:35:04.750Z"
   },
   {
    "duration": 194,
    "start_time": "2022-08-20T21:35:04.771Z"
   },
   {
    "duration": 14,
    "start_time": "2022-08-20T21:35:04.967Z"
   },
   {
    "duration": 2,
    "start_time": "2022-08-20T21:35:04.982Z"
   },
   {
    "duration": 363,
    "start_time": "2022-08-20T21:35:04.986Z"
   },
   {
    "duration": 215,
    "start_time": "2022-08-20T21:36:16.835Z"
   },
   {
    "duration": 23,
    "start_time": "2022-08-20T21:39:07.048Z"
   },
   {
    "duration": 226,
    "start_time": "2022-08-20T21:39:07.420Z"
   },
   {
    "duration": 162,
    "start_time": "2022-08-20T21:39:07.880Z"
   },
   {
    "duration": 91,
    "start_time": "2022-08-20T21:39:25.533Z"
   },
   {
    "duration": 310,
    "start_time": "2022-08-20T21:39:25.917Z"
   },
   {
    "duration": 199,
    "start_time": "2022-08-20T21:39:26.721Z"
   },
   {
    "duration": 22,
    "start_time": "2022-08-20T21:39:54.765Z"
   },
   {
    "duration": 183,
    "start_time": "2022-08-20T21:39:56.584Z"
   },
   {
    "duration": 169,
    "start_time": "2022-08-20T21:39:59.995Z"
   },
   {
    "duration": 22,
    "start_time": "2022-08-20T21:40:51.250Z"
   },
   {
    "duration": 167,
    "start_time": "2022-08-20T21:40:52.061Z"
   },
   {
    "duration": 22,
    "start_time": "2022-08-20T21:41:13.047Z"
   },
   {
    "duration": 23,
    "start_time": "2022-08-20T21:41:39.847Z"
   },
   {
    "duration": 265,
    "start_time": "2022-08-20T21:41:40.232Z"
   },
   {
    "duration": 254,
    "start_time": "2022-08-20T21:42:24.662Z"
   },
   {
    "duration": 240,
    "start_time": "2022-08-20T21:42:48.982Z"
   },
   {
    "duration": 254,
    "start_time": "2022-08-20T21:46:43.742Z"
   },
   {
    "duration": 26,
    "start_time": "2022-08-20T21:48:33.114Z"
   },
   {
    "duration": 237,
    "start_time": "2022-08-20T21:48:51.127Z"
   },
   {
    "duration": 30,
    "start_time": "2022-08-20T21:49:33.548Z"
   },
   {
    "duration": 102,
    "start_time": "2022-08-20T21:58:54.159Z"
   },
   {
    "duration": 370,
    "start_time": "2022-08-20T21:59:09.564Z"
   },
   {
    "duration": 448,
    "start_time": "2022-08-20T22:00:05.882Z"
   },
   {
    "duration": 295,
    "start_time": "2022-08-20T22:00:30.549Z"
   },
   {
    "duration": 15,
    "start_time": "2022-08-20T22:01:46.636Z"
   },
   {
    "duration": 10,
    "start_time": "2022-08-20T22:06:14.016Z"
   },
   {
    "duration": 410,
    "start_time": "2022-08-20T22:07:49.631Z"
   },
   {
    "duration": 23,
    "start_time": "2022-08-20T22:07:50.042Z"
   },
   {
    "duration": 18,
    "start_time": "2022-08-20T22:07:50.069Z"
   },
   {
    "duration": 27,
    "start_time": "2022-08-20T22:07:50.088Z"
   },
   {
    "duration": 2,
    "start_time": "2022-08-20T22:07:50.117Z"
   },
   {
    "duration": 5,
    "start_time": "2022-08-20T22:07:50.120Z"
   },
   {
    "duration": 9,
    "start_time": "2022-08-20T22:07:50.126Z"
   },
   {
    "duration": 4,
    "start_time": "2022-08-20T22:07:50.136Z"
   },
   {
    "duration": 11,
    "start_time": "2022-08-20T22:07:50.142Z"
   },
   {
    "duration": 4,
    "start_time": "2022-08-20T22:07:50.154Z"
   },
   {
    "duration": 53,
    "start_time": "2022-08-20T22:07:50.160Z"
   },
   {
    "duration": 8,
    "start_time": "2022-08-20T22:07:50.215Z"
   },
   {
    "duration": 68,
    "start_time": "2022-08-20T22:07:50.224Z"
   },
   {
    "duration": 0,
    "start_time": "2022-08-20T22:07:50.294Z"
   },
   {
    "duration": 0,
    "start_time": "2022-08-20T22:07:50.295Z"
   },
   {
    "duration": 0,
    "start_time": "2022-08-20T22:07:50.296Z"
   },
   {
    "duration": 0,
    "start_time": "2022-08-20T22:07:50.296Z"
   },
   {
    "duration": 0,
    "start_time": "2022-08-20T22:07:50.297Z"
   },
   {
    "duration": 0,
    "start_time": "2022-08-20T22:07:50.298Z"
   },
   {
    "duration": 0,
    "start_time": "2022-08-20T22:07:50.298Z"
   },
   {
    "duration": 0,
    "start_time": "2022-08-20T22:07:50.305Z"
   },
   {
    "duration": 0,
    "start_time": "2022-08-20T22:07:50.306Z"
   },
   {
    "duration": 0,
    "start_time": "2022-08-20T22:07:50.307Z"
   },
   {
    "duration": 0,
    "start_time": "2022-08-20T22:07:50.308Z"
   },
   {
    "duration": 0,
    "start_time": "2022-08-20T22:07:50.309Z"
   },
   {
    "duration": 0,
    "start_time": "2022-08-20T22:07:50.310Z"
   },
   {
    "duration": 0,
    "start_time": "2022-08-20T22:07:50.311Z"
   },
   {
    "duration": 0,
    "start_time": "2022-08-20T22:07:50.312Z"
   },
   {
    "duration": 0,
    "start_time": "2022-08-20T22:07:50.313Z"
   },
   {
    "duration": 0,
    "start_time": "2022-08-20T22:07:50.314Z"
   },
   {
    "duration": 0,
    "start_time": "2022-08-20T22:07:50.315Z"
   },
   {
    "duration": 0,
    "start_time": "2022-08-20T22:07:50.316Z"
   },
   {
    "duration": 10,
    "start_time": "2022-08-20T22:08:34.315Z"
   },
   {
    "duration": 21,
    "start_time": "2022-08-20T22:08:34.768Z"
   },
   {
    "duration": 16,
    "start_time": "2022-08-20T22:08:35.115Z"
   },
   {
    "duration": 3,
    "start_time": "2022-08-20T22:08:35.636Z"
   },
   {
    "duration": 12,
    "start_time": "2022-08-20T22:08:35.803Z"
   },
   {
    "duration": 7,
    "start_time": "2022-08-20T22:08:36.125Z"
   },
   {
    "duration": 4,
    "start_time": "2022-08-20T22:08:36.472Z"
   },
   {
    "duration": 12,
    "start_time": "2022-08-20T22:08:36.650Z"
   },
   {
    "duration": 2852,
    "start_time": "2022-08-20T22:08:37.146Z"
   },
   {
    "duration": 22,
    "start_time": "2022-08-20T22:08:39.999Z"
   },
   {
    "duration": 602,
    "start_time": "2022-08-20T22:08:40.022Z"
   },
   {
    "duration": 11,
    "start_time": "2022-08-20T22:08:40.625Z"
   },
   {
    "duration": 10,
    "start_time": "2022-08-20T22:08:40.637Z"
   },
   {
    "duration": 16,
    "start_time": "2022-08-20T22:08:40.648Z"
   },
   {
    "duration": 16,
    "start_time": "2022-08-20T22:08:46.211Z"
   },
   {
    "duration": 31,
    "start_time": "2022-08-20T22:08:46.818Z"
   },
   {
    "duration": 272,
    "start_time": "2022-08-20T22:08:46.851Z"
   },
   {
    "duration": 245,
    "start_time": "2022-08-20T22:09:55.620Z"
   },
   {
    "duration": 448,
    "start_time": "2022-08-20T22:10:54.670Z"
   },
   {
    "duration": 20,
    "start_time": "2022-08-20T22:10:55.120Z"
   },
   {
    "duration": 12,
    "start_time": "2022-08-20T22:10:55.141Z"
   },
   {
    "duration": 8,
    "start_time": "2022-08-20T22:10:55.154Z"
   },
   {
    "duration": 42,
    "start_time": "2022-08-20T22:10:55.164Z"
   },
   {
    "duration": 4,
    "start_time": "2022-08-20T22:10:55.207Z"
   },
   {
    "duration": 11,
    "start_time": "2022-08-20T22:10:55.212Z"
   },
   {
    "duration": 4,
    "start_time": "2022-08-20T22:10:55.225Z"
   },
   {
    "duration": 8,
    "start_time": "2022-08-20T22:10:55.230Z"
   },
   {
    "duration": 4,
    "start_time": "2022-08-20T22:10:55.239Z"
   },
   {
    "duration": 29,
    "start_time": "2022-08-20T22:10:55.244Z"
   },
   {
    "duration": 34,
    "start_time": "2022-08-20T22:10:55.275Z"
   },
   {
    "duration": 4,
    "start_time": "2022-08-20T22:10:55.311Z"
   },
   {
    "duration": 11,
    "start_time": "2022-08-20T22:10:55.317Z"
   },
   {
    "duration": 20,
    "start_time": "2022-08-20T22:10:55.329Z"
   },
   {
    "duration": 15,
    "start_time": "2022-08-20T22:10:55.351Z"
   },
   {
    "duration": 3,
    "start_time": "2022-08-20T22:10:55.367Z"
   },
   {
    "duration": 34,
    "start_time": "2022-08-20T22:10:55.372Z"
   },
   {
    "duration": 5,
    "start_time": "2022-08-20T22:10:55.407Z"
   },
   {
    "duration": 4,
    "start_time": "2022-08-20T22:10:55.414Z"
   },
   {
    "duration": 11,
    "start_time": "2022-08-20T22:10:55.419Z"
   },
   {
    "duration": 2698,
    "start_time": "2022-08-20T22:10:55.431Z"
   },
   {
    "duration": 20,
    "start_time": "2022-08-20T22:10:58.130Z"
   },
   {
    "duration": 581,
    "start_time": "2022-08-20T22:10:58.151Z"
   },
   {
    "duration": 11,
    "start_time": "2022-08-20T22:10:58.733Z"
   },
   {
    "duration": 9,
    "start_time": "2022-08-20T22:10:58.746Z"
   },
   {
    "duration": 13,
    "start_time": "2022-08-20T22:10:58.757Z"
   },
   {
    "duration": 35,
    "start_time": "2022-08-20T22:10:58.771Z"
   },
   {
    "duration": 28,
    "start_time": "2022-08-20T22:10:58.808Z"
   },
   {
    "duration": 300,
    "start_time": "2022-08-20T22:10:58.837Z"
   },
   {
    "duration": 3,
    "start_time": "2022-08-20T22:10:59.138Z"
   },
   {
    "duration": 394,
    "start_time": "2022-08-20T22:10:59.142Z"
   },
   {
    "duration": 493,
    "start_time": "2022-08-21T08:46:10.075Z"
   },
   {
    "duration": 20,
    "start_time": "2022-08-21T08:46:10.570Z"
   },
   {
    "duration": 13,
    "start_time": "2022-08-21T08:46:10.592Z"
   },
   {
    "duration": 12,
    "start_time": "2022-08-21T08:46:10.606Z"
   },
   {
    "duration": 34,
    "start_time": "2022-08-21T08:46:10.620Z"
   },
   {
    "duration": 3,
    "start_time": "2022-08-21T08:46:10.656Z"
   },
   {
    "duration": 9,
    "start_time": "2022-08-21T08:46:10.660Z"
   },
   {
    "duration": 3,
    "start_time": "2022-08-21T08:46:10.671Z"
   },
   {
    "duration": 34,
    "start_time": "2022-08-21T08:46:10.675Z"
   },
   {
    "duration": 18,
    "start_time": "2022-08-21T08:46:10.710Z"
   },
   {
    "duration": 29,
    "start_time": "2022-08-21T08:46:10.729Z"
   },
   {
    "duration": 7,
    "start_time": "2022-08-21T08:46:10.759Z"
   },
   {
    "duration": 4,
    "start_time": "2022-08-21T08:46:10.767Z"
   },
   {
    "duration": 10,
    "start_time": "2022-08-21T08:46:10.773Z"
   },
   {
    "duration": 38,
    "start_time": "2022-08-21T08:46:10.785Z"
   },
   {
    "duration": 14,
    "start_time": "2022-08-21T08:46:10.824Z"
   },
   {
    "duration": 3,
    "start_time": "2022-08-21T08:46:10.839Z"
   },
   {
    "duration": 11,
    "start_time": "2022-08-21T08:46:10.844Z"
   },
   {
    "duration": 9,
    "start_time": "2022-08-21T08:46:10.856Z"
   },
   {
    "duration": 4,
    "start_time": "2022-08-21T08:46:10.866Z"
   },
   {
    "duration": 35,
    "start_time": "2022-08-21T08:46:10.871Z"
   },
   {
    "duration": 3899,
    "start_time": "2022-08-21T08:46:10.908Z"
   },
   {
    "duration": 23,
    "start_time": "2022-08-21T08:46:14.809Z"
   },
   {
    "duration": 625,
    "start_time": "2022-08-21T08:46:14.834Z"
   },
   {
    "duration": 11,
    "start_time": "2022-08-21T08:46:15.460Z"
   },
   {
    "duration": 9,
    "start_time": "2022-08-21T08:46:15.473Z"
   },
   {
    "duration": 41,
    "start_time": "2022-08-21T08:46:15.483Z"
   },
   {
    "duration": 15,
    "start_time": "2022-08-21T08:46:15.526Z"
   },
   {
    "duration": 28,
    "start_time": "2022-08-21T08:46:15.542Z"
   },
   {
    "duration": 333,
    "start_time": "2022-08-21T08:46:15.605Z"
   },
   {
    "duration": 3,
    "start_time": "2022-08-21T08:46:15.939Z"
   },
   {
    "duration": 443,
    "start_time": "2022-08-21T08:46:15.943Z"
   },
   {
    "duration": 17,
    "start_time": "2022-08-21T09:32:46.620Z"
   },
   {
    "duration": 344,
    "start_time": "2022-08-21T09:33:33.148Z"
   },
   {
    "duration": 361,
    "start_time": "2022-08-21T09:37:05.171Z"
   },
   {
    "duration": 326,
    "start_time": "2022-08-21T09:37:31.140Z"
   },
   {
    "duration": 323,
    "start_time": "2022-08-21T09:39:11.444Z"
   },
   {
    "duration": 478,
    "start_time": "2022-08-21T09:39:17.718Z"
   },
   {
    "duration": 294,
    "start_time": "2022-08-21T09:40:29.625Z"
   },
   {
    "duration": 375,
    "start_time": "2022-08-21T09:40:35.822Z"
   },
   {
    "duration": 8,
    "start_time": "2022-08-21T09:51:10.449Z"
   },
   {
    "duration": 5,
    "start_time": "2022-08-21T09:51:16.833Z"
   },
   {
    "duration": 5,
    "start_time": "2022-08-21T09:51:21.842Z"
   },
   {
    "duration": 68,
    "start_time": "2022-08-21T10:14:59.727Z"
   },
   {
    "duration": 25,
    "start_time": "2022-08-21T10:15:04.064Z"
   },
   {
    "duration": 3,
    "start_time": "2022-08-21T10:22:48.699Z"
   },
   {
    "duration": 114,
    "start_time": "2022-08-21T10:26:35.820Z"
   },
   {
    "duration": 45,
    "start_time": "2022-08-21T10:28:32.528Z"
   },
   {
    "duration": 5,
    "start_time": "2022-08-21T10:28:36.388Z"
   },
   {
    "duration": 527,
    "start_time": "2022-08-21T10:29:46.331Z"
   },
   {
    "duration": 5,
    "start_time": "2022-08-21T10:30:51.849Z"
   },
   {
    "duration": 9,
    "start_time": "2022-08-21T10:40:13.548Z"
   },
   {
    "duration": 68,
    "start_time": "2022-08-21T10:41:42.136Z"
   },
   {
    "duration": 42,
    "start_time": "2022-08-21T10:41:43.177Z"
   },
   {
    "duration": 5,
    "start_time": "2022-08-21T10:41:45.296Z"
   },
   {
    "duration": 35,
    "start_time": "2022-08-21T10:41:46.031Z"
   },
   {
    "duration": 3,
    "start_time": "2022-08-21T10:41:47.723Z"
   },
   {
    "duration": 2,
    "start_time": "2022-08-21T10:41:50.663Z"
   },
   {
    "duration": 15,
    "start_time": "2022-08-21T10:41:52.236Z"
   },
   {
    "duration": 66,
    "start_time": "2022-08-21T10:44:50.893Z"
   },
   {
    "duration": 16,
    "start_time": "2022-08-21T10:44:50.961Z"
   },
   {
    "duration": 16,
    "start_time": "2022-08-21T10:44:50.978Z"
   },
   {
    "duration": 13,
    "start_time": "2022-08-21T10:44:50.996Z"
   },
   {
    "duration": 36,
    "start_time": "2022-08-21T10:44:51.011Z"
   },
   {
    "duration": 4,
    "start_time": "2022-08-21T10:44:51.048Z"
   },
   {
    "duration": 14,
    "start_time": "2022-08-21T10:44:51.054Z"
   },
   {
    "duration": 5,
    "start_time": "2022-08-21T10:44:51.070Z"
   },
   {
    "duration": 6,
    "start_time": "2022-08-21T10:44:51.077Z"
   },
   {
    "duration": 5,
    "start_time": "2022-08-21T10:44:51.106Z"
   },
   {
    "duration": 31,
    "start_time": "2022-08-21T10:44:51.112Z"
   },
   {
    "duration": 9,
    "start_time": "2022-08-21T10:44:51.145Z"
   },
   {
    "duration": 6,
    "start_time": "2022-08-21T10:44:51.155Z"
   },
   {
    "duration": 15,
    "start_time": "2022-08-21T10:44:51.162Z"
   },
   {
    "duration": 41,
    "start_time": "2022-08-21T10:44:51.179Z"
   },
   {
    "duration": 16,
    "start_time": "2022-08-21T10:44:51.222Z"
   },
   {
    "duration": 11,
    "start_time": "2022-08-21T10:44:51.240Z"
   },
   {
    "duration": 27,
    "start_time": "2022-08-21T10:44:51.253Z"
   },
   {
    "duration": 9,
    "start_time": "2022-08-21T10:44:51.282Z"
   },
   {
    "duration": 5,
    "start_time": "2022-08-21T10:44:51.293Z"
   },
   {
    "duration": 15,
    "start_time": "2022-08-21T10:44:51.299Z"
   },
   {
    "duration": 1993,
    "start_time": "2022-08-21T10:44:51.316Z"
   },
   {
    "duration": 25,
    "start_time": "2022-08-21T10:44:53.312Z"
   },
   {
    "duration": 567,
    "start_time": "2022-08-21T10:44:53.338Z"
   },
   {
    "duration": 12,
    "start_time": "2022-08-21T10:44:53.906Z"
   },
   {
    "duration": 9,
    "start_time": "2022-08-21T10:44:53.920Z"
   },
   {
    "duration": 16,
    "start_time": "2022-08-21T10:44:53.931Z"
   },
   {
    "duration": 14,
    "start_time": "2022-08-21T10:44:53.949Z"
   },
   {
    "duration": 65,
    "start_time": "2022-08-21T10:44:53.965Z"
   },
   {
    "duration": 269,
    "start_time": "2022-08-21T10:44:54.032Z"
   },
   {
    "duration": 16,
    "start_time": "2022-08-21T10:44:54.303Z"
   },
   {
    "duration": 69,
    "start_time": "2022-08-21T10:44:54.321Z"
   },
   {
    "duration": 38,
    "start_time": "2022-08-21T10:44:54.392Z"
   },
   {
    "duration": 5,
    "start_time": "2022-08-21T10:44:54.431Z"
   },
   {
    "duration": 15,
    "start_time": "2022-08-21T10:44:54.437Z"
   },
   {
    "duration": 3,
    "start_time": "2022-08-21T10:44:54.454Z"
   },
   {
    "duration": 455,
    "start_time": "2022-08-21T10:45:08.639Z"
   },
   {
    "duration": 20,
    "start_time": "2022-08-21T10:45:09.096Z"
   },
   {
    "duration": 13,
    "start_time": "2022-08-21T10:45:09.117Z"
   },
   {
    "duration": 7,
    "start_time": "2022-08-21T10:45:09.132Z"
   },
   {
    "duration": 46,
    "start_time": "2022-08-21T10:45:09.140Z"
   },
   {
    "duration": 3,
    "start_time": "2022-08-21T10:45:09.188Z"
   },
   {
    "duration": 15,
    "start_time": "2022-08-21T10:45:09.193Z"
   },
   {
    "duration": 23,
    "start_time": "2022-08-21T10:45:09.209Z"
   },
   {
    "duration": 12,
    "start_time": "2022-08-21T10:45:09.233Z"
   },
   {
    "duration": 8,
    "start_time": "2022-08-21T10:45:09.248Z"
   },
   {
    "duration": 40,
    "start_time": "2022-08-21T10:45:09.257Z"
   },
   {
    "duration": 8,
    "start_time": "2022-08-21T10:45:09.299Z"
   },
   {
    "duration": 14,
    "start_time": "2022-08-21T10:45:09.309Z"
   },
   {
    "duration": 24,
    "start_time": "2022-08-21T10:45:09.324Z"
   },
   {
    "duration": 25,
    "start_time": "2022-08-21T10:45:09.350Z"
   },
   {
    "duration": 16,
    "start_time": "2022-08-21T10:45:09.377Z"
   },
   {
    "duration": 4,
    "start_time": "2022-08-21T10:45:09.394Z"
   },
   {
    "duration": 9,
    "start_time": "2022-08-21T10:45:09.405Z"
   },
   {
    "duration": 8,
    "start_time": "2022-08-21T10:45:09.415Z"
   },
   {
    "duration": 3,
    "start_time": "2022-08-21T10:45:09.425Z"
   },
   {
    "duration": 12,
    "start_time": "2022-08-21T10:45:09.430Z"
   },
   {
    "duration": 2570,
    "start_time": "2022-08-21T10:45:09.444Z"
   },
   {
    "duration": 21,
    "start_time": "2022-08-21T10:45:12.015Z"
   },
   {
    "duration": 612,
    "start_time": "2022-08-21T10:45:12.039Z"
   },
   {
    "duration": 14,
    "start_time": "2022-08-21T10:45:12.653Z"
   },
   {
    "duration": 14,
    "start_time": "2022-08-21T10:45:12.669Z"
   },
   {
    "duration": 32,
    "start_time": "2022-08-21T10:45:12.684Z"
   },
   {
    "duration": 13,
    "start_time": "2022-08-21T10:45:12.718Z"
   },
   {
    "duration": 25,
    "start_time": "2022-08-21T10:45:12.733Z"
   },
   {
    "duration": 313,
    "start_time": "2022-08-21T10:45:12.759Z"
   },
   {
    "duration": 15,
    "start_time": "2022-08-21T10:45:13.074Z"
   },
   {
    "duration": 66,
    "start_time": "2022-08-21T10:45:13.090Z"
   },
   {
    "duration": 35,
    "start_time": "2022-08-21T10:45:13.157Z"
   },
   {
    "duration": 5,
    "start_time": "2022-08-21T10:45:13.193Z"
   },
   {
    "duration": 248,
    "start_time": "2022-08-21T10:45:13.200Z"
   },
   {
    "duration": 4,
    "start_time": "2022-08-21T10:45:30.042Z"
   },
   {
    "duration": 3,
    "start_time": "2022-08-21T10:45:32.641Z"
   },
   {
    "duration": 5550,
    "start_time": "2022-08-21T10:45:33.780Z"
   },
   {
    "duration": 8817,
    "start_time": "2022-08-21T10:45:49.140Z"
   },
   {
    "duration": 2,
    "start_time": "2022-08-21T10:45:59.162Z"
   },
   {
    "duration": 479,
    "start_time": "2022-08-21T10:46:27.310Z"
   },
   {
    "duration": 23,
    "start_time": "2022-08-21T10:46:27.792Z"
   },
   {
    "duration": 14,
    "start_time": "2022-08-21T10:46:27.817Z"
   },
   {
    "duration": 9,
    "start_time": "2022-08-21T10:46:27.833Z"
   },
   {
    "duration": 34,
    "start_time": "2022-08-21T10:46:27.843Z"
   },
   {
    "duration": 3,
    "start_time": "2022-08-21T10:46:27.879Z"
   },
   {
    "duration": 29,
    "start_time": "2022-08-21T10:46:27.883Z"
   },
   {
    "duration": 5,
    "start_time": "2022-08-21T10:46:27.913Z"
   },
   {
    "duration": 12,
    "start_time": "2022-08-21T10:46:27.920Z"
   },
   {
    "duration": 4,
    "start_time": "2022-08-21T10:46:27.935Z"
   },
   {
    "duration": 32,
    "start_time": "2022-08-21T10:46:27.941Z"
   },
   {
    "duration": 35,
    "start_time": "2022-08-21T10:46:27.975Z"
   },
   {
    "duration": 4,
    "start_time": "2022-08-21T10:46:28.012Z"
   },
   {
    "duration": 11,
    "start_time": "2022-08-21T10:46:28.018Z"
   },
   {
    "duration": 33,
    "start_time": "2022-08-21T10:46:28.031Z"
   },
   {
    "duration": 40,
    "start_time": "2022-08-21T10:46:28.066Z"
   },
   {
    "duration": 4,
    "start_time": "2022-08-21T10:46:28.107Z"
   },
   {
    "duration": 13,
    "start_time": "2022-08-21T10:46:28.112Z"
   },
   {
    "duration": 5,
    "start_time": "2022-08-21T10:46:28.126Z"
   },
   {
    "duration": 7,
    "start_time": "2022-08-21T10:46:28.133Z"
   },
   {
    "duration": 11,
    "start_time": "2022-08-21T10:46:28.142Z"
   },
   {
    "duration": 2518,
    "start_time": "2022-08-21T10:46:28.154Z"
   },
   {
    "duration": 22,
    "start_time": "2022-08-21T10:46:30.674Z"
   },
   {
    "duration": 603,
    "start_time": "2022-08-21T10:46:30.706Z"
   },
   {
    "duration": 13,
    "start_time": "2022-08-21T10:46:31.311Z"
   },
   {
    "duration": 11,
    "start_time": "2022-08-21T10:46:31.326Z"
   },
   {
    "duration": 17,
    "start_time": "2022-08-21T10:46:31.339Z"
   },
   {
    "duration": 48,
    "start_time": "2022-08-21T10:46:31.359Z"
   },
   {
    "duration": 29,
    "start_time": "2022-08-21T10:46:31.409Z"
   },
   {
    "duration": 301,
    "start_time": "2022-08-21T10:46:31.440Z"
   },
   {
    "duration": 15,
    "start_time": "2022-08-21T10:46:31.743Z"
   },
   {
    "duration": 65,
    "start_time": "2022-08-21T10:46:31.760Z"
   },
   {
    "duration": 36,
    "start_time": "2022-08-21T10:46:31.827Z"
   },
   {
    "duration": 5,
    "start_time": "2022-08-21T10:46:31.865Z"
   },
   {
    "duration": 221,
    "start_time": "2022-08-21T10:46:31.871Z"
   },
   {
    "duration": 5,
    "start_time": "2022-08-21T10:46:32.094Z"
   },
   {
    "duration": 3,
    "start_time": "2022-08-21T10:46:37.104Z"
   },
   {
    "duration": 10542,
    "start_time": "2022-08-21T10:46:48.087Z"
   },
   {
    "duration": 3,
    "start_time": "2022-08-21T10:47:10.561Z"
   },
   {
    "duration": 3,
    "start_time": "2022-08-21T10:47:10.880Z"
   },
   {
    "duration": 11678,
    "start_time": "2022-08-21T10:47:11.167Z"
   },
   {
    "duration": 6,
    "start_time": "2022-08-21T10:47:26.857Z"
   },
   {
    "duration": 3,
    "start_time": "2022-08-21T10:47:28.279Z"
   },
   {
    "duration": 12431,
    "start_time": "2022-08-21T10:47:28.544Z"
   },
   {
    "duration": 4,
    "start_time": "2022-08-21T10:47:53.713Z"
   },
   {
    "duration": 2,
    "start_time": "2022-08-21T10:47:54.581Z"
   },
   {
    "duration": 10159,
    "start_time": "2022-08-21T10:47:54.965Z"
   },
   {
    "duration": 3,
    "start_time": "2022-08-21T10:48:10.762Z"
   },
   {
    "duration": 2,
    "start_time": "2022-08-21T10:48:10.930Z"
   },
   {
    "duration": 10946,
    "start_time": "2022-08-21T10:48:11.072Z"
   },
   {
    "duration": 4,
    "start_time": "2022-08-21T10:48:37.724Z"
   },
   {
    "duration": 4,
    "start_time": "2022-08-21T10:48:37.891Z"
   },
   {
    "duration": 10821,
    "start_time": "2022-08-21T10:48:38.344Z"
   },
   {
    "duration": 4,
    "start_time": "2022-08-21T10:48:54.587Z"
   },
   {
    "duration": 3,
    "start_time": "2022-08-21T10:48:54.842Z"
   },
   {
    "duration": 10771,
    "start_time": "2022-08-21T10:48:55.125Z"
   },
   {
    "duration": 3,
    "start_time": "2022-08-21T10:49:12.975Z"
   },
   {
    "duration": 2,
    "start_time": "2022-08-21T10:49:13.263Z"
   },
   {
    "duration": 10846,
    "start_time": "2022-08-21T10:49:13.404Z"
   },
   {
    "duration": 3,
    "start_time": "2022-08-21T10:49:41.296Z"
   },
   {
    "duration": 24,
    "start_time": "2022-08-21T10:49:42.476Z"
   },
   {
    "duration": 6,
    "start_time": "2022-08-21T10:49:43.946Z"
   },
   {
    "duration": 5,
    "start_time": "2022-08-21T10:49:46.824Z"
   },
   {
    "duration": 81,
    "start_time": "2022-08-21T10:52:22.113Z"
   },
   {
    "duration": 70,
    "start_time": "2022-08-21T10:52:33.458Z"
   },
   {
    "duration": 80,
    "start_time": "2022-08-21T10:53:43.148Z"
   },
   {
    "duration": 141,
    "start_time": "2022-08-21T10:53:46.918Z"
   },
   {
    "duration": 233,
    "start_time": "2022-08-21T10:54:16.002Z"
   },
   {
    "duration": 95,
    "start_time": "2022-08-21T10:54:40.484Z"
   },
   {
    "duration": 76,
    "start_time": "2022-08-21T10:55:15.834Z"
   },
   {
    "duration": 88,
    "start_time": "2022-08-21T10:56:22.470Z"
   },
   {
    "duration": 136,
    "start_time": "2022-08-21T10:58:18.583Z"
   },
   {
    "duration": 138,
    "start_time": "2022-08-21T10:58:48.669Z"
   },
   {
    "duration": 115,
    "start_time": "2022-08-21T10:58:53.312Z"
   },
   {
    "duration": 159,
    "start_time": "2022-08-21T11:00:15.204Z"
   },
   {
    "duration": 192,
    "start_time": "2022-08-21T11:00:40.063Z"
   },
   {
    "duration": 140,
    "start_time": "2022-08-21T11:00:43.601Z"
   },
   {
    "duration": 433,
    "start_time": "2022-08-21T12:12:02.529Z"
   },
   {
    "duration": 21,
    "start_time": "2022-08-21T12:12:02.964Z"
   },
   {
    "duration": 13,
    "start_time": "2022-08-21T12:12:02.986Z"
   },
   {
    "duration": 8,
    "start_time": "2022-08-21T12:12:03.001Z"
   },
   {
    "duration": 31,
    "start_time": "2022-08-21T12:12:03.010Z"
   },
   {
    "duration": 3,
    "start_time": "2022-08-21T12:12:03.042Z"
   },
   {
    "duration": 9,
    "start_time": "2022-08-21T12:12:03.047Z"
   },
   {
    "duration": 4,
    "start_time": "2022-08-21T12:12:03.057Z"
   },
   {
    "duration": 7,
    "start_time": "2022-08-21T12:12:03.062Z"
   },
   {
    "duration": 5,
    "start_time": "2022-08-21T12:12:03.072Z"
   },
   {
    "duration": 52,
    "start_time": "2022-08-21T12:12:03.078Z"
   },
   {
    "duration": 8,
    "start_time": "2022-08-21T12:12:03.132Z"
   },
   {
    "duration": 3,
    "start_time": "2022-08-21T12:12:03.141Z"
   },
   {
    "duration": 12,
    "start_time": "2022-08-21T12:12:03.146Z"
   },
   {
    "duration": 20,
    "start_time": "2022-08-21T12:12:03.159Z"
   },
   {
    "duration": 37,
    "start_time": "2022-08-21T12:12:03.180Z"
   },
   {
    "duration": 3,
    "start_time": "2022-08-21T12:12:03.219Z"
   },
   {
    "duration": 15,
    "start_time": "2022-08-21T12:12:03.223Z"
   },
   {
    "duration": 7,
    "start_time": "2022-08-21T12:12:03.239Z"
   },
   {
    "duration": 4,
    "start_time": "2022-08-21T12:12:03.247Z"
   },
   {
    "duration": 10,
    "start_time": "2022-08-21T12:12:03.253Z"
   },
   {
    "duration": 2512,
    "start_time": "2022-08-21T12:12:03.264Z"
   },
   {
    "duration": 20,
    "start_time": "2022-08-21T12:12:05.778Z"
   },
   {
    "duration": 664,
    "start_time": "2022-08-21T12:12:05.799Z"
   },
   {
    "duration": 13,
    "start_time": "2022-08-21T12:12:06.464Z"
   },
   {
    "duration": 11,
    "start_time": "2022-08-21T12:12:06.479Z"
   },
   {
    "duration": 16,
    "start_time": "2022-08-21T12:12:06.506Z"
   },
   {
    "duration": 16,
    "start_time": "2022-08-21T12:12:06.525Z"
   },
   {
    "duration": 30,
    "start_time": "2022-08-21T12:12:06.543Z"
   },
   {
    "duration": 344,
    "start_time": "2022-08-21T12:12:06.574Z"
   },
   {
    "duration": 15,
    "start_time": "2022-08-21T12:12:06.920Z"
   },
   {
    "duration": 69,
    "start_time": "2022-08-21T12:12:06.937Z"
   },
   {
    "duration": 35,
    "start_time": "2022-08-21T12:12:07.007Z"
   },
   {
    "duration": 5,
    "start_time": "2022-08-21T12:12:07.043Z"
   },
   {
    "duration": 232,
    "start_time": "2022-08-21T12:12:07.049Z"
   },
   {
    "duration": 4,
    "start_time": "2022-08-21T12:12:07.283Z"
   },
   {
    "duration": 7,
    "start_time": "2022-08-21T12:12:07.288Z"
   },
   {
    "duration": 10888,
    "start_time": "2022-08-21T12:12:07.296Z"
   },
   {
    "duration": 3,
    "start_time": "2022-08-21T12:12:18.186Z"
   },
   {
    "duration": 43,
    "start_time": "2022-08-21T12:12:18.190Z"
   },
   {
    "duration": 6,
    "start_time": "2022-08-21T12:12:18.235Z"
   },
   {
    "duration": 5,
    "start_time": "2022-08-21T12:12:18.243Z"
   },
   {
    "duration": 168,
    "start_time": "2022-08-21T12:12:18.249Z"
   },
   {
    "duration": 570,
    "start_time": "2022-08-21T16:08:30.280Z"
   },
   {
    "duration": 30,
    "start_time": "2022-08-21T16:08:30.852Z"
   },
   {
    "duration": 25,
    "start_time": "2022-08-21T16:08:30.884Z"
   },
   {
    "duration": 10,
    "start_time": "2022-08-21T16:08:30.911Z"
   },
   {
    "duration": 50,
    "start_time": "2022-08-21T16:08:30.923Z"
   },
   {
    "duration": 5,
    "start_time": "2022-08-21T16:08:30.975Z"
   },
   {
    "duration": 19,
    "start_time": "2022-08-21T16:08:30.982Z"
   },
   {
    "duration": 16,
    "start_time": "2022-08-21T16:08:31.003Z"
   },
   {
    "duration": 11,
    "start_time": "2022-08-21T16:08:31.021Z"
   },
   {
    "duration": 18,
    "start_time": "2022-08-21T16:08:31.034Z"
   },
   {
    "duration": 45,
    "start_time": "2022-08-21T16:08:31.053Z"
   },
   {
    "duration": 9,
    "start_time": "2022-08-21T16:08:31.100Z"
   },
   {
    "duration": 10,
    "start_time": "2022-08-21T16:08:31.111Z"
   },
   {
    "duration": 51,
    "start_time": "2022-08-21T16:08:31.126Z"
   },
   {
    "duration": 32,
    "start_time": "2022-08-21T16:08:31.179Z"
   },
   {
    "duration": 18,
    "start_time": "2022-08-21T16:08:31.213Z"
   },
   {
    "duration": 18,
    "start_time": "2022-08-21T16:08:31.233Z"
   },
   {
    "duration": 12,
    "start_time": "2022-08-21T16:08:31.253Z"
   },
   {
    "duration": 8,
    "start_time": "2022-08-21T16:08:31.267Z"
   },
   {
    "duration": 18,
    "start_time": "2022-08-21T16:08:31.277Z"
   },
   {
    "duration": 16,
    "start_time": "2022-08-21T16:08:31.297Z"
   },
   {
    "duration": 4438,
    "start_time": "2022-08-21T16:08:31.315Z"
   },
   {
    "duration": 30,
    "start_time": "2022-08-21T16:08:35.755Z"
   },
   {
    "duration": 771,
    "start_time": "2022-08-21T16:08:35.787Z"
   },
   {
    "duration": 17,
    "start_time": "2022-08-21T16:08:36.560Z"
   },
   {
    "duration": 14,
    "start_time": "2022-08-21T16:08:36.578Z"
   },
   {
    "duration": 76,
    "start_time": "2022-08-21T16:08:36.594Z"
   },
   {
    "duration": 57,
    "start_time": "2022-08-21T16:08:36.672Z"
   },
   {
    "duration": 62,
    "start_time": "2022-08-21T16:08:36.731Z"
   },
   {
    "duration": 799,
    "start_time": "2022-08-21T16:08:36.795Z"
   },
   {
    "duration": 19,
    "start_time": "2022-08-21T16:08:37.596Z"
   },
   {
    "duration": 72,
    "start_time": "2022-08-21T16:08:37.617Z"
   },
   {
    "duration": 43,
    "start_time": "2022-08-21T16:08:37.690Z"
   },
   {
    "duration": 6,
    "start_time": "2022-08-21T16:08:37.735Z"
   },
   {
    "duration": 459,
    "start_time": "2022-08-21T16:08:37.743Z"
   },
   {
    "duration": 3,
    "start_time": "2022-08-21T16:08:38.204Z"
   },
   {
    "duration": 7,
    "start_time": "2022-08-21T16:08:38.209Z"
   },
   {
    "duration": 14975,
    "start_time": "2022-08-21T16:08:38.218Z"
   },
   {
    "duration": 3,
    "start_time": "2022-08-21T16:08:53.195Z"
   },
   {
    "duration": 101,
    "start_time": "2022-08-21T16:08:53.200Z"
   },
   {
    "duration": 11,
    "start_time": "2022-08-21T16:08:53.305Z"
   },
   {
    "duration": 21,
    "start_time": "2022-08-21T16:08:53.318Z"
   },
   {
    "duration": 204,
    "start_time": "2022-08-21T16:08:53.342Z"
   },
   {
    "duration": 44,
    "start_time": "2022-08-21T18:11:38.672Z"
   },
   {
    "duration": 717,
    "start_time": "2022-08-21T18:11:47.111Z"
   },
   {
    "duration": 22,
    "start_time": "2022-08-21T18:11:47.830Z"
   },
   {
    "duration": 14,
    "start_time": "2022-08-21T18:11:47.853Z"
   },
   {
    "duration": 11,
    "start_time": "2022-08-21T18:11:47.869Z"
   },
   {
    "duration": 33,
    "start_time": "2022-08-21T18:11:47.882Z"
   },
   {
    "duration": 3,
    "start_time": "2022-08-21T18:11:47.917Z"
   },
   {
    "duration": 10,
    "start_time": "2022-08-21T18:11:47.922Z"
   },
   {
    "duration": 4,
    "start_time": "2022-08-21T18:11:47.934Z"
   },
   {
    "duration": 9,
    "start_time": "2022-08-21T18:11:47.940Z"
   },
   {
    "duration": 4,
    "start_time": "2022-08-21T18:11:47.951Z"
   },
   {
    "duration": 61,
    "start_time": "2022-08-21T18:11:47.957Z"
   },
   {
    "duration": 11,
    "start_time": "2022-08-21T18:11:48.019Z"
   },
   {
    "duration": 16,
    "start_time": "2022-08-21T18:11:48.031Z"
   },
   {
    "duration": 24,
    "start_time": "2022-08-21T18:11:48.051Z"
   },
   {
    "duration": 46,
    "start_time": "2022-08-21T18:11:48.077Z"
   },
   {
    "duration": 16,
    "start_time": "2022-08-21T18:11:48.124Z"
   },
   {
    "duration": 12,
    "start_time": "2022-08-21T18:11:48.142Z"
   },
   {
    "duration": 16,
    "start_time": "2022-08-21T18:11:48.155Z"
   },
   {
    "duration": 13,
    "start_time": "2022-08-21T18:11:48.172Z"
   },
   {
    "duration": 9,
    "start_time": "2022-08-21T18:11:48.186Z"
   },
   {
    "duration": 29,
    "start_time": "2022-08-21T18:11:48.197Z"
   },
   {
    "duration": 3973,
    "start_time": "2022-08-21T18:11:48.227Z"
   },
   {
    "duration": 21,
    "start_time": "2022-08-21T18:11:52.202Z"
   },
   {
    "duration": 605,
    "start_time": "2022-08-21T18:11:52.225Z"
   },
   {
    "duration": 12,
    "start_time": "2022-08-21T18:11:52.831Z"
   },
   {
    "duration": 10,
    "start_time": "2022-08-21T18:11:52.845Z"
   },
   {
    "duration": 35,
    "start_time": "2022-08-21T18:11:52.856Z"
   },
   {
    "duration": 13,
    "start_time": "2022-08-21T18:11:52.893Z"
   },
   {
    "duration": 40,
    "start_time": "2022-08-21T18:11:52.908Z"
   },
   {
    "duration": 322,
    "start_time": "2022-08-21T18:11:52.950Z"
   },
   {
    "duration": 23,
    "start_time": "2022-08-21T18:11:53.274Z"
   },
   {
    "duration": 75,
    "start_time": "2022-08-21T18:11:53.299Z"
   },
   {
    "duration": 38,
    "start_time": "2022-08-21T18:11:53.375Z"
   },
   {
    "duration": 5,
    "start_time": "2022-08-21T18:11:53.414Z"
   },
   {
    "duration": 205,
    "start_time": "2022-08-21T18:11:53.420Z"
   },
   {
    "duration": 4,
    "start_time": "2022-08-21T18:11:53.627Z"
   },
   {
    "duration": 8,
    "start_time": "2022-08-21T18:11:53.632Z"
   },
   {
    "duration": 11109,
    "start_time": "2022-08-21T18:11:53.641Z"
   },
   {
    "duration": 5,
    "start_time": "2022-08-21T18:12:04.752Z"
   },
   {
    "duration": 34,
    "start_time": "2022-08-21T18:12:04.758Z"
   },
   {
    "duration": 5,
    "start_time": "2022-08-21T18:12:04.795Z"
   },
   {
    "duration": 11,
    "start_time": "2022-08-21T18:12:04.802Z"
   },
   {
    "duration": 154,
    "start_time": "2022-08-21T18:12:04.814Z"
   },
   {
    "duration": 7,
    "start_time": "2022-08-21T18:12:36.916Z"
   },
   {
    "duration": 45,
    "start_time": "2022-08-21T18:17:10.368Z"
   },
   {
    "duration": 122,
    "start_time": "2022-08-21T18:17:36.732Z"
   },
   {
    "duration": 169,
    "start_time": "2022-08-21T18:17:44.890Z"
   },
   {
    "duration": 103,
    "start_time": "2022-08-21T18:17:53.230Z"
   },
   {
    "duration": 110,
    "start_time": "2022-08-21T18:18:24.437Z"
   },
   {
    "duration": 107,
    "start_time": "2022-08-21T18:18:30.176Z"
   },
   {
    "duration": 105,
    "start_time": "2022-08-21T18:18:52.666Z"
   },
   {
    "duration": 111,
    "start_time": "2022-08-21T18:21:09.068Z"
   },
   {
    "duration": 124,
    "start_time": "2022-08-21T18:21:18.488Z"
   },
   {
    "duration": 7,
    "start_time": "2022-08-21T18:31:50.848Z"
   },
   {
    "duration": 110,
    "start_time": "2022-08-21T18:32:00.505Z"
   },
   {
    "duration": 4,
    "start_time": "2022-08-21T18:33:08.711Z"
   },
   {
    "duration": 138,
    "start_time": "2022-08-21T18:33:20.445Z"
   },
   {
    "duration": 146,
    "start_time": "2022-08-21T18:33:25.881Z"
   },
   {
    "duration": 6,
    "start_time": "2022-08-21T18:33:40.587Z"
   },
   {
    "duration": 141,
    "start_time": "2022-08-21T18:34:34.521Z"
   },
   {
    "duration": 141,
    "start_time": "2022-08-21T18:35:39.137Z"
   },
   {
    "duration": 149,
    "start_time": "2022-08-21T18:36:11.354Z"
   },
   {
    "duration": 148,
    "start_time": "2022-08-21T18:36:18.676Z"
   },
   {
    "duration": 136,
    "start_time": "2022-08-21T18:37:42.844Z"
   },
   {
    "duration": 256,
    "start_time": "2022-08-21T18:37:56.360Z"
   },
   {
    "duration": 144,
    "start_time": "2022-08-21T18:38:03.169Z"
   },
   {
    "duration": 154,
    "start_time": "2022-08-21T18:38:10.130Z"
   },
   {
    "duration": 139,
    "start_time": "2022-08-21T18:40:57.399Z"
   },
   {
    "duration": 147,
    "start_time": "2022-08-21T18:49:42.151Z"
   },
   {
    "duration": 87,
    "start_time": "2022-08-21T18:51:03.470Z"
   },
   {
    "duration": 252,
    "start_time": "2022-08-21T18:51:36.940Z"
   },
   {
    "duration": 255,
    "start_time": "2022-08-21T18:51:42.545Z"
   },
   {
    "duration": 257,
    "start_time": "2022-08-21T18:52:37.223Z"
   },
   {
    "duration": 285,
    "start_time": "2022-08-21T18:53:09.176Z"
   },
   {
    "duration": 268,
    "start_time": "2022-08-21T18:53:17.171Z"
   },
   {
    "duration": 257,
    "start_time": "2022-08-21T18:53:31.002Z"
   },
   {
    "duration": 288,
    "start_time": "2022-08-21T18:54:11.126Z"
   },
   {
    "duration": 382,
    "start_time": "2022-08-21T18:55:24.583Z"
   },
   {
    "duration": 8,
    "start_time": "2022-08-21T19:08:12.813Z"
   },
   {
    "duration": 294,
    "start_time": "2022-08-21T19:08:40.716Z"
   },
   {
    "duration": 285,
    "start_time": "2022-08-21T19:08:57.721Z"
   },
   {
    "duration": 156,
    "start_time": "2022-08-21T19:09:21.376Z"
   },
   {
    "duration": 155,
    "start_time": "2022-08-21T19:09:27.750Z"
   },
   {
    "duration": 157,
    "start_time": "2022-08-21T19:09:42.355Z"
   },
   {
    "duration": 157,
    "start_time": "2022-08-21T19:10:06.476Z"
   },
   {
    "duration": 254,
    "start_time": "2022-08-21T19:10:13.246Z"
   },
   {
    "duration": 134,
    "start_time": "2022-08-21T19:10:32.594Z"
   },
   {
    "duration": 153,
    "start_time": "2022-08-21T19:10:41.450Z"
   },
   {
    "duration": 142,
    "start_time": "2022-08-21T19:10:43.654Z"
   },
   {
    "duration": 149,
    "start_time": "2022-08-21T19:11:08.069Z"
   },
   {
    "duration": 150,
    "start_time": "2022-08-21T19:14:01.463Z"
   },
   {
    "duration": 177,
    "start_time": "2022-08-21T19:14:16.331Z"
   },
   {
    "duration": 470,
    "start_time": "2022-08-21T19:53:58.583Z"
   },
   {
    "duration": 21,
    "start_time": "2022-08-21T19:53:59.055Z"
   },
   {
    "duration": 15,
    "start_time": "2022-08-21T19:53:59.078Z"
   },
   {
    "duration": 9,
    "start_time": "2022-08-21T19:53:59.095Z"
   },
   {
    "duration": 40,
    "start_time": "2022-08-21T19:53:59.106Z"
   },
   {
    "duration": 3,
    "start_time": "2022-08-21T19:53:59.147Z"
   },
   {
    "duration": 9,
    "start_time": "2022-08-21T19:53:59.152Z"
   },
   {
    "duration": 24,
    "start_time": "2022-08-21T19:53:59.163Z"
   },
   {
    "duration": 7,
    "start_time": "2022-08-21T19:53:59.188Z"
   },
   {
    "duration": 3,
    "start_time": "2022-08-21T19:53:59.198Z"
   },
   {
    "duration": 35,
    "start_time": "2022-08-21T19:53:59.203Z"
   },
   {
    "duration": 9,
    "start_time": "2022-08-21T19:53:59.240Z"
   },
   {
    "duration": 4,
    "start_time": "2022-08-21T19:53:59.251Z"
   },
   {
    "duration": 36,
    "start_time": "2022-08-21T19:53:59.257Z"
   },
   {
    "duration": 18,
    "start_time": "2022-08-21T19:53:59.294Z"
   },
   {
    "duration": 14,
    "start_time": "2022-08-21T19:53:59.314Z"
   },
   {
    "duration": 3,
    "start_time": "2022-08-21T19:53:59.330Z"
   },
   {
    "duration": 11,
    "start_time": "2022-08-21T19:53:59.335Z"
   },
   {
    "duration": 5,
    "start_time": "2022-08-21T19:53:59.348Z"
   },
   {
    "duration": 4,
    "start_time": "2022-08-21T19:53:59.354Z"
   },
   {
    "duration": 10,
    "start_time": "2022-08-21T19:53:59.386Z"
   },
   {
    "duration": 2801,
    "start_time": "2022-08-21T19:53:59.397Z"
   },
   {
    "duration": 23,
    "start_time": "2022-08-21T19:54:02.200Z"
   },
   {
    "duration": 625,
    "start_time": "2022-08-21T19:54:02.225Z"
   },
   {
    "duration": 11,
    "start_time": "2022-08-21T19:54:02.851Z"
   },
   {
    "duration": 9,
    "start_time": "2022-08-21T19:54:02.863Z"
   },
   {
    "duration": 15,
    "start_time": "2022-08-21T19:54:02.887Z"
   },
   {
    "duration": 13,
    "start_time": "2022-08-21T19:54:02.905Z"
   },
   {
    "duration": 29,
    "start_time": "2022-08-21T19:54:02.919Z"
   },
   {
    "duration": 342,
    "start_time": "2022-08-21T19:54:02.949Z"
   },
   {
    "duration": 17,
    "start_time": "2022-08-21T19:54:03.293Z"
   },
   {
    "duration": 72,
    "start_time": "2022-08-21T19:54:03.311Z"
   },
   {
    "duration": 39,
    "start_time": "2022-08-21T19:54:03.385Z"
   },
   {
    "duration": 4,
    "start_time": "2022-08-21T19:54:03.426Z"
   },
   {
    "duration": 203,
    "start_time": "2022-08-21T19:54:03.432Z"
   },
   {
    "duration": 4,
    "start_time": "2022-08-21T19:54:03.637Z"
   },
   {
    "duration": 6,
    "start_time": "2022-08-21T19:54:03.643Z"
   },
   {
    "duration": 11323,
    "start_time": "2022-08-21T19:54:03.651Z"
   },
   {
    "duration": 3,
    "start_time": "2022-08-21T19:54:14.976Z"
   },
   {
    "duration": 33,
    "start_time": "2022-08-21T19:54:14.981Z"
   },
   {
    "duration": 6,
    "start_time": "2022-08-21T19:54:15.016Z"
   },
   {
    "duration": 21,
    "start_time": "2022-08-21T19:54:15.023Z"
   },
   {
    "duration": 153,
    "start_time": "2022-08-21T19:54:15.046Z"
   },
   {
    "duration": 124,
    "start_time": "2022-08-21T19:54:15.201Z"
   },
   {
    "duration": 231,
    "start_time": "2022-08-21T19:54:15.327Z"
   },
   {
    "duration": 274,
    "start_time": "2022-08-21T19:54:15.560Z"
   },
   {
    "duration": 141,
    "start_time": "2022-08-21T19:54:15.836Z"
   },
   {
    "duration": 477,
    "start_time": "2022-08-21T19:54:44.055Z"
   },
   {
    "duration": 20,
    "start_time": "2022-08-21T19:54:44.534Z"
   },
   {
    "duration": 14,
    "start_time": "2022-08-21T19:54:44.556Z"
   },
   {
    "duration": 15,
    "start_time": "2022-08-21T19:54:44.572Z"
   },
   {
    "duration": 32,
    "start_time": "2022-08-21T19:54:44.589Z"
   },
   {
    "duration": 3,
    "start_time": "2022-08-21T19:54:44.622Z"
   },
   {
    "duration": 10,
    "start_time": "2022-08-21T19:54:44.626Z"
   },
   {
    "duration": 5,
    "start_time": "2022-08-21T19:54:44.637Z"
   },
   {
    "duration": 10,
    "start_time": "2022-08-21T19:54:44.643Z"
   },
   {
    "duration": 4,
    "start_time": "2022-08-21T19:54:44.655Z"
   },
   {
    "duration": 56,
    "start_time": "2022-08-21T19:54:44.660Z"
   },
   {
    "duration": 9,
    "start_time": "2022-08-21T19:54:44.718Z"
   },
   {
    "duration": 3,
    "start_time": "2022-08-21T19:54:44.729Z"
   },
   {
    "duration": 15,
    "start_time": "2022-08-21T19:54:44.733Z"
   },
   {
    "duration": 25,
    "start_time": "2022-08-21T19:54:44.750Z"
   },
   {
    "duration": 15,
    "start_time": "2022-08-21T19:54:44.787Z"
   },
   {
    "duration": 4,
    "start_time": "2022-08-21T19:54:44.803Z"
   },
   {
    "duration": 16,
    "start_time": "2022-08-21T19:54:44.808Z"
   },
   {
    "duration": 8,
    "start_time": "2022-08-21T19:54:44.825Z"
   },
   {
    "duration": 3,
    "start_time": "2022-08-21T19:54:44.835Z"
   },
   {
    "duration": 11,
    "start_time": "2022-08-21T19:54:44.839Z"
   },
   {
    "duration": 2865,
    "start_time": "2022-08-21T19:54:44.852Z"
   },
   {
    "duration": 21,
    "start_time": "2022-08-21T19:54:47.718Z"
   },
   {
    "duration": 607,
    "start_time": "2022-08-21T19:54:47.741Z"
   },
   {
    "duration": 11,
    "start_time": "2022-08-21T19:54:48.349Z"
   },
   {
    "duration": 10,
    "start_time": "2022-08-21T19:54:48.362Z"
   },
   {
    "duration": 14,
    "start_time": "2022-08-21T19:54:48.386Z"
   },
   {
    "duration": 13,
    "start_time": "2022-08-21T19:54:48.402Z"
   },
   {
    "duration": 28,
    "start_time": "2022-08-21T19:54:48.417Z"
   },
   {
    "duration": 309,
    "start_time": "2022-08-21T19:54:48.446Z"
   },
   {
    "duration": 15,
    "start_time": "2022-08-21T19:54:48.757Z"
   },
   {
    "duration": 73,
    "start_time": "2022-08-21T19:54:48.773Z"
   },
   {
    "duration": 37,
    "start_time": "2022-08-21T19:54:48.847Z"
   },
   {
    "duration": 5,
    "start_time": "2022-08-21T19:54:48.886Z"
   },
   {
    "duration": 192,
    "start_time": "2022-08-21T19:54:48.892Z"
   },
   {
    "duration": 3,
    "start_time": "2022-08-21T19:54:49.086Z"
   },
   {
    "duration": 11,
    "start_time": "2022-08-21T19:54:49.091Z"
   },
   {
    "duration": 10590,
    "start_time": "2022-08-21T19:54:49.104Z"
   },
   {
    "duration": 3,
    "start_time": "2022-08-21T19:54:59.695Z"
   },
   {
    "duration": 28,
    "start_time": "2022-08-21T19:54:59.699Z"
   },
   {
    "duration": 5,
    "start_time": "2022-08-21T19:54:59.728Z"
   },
   {
    "duration": 9,
    "start_time": "2022-08-21T19:54:59.734Z"
   },
   {
    "duration": 158,
    "start_time": "2022-08-21T19:54:59.745Z"
   },
   {
    "duration": 117,
    "start_time": "2022-08-21T19:54:59.905Z"
   },
   {
    "duration": 230,
    "start_time": "2022-08-21T19:55:00.023Z"
   },
   {
    "duration": 262,
    "start_time": "2022-08-21T19:55:00.255Z"
   },
   {
    "duration": 147,
    "start_time": "2022-08-21T19:55:00.518Z"
   }
  ],
  "colab": {
   "name": "dpp_template_part2.ipynb",
   "provenance": []
  },
  "kernelspec": {
   "display_name": "Python 3 (ipykernel)",
   "language": "python",
   "name": "python3"
  },
  "language_info": {
   "codemirror_mode": {
    "name": "ipython",
    "version": 3
   },
   "file_extension": ".py",
   "mimetype": "text/x-python",
   "name": "python",
   "nbconvert_exporter": "python",
   "pygments_lexer": "ipython3",
   "version": "3.10.5"
  },
  "toc": {
   "base_numbering": 1,
   "nav_menu": {},
   "number_sections": true,
   "sideBar": true,
   "skip_h1_title": true,
   "title_cell": "Table of Contents",
   "title_sidebar": "Contents",
   "toc_cell": false,
   "toc_position": {
    "height": "calc(100% - 180px)",
    "left": "10px",
    "top": "150px",
    "width": "270.188px"
   },
   "toc_section_display": true,
   "toc_window_display": true
  }
 },
 "nbformat": 4,
 "nbformat_minor": 5
}
