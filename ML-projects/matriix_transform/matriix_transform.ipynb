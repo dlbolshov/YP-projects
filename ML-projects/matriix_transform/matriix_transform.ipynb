{
 "cells": [
  {
   "cell_type": "markdown",
   "metadata": {},
   "source": [
    "# Защита персональных данных клиентов"
   ]
  },
  {
   "cell_type": "markdown",
   "metadata": {},
   "source": [
    "Необходимо защитить данные клиентов страховой компании «N.». Будет разработан такой метод преобразования данных, чтобы по ним было сложно восстановить персональную информацию и обоснована корректность его работы. Защитить данные нужно так, чтобы при преобразовании качество моделей машинного обучения не ухудшилось."
   ]
  },
  {
   "cell_type": "markdown",
   "metadata": {
    "toc": true
   },
   "source": [
    "<h1>Содержание<span class=\"tocSkip\"></span></h1>\n",
    "<div class=\"toc\"><ul class=\"toc-item\"><li><span><a href=\"#Загрузка-данных\" data-toc-modified-id=\"Загрузка-данных-1\"><span class=\"toc-item-num\">1&nbsp;&nbsp;</span>Загрузка данных</a></span></li><li><span><a href=\"#Умножение-матриц\" data-toc-modified-id=\"Умножение-матриц-2\"><span class=\"toc-item-num\">2&nbsp;&nbsp;</span>Умножение матриц</a></span></li><li><span><a href=\"#Алгоритм-преобразования\" data-toc-modified-id=\"Алгоритм-преобразования-3\"><span class=\"toc-item-num\">3&nbsp;&nbsp;</span>Алгоритм преобразования</a></span></li><li><span><a href=\"#Проверка-алгоритма\" data-toc-modified-id=\"Проверка-алгоритма-4\"><span class=\"toc-item-num\">4&nbsp;&nbsp;</span>Проверка алгоритма</a></span></li><li><span><a href=\"#Итоги-исследования\" data-toc-modified-id=\"Итоги-исследования-5\"><span class=\"toc-item-num\">5&nbsp;&nbsp;</span>Итоги исследования</a></span></li></ul></div>"
   ]
  },
  {
   "cell_type": "markdown",
   "metadata": {},
   "source": [
    "## Загрузка данных"
   ]
  },
  {
   "cell_type": "code",
   "execution_count": 1,
   "metadata": {},
   "outputs": [],
   "source": [
    "# Сразу подготовим инструменты для дальнейшего использования\n",
    "import numpy as np\n",
    "import pandas as pd\n",
    "from sklearn.linear_model import LinearRegression\n",
    "from sklearn.model_selection import train_test_split\n",
    "from sklearn.metrics import r2_score\n",
    "import warnings\n",
    "warnings.filterwarnings('ignore')\n",
    "warnings.simplefilter('ignore')"
   ]
  },
  {
   "cell_type": "code",
   "execution_count": 2,
   "metadata": {
    "scrolled": false
   },
   "outputs": [
    {
     "data": {
      "text/html": [
       "<div>\n",
       "<style scoped>\n",
       "    .dataframe tbody tr th:only-of-type {\n",
       "        vertical-align: middle;\n",
       "    }\n",
       "\n",
       "    .dataframe tbody tr th {\n",
       "        vertical-align: top;\n",
       "    }\n",
       "\n",
       "    .dataframe thead th {\n",
       "        text-align: right;\n",
       "    }\n",
       "</style>\n",
       "<table border=\"1\" class=\"dataframe\">\n",
       "  <thead>\n",
       "    <tr style=\"text-align: right;\">\n",
       "      <th></th>\n",
       "      <th>Пол</th>\n",
       "      <th>Возраст</th>\n",
       "      <th>Зарплата</th>\n",
       "      <th>Члены семьи</th>\n",
       "      <th>Страховые выплаты</th>\n",
       "    </tr>\n",
       "  </thead>\n",
       "  <tbody>\n",
       "    <tr>\n",
       "      <th>0</th>\n",
       "      <td>1</td>\n",
       "      <td>41.0</td>\n",
       "      <td>49600.0</td>\n",
       "      <td>1</td>\n",
       "      <td>0</td>\n",
       "    </tr>\n",
       "    <tr>\n",
       "      <th>1</th>\n",
       "      <td>0</td>\n",
       "      <td>46.0</td>\n",
       "      <td>38000.0</td>\n",
       "      <td>1</td>\n",
       "      <td>1</td>\n",
       "    </tr>\n",
       "    <tr>\n",
       "      <th>2</th>\n",
       "      <td>0</td>\n",
       "      <td>29.0</td>\n",
       "      <td>21000.0</td>\n",
       "      <td>0</td>\n",
       "      <td>0</td>\n",
       "    </tr>\n",
       "    <tr>\n",
       "      <th>3</th>\n",
       "      <td>0</td>\n",
       "      <td>21.0</td>\n",
       "      <td>41700.0</td>\n",
       "      <td>2</td>\n",
       "      <td>0</td>\n",
       "    </tr>\n",
       "    <tr>\n",
       "      <th>4</th>\n",
       "      <td>1</td>\n",
       "      <td>28.0</td>\n",
       "      <td>26100.0</td>\n",
       "      <td>0</td>\n",
       "      <td>0</td>\n",
       "    </tr>\n",
       "    <tr>\n",
       "      <th>...</th>\n",
       "      <td>...</td>\n",
       "      <td>...</td>\n",
       "      <td>...</td>\n",
       "      <td>...</td>\n",
       "      <td>...</td>\n",
       "    </tr>\n",
       "    <tr>\n",
       "      <th>4995</th>\n",
       "      <td>0</td>\n",
       "      <td>28.0</td>\n",
       "      <td>35700.0</td>\n",
       "      <td>2</td>\n",
       "      <td>0</td>\n",
       "    </tr>\n",
       "    <tr>\n",
       "      <th>4996</th>\n",
       "      <td>0</td>\n",
       "      <td>34.0</td>\n",
       "      <td>52400.0</td>\n",
       "      <td>1</td>\n",
       "      <td>0</td>\n",
       "    </tr>\n",
       "    <tr>\n",
       "      <th>4997</th>\n",
       "      <td>0</td>\n",
       "      <td>20.0</td>\n",
       "      <td>33900.0</td>\n",
       "      <td>2</td>\n",
       "      <td>0</td>\n",
       "    </tr>\n",
       "    <tr>\n",
       "      <th>4998</th>\n",
       "      <td>1</td>\n",
       "      <td>22.0</td>\n",
       "      <td>32700.0</td>\n",
       "      <td>3</td>\n",
       "      <td>0</td>\n",
       "    </tr>\n",
       "    <tr>\n",
       "      <th>4999</th>\n",
       "      <td>1</td>\n",
       "      <td>28.0</td>\n",
       "      <td>40600.0</td>\n",
       "      <td>1</td>\n",
       "      <td>0</td>\n",
       "    </tr>\n",
       "  </tbody>\n",
       "</table>\n",
       "<p>5000 rows × 5 columns</p>\n",
       "</div>"
      ],
      "text/plain": [
       "      Пол  Возраст  Зарплата  Члены семьи  Страховые выплаты\n",
       "0       1     41.0   49600.0            1                  0\n",
       "1       0     46.0   38000.0            1                  1\n",
       "2       0     29.0   21000.0            0                  0\n",
       "3       0     21.0   41700.0            2                  0\n",
       "4       1     28.0   26100.0            0                  0\n",
       "...   ...      ...       ...          ...                ...\n",
       "4995    0     28.0   35700.0            2                  0\n",
       "4996    0     34.0   52400.0            1                  0\n",
       "4997    0     20.0   33900.0            2                  0\n",
       "4998    1     22.0   32700.0            3                  0\n",
       "4999    1     28.0   40600.0            1                  0\n",
       "\n",
       "[5000 rows x 5 columns]"
      ]
     },
     "execution_count": 2,
     "metadata": {},
     "output_type": "execute_result"
    }
   ],
   "source": [
    "df = pd.read_csv('/datasets/insurance.csv')\n",
    "df"
   ]
  },
  {
   "cell_type": "code",
   "execution_count": 3,
   "metadata": {},
   "outputs": [],
   "source": [
    "train, test = train_test_split(df, test_size=.2, random_state=42)"
   ]
  },
  {
   "cell_type": "code",
   "execution_count": 4,
   "metadata": {},
   "outputs": [
    {
     "data": {
      "text/plain": [
       "0    3545\n",
       "1     345\n",
       "2      92\n",
       "3      13\n",
       "4       5\n",
       "Name: Страховые выплаты, dtype: int64"
      ]
     },
     "execution_count": 4,
     "metadata": {},
     "output_type": "execute_result"
    }
   ],
   "source": [
    "train['Страховые выплаты'].value_counts()"
   ]
  },
  {
   "cell_type": "markdown",
   "metadata": {},
   "source": [
    "Так как целевые значения целочисленные, будем также округлять предсказания и считать R2 как по вещественным, так и по целочисленным значениям."
   ]
  },
  {
   "cell_type": "code",
   "execution_count": 5,
   "metadata": {},
   "outputs": [],
   "source": [
    "X_train = train[['Пол', 'Возраст', 'Зарплата', 'Члены семьи']].values\n",
    "y_train = train['Страховые выплаты'].values\n",
    "X_test = test[['Пол', 'Возраст', 'Зарплата', 'Члены семьи']].values\n",
    "y_test = test['Страховые выплаты'].values"
   ]
  },
  {
   "cell_type": "markdown",
   "metadata": {},
   "source": [
    "## Умножение матриц"
   ]
  },
  {
   "cell_type": "markdown",
   "metadata": {},
   "source": [
    "Обозначения:\n",
    "\n",
    "- $X$ — матрица признаков (нулевой столбец состоит из единиц)\n",
    "\n",
    "- $y$ — вектор целевого признака\n",
    "\n",
    "- $P$ — матрица, на которую умножаются признаки\n",
    "\n",
    "- $w$ — вектор весов линейной регрессии (нулевой элемент равен сдвигу)\n"
   ]
  },
  {
   "cell_type": "markdown",
   "metadata": {},
   "source": [
    "Предсказания:\n",
    "\n",
    "$$\n",
    "a = Xw\n",
    "$$\n",
    "\n",
    "Задача обучения:\n",
    "\n",
    "$$\n",
    "w = \\arg\\min_w MSE(Xw, y)\n",
    "$$\n",
    "\n",
    "Формула обучения:\n",
    "\n",
    "$$\n",
    "w = (X^T X)^{-1} X^T y\n",
    "$$\n"
   ]
  },
  {
   "cell_type": "markdown",
   "metadata": {},
   "source": [
    "- $A$ — сгенерированная обратимая матрица\n",
    "\n",
    "- $w^\\prime$ — новый вектор весов после матричного умножения\n",
    "\n",
    "- $E$ — единичная матрица\n",
    "\n",
    "Мы хотим найти веткор весов, который бы давал ту же матрицу предсказаний после матричного умножения:\n",
    "\n",
    "$$\n",
    "a = XAw^\\prime \\Rightarrow Xw = XAw^\\prime \\Rightarrow w = Aw^\\prime \\Rightarrow A^{-1}w = A^{-1}Aw^\\prime = Ew^\\prime = w^\\prime\n",
    "$$\n",
    "\n",
    "Следовательно:\n",
    "$$\n",
    "w^\\prime = A^{-1}w\n",
    "$$\n",
    "\n",
    "В полном виде:\n",
    "$$\n",
    "w^\\prime = A^{-1}(X^T X)^{-1} X^T y\n",
    "$$\n",
    "\n",
    "Следовательно, чтобы предсказания модели не изменились должно выполняться следующее равенство:\n",
    "\n",
    "$$\n",
    "A^{-1}(X^T X)^{-1} X^T y = ((XA)^T XA)^{-1} (XA)^T y\n",
    "$$\n",
    "\n",
    "Докажем равенство:\n",
    "\n",
    "$$\n",
    "((XA)^T XA)^{-1} (XA)^T y = (A^T X^T XA)^{-1} A^T X^T y = (X^T XA)^{-1} (A^T)^{-1} A^T X^T y = (X^T XA)^{-1} E X^T y = A^{-1} (X^T X)^{-1} X^T y\n",
    "$$"
   ]
  },
  {
   "cell_type": "code",
   "execution_count": 6,
   "metadata": {},
   "outputs": [
    {
     "name": "stdout",
     "output_type": "stream",
     "text": [
      "R2: 0.43686949231379935\n",
      "R2 (целочисленные значения) 0.630367703779892\n"
     ]
    }
   ],
   "source": [
    "# Обучаем и тестируем линейную регрессию на изначальных признаках\n",
    "model = LinearRegression()\n",
    "model.fit(X_train, y_train)\n",
    "pred = model.predict(X_test)\n",
    "pred_int = np.round(pred)\n",
    "print(f'R2: {r2_score(y_test, pred)}\\nR2 (целочисленные значения) {r2_score(y_test, pred_int)}')"
   ]
  },
  {
   "cell_type": "markdown",
   "metadata": {},
   "source": [
    "Фиксируем значения качества линейной регрессии на изначальных признаках. "
   ]
  },
  {
   "cell_type": "code",
   "execution_count": 7,
   "metadata": {},
   "outputs": [],
   "source": [
    "# Создаем обратимую матрицу подходящих размеров\n",
    "mu = np.random.randint(-100, 100)\n",
    "sigma = np.random.randint(1, 100)\n",
    "matrix = np.random.default_rng().normal(mu, sigma, size=(X_train.shape[1], X_train.shape[1]))"
   ]
  },
  {
   "cell_type": "code",
   "execution_count": 8,
   "metadata": {},
   "outputs": [
    {
     "data": {
      "text/plain": [
       "12905735.809600193"
      ]
     },
     "execution_count": 8,
     "metadata": {},
     "output_type": "execute_result"
    }
   ],
   "source": [
    "# Проверяем обратимость матрицы\n",
    "np.linalg.det(matrix)"
   ]
  },
  {
   "cell_type": "markdown",
   "metadata": {},
   "source": [
    "$\\det A ≠ 0 \\Rightarrow A^{-1}существует$"
   ]
  },
  {
   "cell_type": "code",
   "execution_count": 9,
   "metadata": {},
   "outputs": [
    {
     "data": {
      "text/plain": [
       "array([[6322431.68789427, -742801.0638358 ,   34174.64671691,\n",
       "         530768.0338056 ],\n",
       "       [8114583.40101442, -951536.46936067,   45284.09374361,\n",
       "         680565.82471947],\n",
       "       [3737827.42209718, -435899.8505652 ,   22769.92609317,\n",
       "         312489.58295753],\n",
       "       ...,\n",
       "       [5951724.09574152, -696946.15415137,   33978.82760739,\n",
       "         498739.20377438],\n",
       "       [4595075.40838937, -537658.21061731,   26565.47534846,\n",
       "         384907.93809071],\n",
       "       [5670396.12630465, -663044.57126874,   33138.48620249,\n",
       "         474826.06326029]])"
      ]
     },
     "execution_count": 9,
     "metadata": {},
     "output_type": "execute_result"
    }
   ],
   "source": [
    "# Умножаем матрицу признаков на получившуюся матрицу\n",
    "new_matrix = X_train @ matrix\n",
    "new_matrix"
   ]
  },
  {
   "cell_type": "markdown",
   "metadata": {},
   "source": [
    "Очевидно, после перемножения матриц веса в линейной регрессии будут совершенно другими:"
   ]
  },
  {
   "cell_type": "code",
   "execution_count": 10,
   "metadata": {},
   "outputs": [
    {
     "name": "stdout",
     "output_type": "stream",
     "text": [
      "R2: -9716.9864628833\n",
      "R2 (целочисленные значения) -9720.815537413217\n"
     ]
    }
   ],
   "source": [
    "model = LinearRegression()\n",
    "model.fit(new_matrix, y_train)\n",
    "pred = model.predict(X_test)\n",
    "pred_int = np.round(pred)\n",
    "print(f'R2: {r2_score(y_test, pred)}\\nR2 (целочисленные значения) {r2_score(y_test, pred_int)}')"
   ]
  },
  {
   "cell_type": "markdown",
   "metadata": {},
   "source": [
    "Соответственно, тестовые и в будущем новые данные также необходимо умножать на ту же обратимую матрицу, в таком случае качество модели не изменится:"
   ]
  },
  {
   "cell_type": "code",
   "execution_count": 11,
   "metadata": {},
   "outputs": [
    {
     "name": "stdout",
     "output_type": "stream",
     "text": [
      "R2: 0.4368694923138744\n",
      "R2 (целочисленные значения) 0.630367703779892\n"
     ]
    }
   ],
   "source": [
    "model = LinearRegression()\n",
    "model.fit(new_matrix, y_train)\n",
    "pred = model.predict(X_test @ matrix)\n",
    "pred_int = np.round(pred)\n",
    "print(f'R2: {r2_score(y_test, pred)}\\nR2 (целочисленные значения) {r2_score(y_test, pred_int)}')"
   ]
  },
  {
   "cell_type": "markdown",
   "metadata": {},
   "source": [
    "Однако, в том случае, если есть необходимость в раскрытии сгенерированной обратимой матрицы, например, для обработки новых данных перед предсказанием модели, изначальные данные очень легко восстановить, пользуясь свойством обратимости матрицы:"
   ]
  },
  {
   "cell_type": "code",
   "execution_count": 12,
   "metadata": {
    "scrolled": true
   },
   "outputs": [],
   "source": [
    "# Получаем обратную матрицу\n",
    "inv_matrix = np.linalg.inv(matrix)"
   ]
  },
  {
   "cell_type": "code",
   "execution_count": 13,
   "metadata": {},
   "outputs": [
    {
     "data": {
      "text/plain": [
       "0.9979375"
      ]
     },
     "execution_count": 13,
     "metadata": {},
     "output_type": "execute_result"
    }
   ],
   "source": [
    "# Восстанавливаем изначальную матрицу признаков\n",
    "(np.abs(np.round((new_matrix @ inv_matrix))) == X_train).mean()"
   ]
  },
  {
   "cell_type": "markdown",
   "metadata": {},
   "source": [
    "Как видно, практически идеальное восстановление данных."
   ]
  },
  {
   "cell_type": "markdown",
   "metadata": {},
   "source": [
    "## Алгоритм преобразования"
   ]
  },
  {
   "cell_type": "markdown",
   "metadata": {},
   "source": [
    "Решить данную проблему восстановления, используя то же матричное умножение, можно взяв необратимую матрицу - любую неквадратную матрицу, фиксируя размерность только одной стороны:"
   ]
  },
  {
   "cell_type": "code",
   "execution_count": 14,
   "metadata": {},
   "outputs": [],
   "source": [
    "# Создаем необратимую матрицу подходящих размеров\n",
    "mu = np.random.randint(-100, 100)\n",
    "sigma = np.random.randint(1, 100)\n",
    "matrix = np.random.default_rng().normal(mu, sigma, size=(X_train.shape[1], X_train.shape[1] + 10))"
   ]
  },
  {
   "cell_type": "code",
   "execution_count": 15,
   "metadata": {},
   "outputs": [
    {
     "data": {
      "text/plain": [
       "array([[ 8841212.67331346,  -177783.1490866 ,  -994536.40800865, ...,\n",
       "          299344.1310107 ,  2172596.96973789,  5217923.87836732],\n",
       "       [11345999.51760215,  -227635.41341202, -1274727.39307051, ...,\n",
       "          384546.05894668,  2788608.69839315,  6696156.53531681],\n",
       "       [ 5224634.45029101,  -104171.29898963,  -584785.290852  , ...,\n",
       "          177599.31775413,  1284878.63099547,  3083108.7275051 ],\n",
       "       ...,\n",
       "       [ 8321188.98868855,  -166689.07760827,  -933921.08653733, ...,\n",
       "          282174.68770472,  2045411.47810764,  4910802.69091067],\n",
       "       [ 6424123.36036645,  -128566.18553142,  -720648.80331942, ...,\n",
       "          217942.31923566,  1579218.74897855,  3791235.01662331],\n",
       "       [ 7927134.27318509,  -158530.03631286,  -888981.91715835, ...,\n",
       "          269141.43462758,  1948992.30191492,  4678193.54984377]])"
      ]
     },
     "execution_count": 15,
     "metadata": {},
     "output_type": "execute_result"
    }
   ],
   "source": [
    "# Умножаем матрицу признаков на получившуюся матрицу\n",
    "new_matrix = X_train @ matrix\n",
    "new_matrix"
   ]
  },
  {
   "cell_type": "code",
   "execution_count": 16,
   "metadata": {},
   "outputs": [
    {
     "name": "stdout",
     "output_type": "stream",
     "text": [
      "R2: 0.43688180897916384\n",
      "R2 (целочисленные значения) 0.630367703779892\n"
     ]
    }
   ],
   "source": [
    "model = LinearRegression()\n",
    "model.fit(new_matrix, y_train)\n",
    "pred = model.predict(X_test @ matrix)\n",
    "pred_int = np.round(pred)\n",
    "print(f'R2: {r2_score(y_test, pred)}\\nR2 (целочисленные значения) {r2_score(y_test, pred_int)}')"
   ]
  },
  {
   "cell_type": "markdown",
   "metadata": {},
   "source": [
    "Как видно, качество моедли фактически не изменяется, а построить обратную матрицу для неквадратной матрицы невозможно. \n",
    "\n",
    "Однако существуют способы создания псевдообратной матрицы, с помощью которой можно также восстановить данные:"
   ]
  },
  {
   "cell_type": "code",
   "execution_count": 17,
   "metadata": {
    "scrolled": false
   },
   "outputs": [],
   "source": [
    "# Получаем псевдообратную матрицу\n",
    "pinv_matrix = np.linalg.pinv(matrix)"
   ]
  },
  {
   "cell_type": "code",
   "execution_count": 18,
   "metadata": {},
   "outputs": [
    {
     "data": {
      "text/plain": [
       "0.9979375"
      ]
     },
     "execution_count": 18,
     "metadata": {},
     "output_type": "execute_result"
    }
   ],
   "source": [
    "# Восстанавливаем изначальную матрицу признаков\n",
    "(np.abs(np.round((new_matrix @ pinv_matrix))) == X_train).mean()"
   ]
  },
  {
   "cell_type": "markdown",
   "metadata": {},
   "source": [
    "Для решения данной проблемы будет правильнее уменшить колличество признаков, взяв неквадратную матрицу (кол-во признаков на кол-во признаков - n), в таком случае даже построив псевдообратную матрицу восстановить данные не получится. Минус данного подхода в том, что мы потеряем некоторую долю дисперсии, а вместе с ней и часть информации, соответственно качество модели может ухудшиться."
   ]
  },
  {
   "cell_type": "markdown",
   "metadata": {},
   "source": [
    "## Проверка алгоритма"
   ]
  },
  {
   "cell_type": "code",
   "execution_count": 19,
   "metadata": {},
   "outputs": [],
   "source": [
    "# Создаем необратимую матрицу подходящих размеров\n",
    "mu = np.random.randint(-100, 100)\n",
    "sigma = np.random.randint(1, 100)\n",
    "matrix = np.random.default_rng().normal(mu, sigma, size=(X_train.shape[1], X_train.shape[1] - 2))"
   ]
  },
  {
   "cell_type": "code",
   "execution_count": 20,
   "metadata": {},
   "outputs": [
    {
     "data": {
      "text/plain": [
       "array([[5801267.54089726, 1661096.5102755 ],\n",
       "       [7446414.36202145, 2135407.14199688],\n",
       "       [3431192.55185685,  988695.1287755 ],\n",
       "       ...,\n",
       "       [5462002.42529818, 1568179.66411249],\n",
       "       [4217156.75692784, 1211531.44079138],\n",
       "       [5204473.33219921, 1496217.47186454]])"
      ]
     },
     "execution_count": 20,
     "metadata": {},
     "output_type": "execute_result"
    }
   ],
   "source": [
    "# Умножаем матрицу признаков на получившуюся матрицу\n",
    "new_matrix = X_train @ matrix\n",
    "new_matrix"
   ]
  },
  {
   "cell_type": "code",
   "execution_count": 21,
   "metadata": {},
   "outputs": [
    {
     "name": "stdout",
     "output_type": "stream",
     "text": [
      "R2: 0.43266045860638236\n",
      "R2 (целочисленные значения) 0.6183144767292363\n"
     ]
    }
   ],
   "source": [
    "model = LinearRegression()\n",
    "model.fit(new_matrix, y_train)\n",
    "pred = model.predict(X_test @ matrix)\n",
    "pred_int = np.round(pred)\n",
    "print(f'R2: {r2_score(y_test, pred)}\\nR2 (целочисленные значения) {r2_score(y_test, pred_int)}')"
   ]
  },
  {
   "cell_type": "markdown",
   "metadata": {},
   "source": [
    "Как и ожидалось, качество модели снизилось, если еще снизить размерность генерируемой матрицы, то качество упадет еще сильнее.\n",
    "\n",
    "Однако теперь восстановить данные с помощью псевдообратной матрицы невозможно:"
   ]
  },
  {
   "cell_type": "code",
   "execution_count": 22,
   "metadata": {
    "scrolled": false
   },
   "outputs": [],
   "source": [
    "# Получаем псевдообратную матрицу\n",
    "pinv_matrix = np.linalg.pinv(matrix)"
   ]
  },
  {
   "cell_type": "code",
   "execution_count": 23,
   "metadata": {},
   "outputs": [
    {
     "data": {
      "text/plain": [
       "0.0"
      ]
     },
     "execution_count": 23,
     "metadata": {},
     "output_type": "execute_result"
    }
   ],
   "source": [
    "# Пробуем восстановить изначальную матрицу признаков\n",
    "(np.abs(np.round((new_matrix @ pinv_matrix))) == X_train).mean()"
   ]
  },
  {
   "cell_type": "markdown",
   "metadata": {},
   "source": [
    "## Итоги исследования\n",
    "\n",
    "Умножение матрицы признаков на обратимую матрицу не изменяет качетсво модели, но если есть необходимость в раскрытии сгенерированной обратимой матрицы, изначальные данные легко восстановить. Для решения этой проблемы можно генерировать и умножать на необратимую неквадратную матрицу меньшей размерности, однако в таком случае (особенно при небольшом количестве признаков) качество модели может снижаться."
   ]
  }
 ],
 "metadata": {
  "ExecuteTimeLog": [
   {
    "duration": 55,
    "start_time": "2022-11-04T20:55:42.260Z"
   },
   {
    "duration": 1387,
    "start_time": "2022-11-04T20:55:43.990Z"
   },
   {
    "duration": 418,
    "start_time": "2022-11-04T20:55:45.380Z"
   },
   {
    "duration": 339,
    "start_time": "2022-11-04T20:59:27.609Z"
   },
   {
    "duration": 5,
    "start_time": "2022-11-04T21:15:58.093Z"
   },
   {
    "duration": 5,
    "start_time": "2022-11-04T21:16:53.356Z"
   },
   {
    "duration": 12,
    "start_time": "2022-11-04T21:17:36.835Z"
   },
   {
    "duration": 4,
    "start_time": "2022-11-04T21:20:14.607Z"
   },
   {
    "duration": 81,
    "start_time": "2022-11-04T21:20:40.822Z"
   },
   {
    "duration": 3,
    "start_time": "2022-11-04T21:20:44.977Z"
   },
   {
    "duration": 19,
    "start_time": "2022-11-04T21:20:47.964Z"
   },
   {
    "duration": 1275,
    "start_time": "2022-11-04T21:22:25.448Z"
   },
   {
    "duration": 7,
    "start_time": "2022-11-04T21:22:43.886Z"
   },
   {
    "duration": 8,
    "start_time": "2022-11-04T21:22:46.500Z"
   },
   {
    "duration": 9,
    "start_time": "2022-11-04T21:28:03.752Z"
   },
   {
    "duration": 12,
    "start_time": "2022-11-04T21:28:08.161Z"
   },
   {
    "duration": 1567,
    "start_time": "2022-11-04T21:30:10.105Z"
   },
   {
    "duration": 45,
    "start_time": "2022-11-04T21:30:11.675Z"
   },
   {
    "duration": 7,
    "start_time": "2022-11-04T21:30:11.722Z"
   },
   {
    "duration": 29,
    "start_time": "2022-11-04T21:30:11.731Z"
   },
   {
    "duration": 19,
    "start_time": "2022-11-04T21:30:11.761Z"
   },
   {
    "duration": 22,
    "start_time": "2022-11-04T21:30:11.782Z"
   },
   {
    "duration": 22,
    "start_time": "2022-11-04T21:30:11.806Z"
   },
   {
    "duration": 234,
    "start_time": "2022-11-04T21:30:11.829Z"
   },
   {
    "duration": 0,
    "start_time": "2022-11-04T21:30:12.064Z"
   },
   {
    "duration": 76,
    "start_time": "2022-11-04T21:30:52.410Z"
   },
   {
    "duration": 260,
    "start_time": "2022-11-04T21:30:59.442Z"
   },
   {
    "duration": 15018,
    "start_time": "2022-11-04T21:31:01.523Z"
   },
   {
    "duration": 12,
    "start_time": "2022-11-04T21:31:31.381Z"
   },
   {
    "duration": 10,
    "start_time": "2022-11-04T21:31:35.744Z"
   },
   {
    "duration": 11,
    "start_time": "2022-11-04T21:31:59.874Z"
   },
   {
    "duration": 10,
    "start_time": "2022-11-04T21:32:04.796Z"
   },
   {
    "duration": 5,
    "start_time": "2022-11-04T21:32:12.359Z"
   },
   {
    "duration": 5,
    "start_time": "2022-11-04T21:32:12.523Z"
   },
   {
    "duration": 3,
    "start_time": "2022-11-04T21:32:16.718Z"
   },
   {
    "duration": 9,
    "start_time": "2022-11-04T21:32:22.216Z"
   },
   {
    "duration": 5,
    "start_time": "2022-11-04T21:32:50.067Z"
   },
   {
    "duration": 5,
    "start_time": "2022-11-04T21:32:50.607Z"
   },
   {
    "duration": 3,
    "start_time": "2022-11-04T21:32:51.237Z"
   },
   {
    "duration": 9,
    "start_time": "2022-11-04T21:32:52.021Z"
   },
   {
    "duration": 12,
    "start_time": "2022-11-04T21:33:00.168Z"
   },
   {
    "duration": 4,
    "start_time": "2022-11-04T21:33:07.895Z"
   },
   {
    "duration": 9,
    "start_time": "2022-11-04T21:33:08.569Z"
   },
   {
    "duration": 4,
    "start_time": "2022-11-04T21:38:58.681Z"
   },
   {
    "duration": 14,
    "start_time": "2022-11-04T21:39:16.054Z"
   },
   {
    "duration": 9,
    "start_time": "2022-11-04T21:39:27.008Z"
   },
   {
    "duration": 7,
    "start_time": "2022-11-04T21:39:46.220Z"
   },
   {
    "duration": 7,
    "start_time": "2022-11-04T21:39:59.904Z"
   },
   {
    "duration": 5,
    "start_time": "2022-11-04T21:41:22.259Z"
   },
   {
    "duration": 4,
    "start_time": "2022-11-04T21:41:33.567Z"
   },
   {
    "duration": 6,
    "start_time": "2022-11-04T21:41:39.862Z"
   },
   {
    "duration": 6,
    "start_time": "2022-11-04T21:43:09.335Z"
   },
   {
    "duration": 5,
    "start_time": "2022-11-04T21:43:26.406Z"
   },
   {
    "duration": 6,
    "start_time": "2022-11-04T21:43:30.409Z"
   },
   {
    "duration": 68,
    "start_time": "2022-11-04T21:43:38.096Z"
   },
   {
    "duration": 6,
    "start_time": "2022-11-04T21:43:40.873Z"
   },
   {
    "duration": 12,
    "start_time": "2022-11-04T21:43:51.492Z"
   },
   {
    "duration": 11,
    "start_time": "2022-11-04T21:43:59.763Z"
   },
   {
    "duration": 6,
    "start_time": "2022-11-04T21:44:04.905Z"
   },
   {
    "duration": 10,
    "start_time": "2022-11-04T21:49:58.098Z"
   },
   {
    "duration": 5,
    "start_time": "2022-11-04T21:50:05.299Z"
   },
   {
    "duration": 14,
    "start_time": "2022-11-04T21:50:11.247Z"
   },
   {
    "duration": 5,
    "start_time": "2022-11-04T21:50:16.378Z"
   },
   {
    "duration": 5,
    "start_time": "2022-11-04T21:50:21.414Z"
   },
   {
    "duration": 10,
    "start_time": "2022-11-04T21:50:28.304Z"
   },
   {
    "duration": 10,
    "start_time": "2022-11-04T21:50:30.772Z"
   },
   {
    "duration": 105,
    "start_time": "2022-11-04T21:51:15.769Z"
   },
   {
    "duration": 11,
    "start_time": "2022-11-04T21:51:28.032Z"
   },
   {
    "duration": 4,
    "start_time": "2022-11-04T21:51:51.824Z"
   },
   {
    "duration": 6,
    "start_time": "2022-11-04T21:51:59.250Z"
   },
   {
    "duration": 6,
    "start_time": "2022-11-04T21:52:18.439Z"
   },
   {
    "duration": 13,
    "start_time": "2022-11-04T21:52:24.086Z"
   },
   {
    "duration": 8,
    "start_time": "2022-11-04T21:52:26.112Z"
   },
   {
    "duration": 5,
    "start_time": "2022-11-04T21:55:31.462Z"
   },
   {
    "duration": 7,
    "start_time": "2022-11-04T21:55:33.946Z"
   },
   {
    "duration": 10,
    "start_time": "2022-11-04T21:55:48.612Z"
   },
   {
    "duration": 5,
    "start_time": "2022-11-04T21:55:52.784Z"
   },
   {
    "duration": 12,
    "start_time": "2022-11-04T21:55:58.014Z"
   },
   {
    "duration": 7,
    "start_time": "2022-11-04T21:56:00.662Z"
   },
   {
    "duration": 11,
    "start_time": "2022-11-04T21:56:10.353Z"
   },
   {
    "duration": 5,
    "start_time": "2022-11-04T21:56:13.423Z"
   },
   {
    "duration": 5,
    "start_time": "2022-11-04T21:56:15.652Z"
   },
   {
    "duration": 6,
    "start_time": "2022-11-04T22:02:48.409Z"
   },
   {
    "duration": 5,
    "start_time": "2022-11-04T22:03:13.723Z"
   },
   {
    "duration": 5,
    "start_time": "2022-11-04T22:03:20.796Z"
   },
   {
    "duration": 5,
    "start_time": "2022-11-04T22:03:46.954Z"
   },
   {
    "duration": 6,
    "start_time": "2022-11-04T22:03:51.060Z"
   },
   {
    "duration": 7,
    "start_time": "2022-11-04T22:04:34.435Z"
   },
   {
    "duration": 6,
    "start_time": "2022-11-04T22:04:38.953Z"
   },
   {
    "duration": 6,
    "start_time": "2022-11-04T22:04:45.398Z"
   },
   {
    "duration": 15,
    "start_time": "2022-11-04T22:05:31.210Z"
   },
   {
    "duration": 6,
    "start_time": "2022-11-04T22:05:57.296Z"
   },
   {
    "duration": 4,
    "start_time": "2022-11-04T22:11:51.132Z"
   },
   {
    "duration": 80,
    "start_time": "2022-11-04T22:11:51.770Z"
   },
   {
    "duration": 10,
    "start_time": "2022-11-04T22:12:55.715Z"
   },
   {
    "duration": 10,
    "start_time": "2022-11-04T22:13:00.535Z"
   },
   {
    "duration": 162,
    "start_time": "2022-11-04T22:13:05.018Z"
   },
   {
    "duration": 5,
    "start_time": "2022-11-04T22:13:17.551Z"
   },
   {
    "duration": 3,
    "start_time": "2022-11-04T22:13:42.305Z"
   },
   {
    "duration": 19,
    "start_time": "2022-11-04T22:13:43.329Z"
   },
   {
    "duration": 9,
    "start_time": "2022-11-04T22:13:50.792Z"
   },
   {
    "duration": 3,
    "start_time": "2022-11-04T22:14:19.366Z"
   },
   {
    "duration": 6,
    "start_time": "2022-11-04T22:14:26.585Z"
   },
   {
    "duration": 6,
    "start_time": "2022-11-04T22:14:43.346Z"
   },
   {
    "duration": 268,
    "start_time": "2022-11-04T22:14:46.720Z"
   },
   {
    "duration": 3,
    "start_time": "2022-11-04T22:14:58.619Z"
   },
   {
    "duration": 5,
    "start_time": "2022-11-04T22:15:00.679Z"
   },
   {
    "duration": 4,
    "start_time": "2022-11-04T22:15:05.036Z"
   },
   {
    "duration": 5,
    "start_time": "2022-11-04T22:15:05.202Z"
   },
   {
    "duration": 3,
    "start_time": "2022-11-04T22:15:07.722Z"
   },
   {
    "duration": 6,
    "start_time": "2022-11-04T22:15:07.872Z"
   },
   {
    "duration": 5,
    "start_time": "2022-11-04T22:26:25.893Z"
   },
   {
    "duration": 3,
    "start_time": "2022-11-04T22:26:54.797Z"
   },
   {
    "duration": 3,
    "start_time": "2022-11-04T22:26:55.189Z"
   },
   {
    "duration": 8,
    "start_time": "2022-11-04T22:26:55.586Z"
   },
   {
    "duration": 3,
    "start_time": "2022-11-04T22:27:04.672Z"
   },
   {
    "duration": 3,
    "start_time": "2022-11-04T22:27:04.875Z"
   },
   {
    "duration": 9,
    "start_time": "2022-11-04T22:27:05.604Z"
   },
   {
    "duration": 3,
    "start_time": "2022-11-04T22:27:10.270Z"
   },
   {
    "duration": 3,
    "start_time": "2022-11-04T22:27:10.478Z"
   },
   {
    "duration": 9,
    "start_time": "2022-11-04T22:27:10.927Z"
   },
   {
    "duration": 4,
    "start_time": "2022-11-04T22:27:15.534Z"
   },
   {
    "duration": 2,
    "start_time": "2022-11-04T22:27:15.941Z"
   },
   {
    "duration": 7,
    "start_time": "2022-11-04T22:27:16.597Z"
   },
   {
    "duration": 4,
    "start_time": "2022-11-04T22:27:29.375Z"
   },
   {
    "duration": 4,
    "start_time": "2022-11-04T22:29:39.991Z"
   },
   {
    "duration": 4,
    "start_time": "2022-11-04T22:29:40.318Z"
   },
   {
    "duration": 5,
    "start_time": "2022-11-04T22:29:41.664Z"
   },
   {
    "duration": 9,
    "start_time": "2022-11-04T22:29:42.224Z"
   },
   {
    "duration": 4,
    "start_time": "2022-11-04T22:30:11.314Z"
   },
   {
    "duration": 11,
    "start_time": "2022-11-04T22:30:11.466Z"
   },
   {
    "duration": 5,
    "start_time": "2022-11-04T22:30:11.616Z"
   },
   {
    "duration": 13,
    "start_time": "2022-11-04T22:30:11.900Z"
   },
   {
    "duration": 3,
    "start_time": "2022-11-04T22:30:17.621Z"
   },
   {
    "duration": 3,
    "start_time": "2022-11-04T22:30:17.780Z"
   },
   {
    "duration": 5,
    "start_time": "2022-11-04T22:30:17.924Z"
   },
   {
    "duration": 8,
    "start_time": "2022-11-04T22:30:18.071Z"
   },
   {
    "duration": 3,
    "start_time": "2022-11-04T22:30:39.945Z"
   },
   {
    "duration": 5,
    "start_time": "2022-11-04T22:30:40.363Z"
   },
   {
    "duration": 3,
    "start_time": "2022-11-04T22:31:14.490Z"
   },
   {
    "duration": 6,
    "start_time": "2022-11-04T22:31:15.071Z"
   },
   {
    "duration": 90,
    "start_time": "2022-11-04T22:31:24.534Z"
   },
   {
    "duration": 3,
    "start_time": "2022-11-04T22:31:28.368Z"
   },
   {
    "duration": 4,
    "start_time": "2022-11-04T22:31:32.972Z"
   },
   {
    "duration": 3,
    "start_time": "2022-11-04T22:31:33.247Z"
   },
   {
    "duration": 8,
    "start_time": "2022-11-04T22:31:33.586Z"
   },
   {
    "duration": 121,
    "start_time": "2022-11-04T22:31:34.621Z"
   },
   {
    "duration": 4,
    "start_time": "2022-11-04T22:31:36.581Z"
   },
   {
    "duration": 5,
    "start_time": "2022-11-04T22:31:37.190Z"
   },
   {
    "duration": 4,
    "start_time": "2022-11-04T22:32:03.898Z"
   },
   {
    "duration": 3,
    "start_time": "2022-11-04T22:32:04.111Z"
   },
   {
    "duration": 5,
    "start_time": "2022-11-04T22:32:04.283Z"
   },
   {
    "duration": 7,
    "start_time": "2022-11-04T22:32:04.477Z"
   },
   {
    "duration": 3,
    "start_time": "2022-11-04T22:32:05.161Z"
   },
   {
    "duration": 5,
    "start_time": "2022-11-04T22:32:05.506Z"
   },
   {
    "duration": 4,
    "start_time": "2022-11-04T22:32:08.552Z"
   },
   {
    "duration": 3,
    "start_time": "2022-11-04T22:32:08.688Z"
   },
   {
    "duration": 4,
    "start_time": "2022-11-04T22:32:08.853Z"
   },
   {
    "duration": 7,
    "start_time": "2022-11-04T22:32:09.004Z"
   },
   {
    "duration": 3,
    "start_time": "2022-11-04T22:32:09.362Z"
   },
   {
    "duration": 5,
    "start_time": "2022-11-04T22:32:09.686Z"
   },
   {
    "duration": 8,
    "start_time": "2022-11-04T22:32:59.730Z"
   },
   {
    "duration": 8,
    "start_time": "2022-11-04T22:33:10.100Z"
   },
   {
    "duration": 8,
    "start_time": "2022-11-04T22:33:20.720Z"
   },
   {
    "duration": 3,
    "start_time": "2022-11-04T22:33:22.167Z"
   },
   {
    "duration": 5,
    "start_time": "2022-11-04T22:33:22.358Z"
   },
   {
    "duration": 3,
    "start_time": "2022-11-04T22:33:22.549Z"
   },
   {
    "duration": 9,
    "start_time": "2022-11-04T22:33:22.826Z"
   },
   {
    "duration": 8,
    "start_time": "2022-11-04T22:33:23.032Z"
   },
   {
    "duration": 6,
    "start_time": "2022-11-04T22:33:23.544Z"
   },
   {
    "duration": 3,
    "start_time": "2022-11-04T22:33:28.565Z"
   },
   {
    "duration": 3,
    "start_time": "2022-11-04T22:33:28.789Z"
   },
   {
    "duration": 6,
    "start_time": "2022-11-04T22:33:29.029Z"
   },
   {
    "duration": 7,
    "start_time": "2022-11-04T22:33:29.307Z"
   },
   {
    "duration": 3,
    "start_time": "2022-11-04T22:33:29.744Z"
   },
   {
    "duration": 6,
    "start_time": "2022-11-04T22:33:30.135Z"
   },
   {
    "duration": 3,
    "start_time": "2022-11-04T22:34:25.111Z"
   },
   {
    "duration": 2,
    "start_time": "2022-11-04T22:34:25.293Z"
   },
   {
    "duration": 5,
    "start_time": "2022-11-04T22:34:25.465Z"
   },
   {
    "duration": 9,
    "start_time": "2022-11-04T22:34:25.667Z"
   },
   {
    "duration": 3,
    "start_time": "2022-11-04T22:34:25.863Z"
   },
   {
    "duration": 5,
    "start_time": "2022-11-04T22:34:26.323Z"
   },
   {
    "duration": 7,
    "start_time": "2022-11-04T22:40:41.317Z"
   },
   {
    "duration": 9,
    "start_time": "2022-11-04T22:40:47.124Z"
   },
   {
    "duration": 8,
    "start_time": "2022-11-04T22:40:53.109Z"
   },
   {
    "duration": 8,
    "start_time": "2022-11-04T22:41:03.223Z"
   },
   {
    "duration": 8,
    "start_time": "2022-11-04T22:41:08.027Z"
   },
   {
    "duration": 1592,
    "start_time": "2022-11-06T14:19:07.393Z"
   },
   {
    "duration": 88,
    "start_time": "2022-11-06T14:19:08.986Z"
   },
   {
    "duration": 6,
    "start_time": "2022-11-06T14:19:09.076Z"
   },
   {
    "duration": 6,
    "start_time": "2022-11-06T14:19:09.084Z"
   },
   {
    "duration": 8,
    "start_time": "2022-11-06T14:19:09.091Z"
   },
   {
    "duration": 7,
    "start_time": "2022-11-06T14:19:09.393Z"
   },
   {
    "duration": 4,
    "start_time": "2022-11-06T14:19:09.653Z"
   },
   {
    "duration": 3,
    "start_time": "2022-11-06T14:19:09.873Z"
   },
   {
    "duration": 5,
    "start_time": "2022-11-06T14:19:10.072Z"
   },
   {
    "duration": 7,
    "start_time": "2022-11-06T14:19:10.272Z"
   },
   {
    "duration": 7,
    "start_time": "2022-11-06T14:19:11.577Z"
   },
   {
    "duration": 6,
    "start_time": "2022-11-06T14:19:11.669Z"
   },
   {
    "duration": 5,
    "start_time": "2022-11-06T14:19:11.853Z"
   },
   {
    "duration": 4,
    "start_time": "2022-11-06T14:19:39.489Z"
   },
   {
    "duration": 166,
    "start_time": "2022-11-06T14:20:21.348Z"
   },
   {
    "duration": 97,
    "start_time": "2022-11-06T14:20:32.565Z"
   },
   {
    "duration": 54,
    "start_time": "2022-11-06T14:20:48.098Z"
   },
   {
    "duration": 6,
    "start_time": "2022-11-06T14:23:46.366Z"
   },
   {
    "duration": 5,
    "start_time": "2022-11-06T14:24:55.885Z"
   },
   {
    "duration": 7,
    "start_time": "2022-11-06T14:26:08.752Z"
   },
   {
    "duration": 3,
    "start_time": "2022-11-06T14:35:32.456Z"
   },
   {
    "duration": 6,
    "start_time": "2022-11-06T14:35:32.462Z"
   },
   {
    "duration": 14,
    "start_time": "2022-11-06T14:35:32.564Z"
   },
   {
    "duration": 1648,
    "start_time": "2022-11-08T10:52:32.435Z"
   },
   {
    "duration": 97,
    "start_time": "2022-11-08T10:52:34.085Z"
   },
   {
    "duration": 6,
    "start_time": "2022-11-08T10:52:34.183Z"
   },
   {
    "duration": 9,
    "start_time": "2022-11-08T10:52:34.190Z"
   },
   {
    "duration": 6,
    "start_time": "2022-11-08T10:52:34.201Z"
   },
   {
    "duration": 10,
    "start_time": "2022-11-08T10:52:34.208Z"
   },
   {
    "duration": 5,
    "start_time": "2022-11-08T10:52:34.219Z"
   },
   {
    "duration": 6,
    "start_time": "2022-11-08T10:52:34.225Z"
   },
   {
    "duration": 9,
    "start_time": "2022-11-08T10:52:34.233Z"
   },
   {
    "duration": 15,
    "start_time": "2022-11-08T10:52:34.243Z"
   },
   {
    "duration": 4,
    "start_time": "2022-11-08T10:52:34.260Z"
   },
   {
    "duration": 74,
    "start_time": "2022-11-08T10:52:34.266Z"
   },
   {
    "duration": 108,
    "start_time": "2022-11-08T10:52:34.342Z"
   },
   {
    "duration": 8,
    "start_time": "2022-11-08T10:52:34.452Z"
   },
   {
    "duration": 72,
    "start_time": "2022-11-08T10:52:34.462Z"
   },
   {
    "duration": 98,
    "start_time": "2022-11-08T10:52:34.538Z"
   },
   {
    "duration": 13,
    "start_time": "2022-11-08T10:52:34.638Z"
   },
   {
    "duration": 114,
    "start_time": "2022-11-08T10:53:41.414Z"
   },
   {
    "duration": 7,
    "start_time": "2022-11-08T10:56:41.214Z"
   },
   {
    "duration": 9,
    "start_time": "2022-11-08T10:58:23.343Z"
   },
   {
    "duration": 4,
    "start_time": "2022-11-08T10:58:39.224Z"
   },
   {
    "duration": 4,
    "start_time": "2022-11-08T10:58:45.176Z"
   },
   {
    "duration": 4,
    "start_time": "2022-11-08T10:58:51.067Z"
   },
   {
    "duration": 5,
    "start_time": "2022-11-08T10:58:55.374Z"
   },
   {
    "duration": 3,
    "start_time": "2022-11-08T11:00:01.902Z"
   },
   {
    "duration": 6,
    "start_time": "2022-11-08T11:00:02.079Z"
   },
   {
    "duration": 15,
    "start_time": "2022-11-08T11:00:02.240Z"
   },
   {
    "duration": 7,
    "start_time": "2022-11-08T11:00:20.677Z"
   },
   {
    "duration": 3,
    "start_time": "2022-11-08T11:00:21.453Z"
   },
   {
    "duration": 4,
    "start_time": "2022-11-08T11:00:21.838Z"
   },
   {
    "duration": 7,
    "start_time": "2022-11-08T11:00:23.052Z"
   },
   {
    "duration": 9,
    "start_time": "2022-11-08T11:00:24.331Z"
   },
   {
    "duration": 4,
    "start_time": "2022-11-08T11:00:30.409Z"
   },
   {
    "duration": 4,
    "start_time": "2022-11-08T11:00:30.782Z"
   },
   {
    "duration": 3,
    "start_time": "2022-11-08T11:00:33.175Z"
   },
   {
    "duration": 5,
    "start_time": "2022-11-08T11:00:33.721Z"
   },
   {
    "duration": 20,
    "start_time": "2022-11-08T11:00:39.412Z"
   },
   {
    "duration": 9,
    "start_time": "2022-11-08T11:00:46.124Z"
   },
   {
    "duration": 3,
    "start_time": "2022-11-08T11:00:47.868Z"
   },
   {
    "duration": 12,
    "start_time": "2022-11-08T11:00:48.265Z"
   },
   {
    "duration": 8,
    "start_time": "2022-11-08T11:00:51.687Z"
   },
   {
    "duration": 5,
    "start_time": "2022-11-08T11:01:00.960Z"
   },
   {
    "duration": 5,
    "start_time": "2022-11-08T11:01:05.980Z"
   },
   {
    "duration": 4,
    "start_time": "2022-11-08T11:01:16.700Z"
   },
   {
    "duration": 3,
    "start_time": "2022-11-08T11:03:51.662Z"
   },
   {
    "duration": 5,
    "start_time": "2022-11-08T11:03:53.524Z"
   },
   {
    "duration": 5,
    "start_time": "2022-11-08T11:03:55.438Z"
   },
   {
    "duration": 3,
    "start_time": "2022-11-08T11:03:58.858Z"
   },
   {
    "duration": 9,
    "start_time": "2022-11-08T11:03:59.497Z"
   },
   {
    "duration": 5,
    "start_time": "2022-11-08T11:04:08.789Z"
   },
   {
    "duration": 10,
    "start_time": "2022-11-08T11:04:19.530Z"
   },
   {
    "duration": 4,
    "start_time": "2022-11-08T11:04:37.218Z"
   },
   {
    "duration": 6,
    "start_time": "2022-11-08T11:05:15.002Z"
   },
   {
    "duration": 39,
    "start_time": "2022-11-08T11:05:15.367Z"
   },
   {
    "duration": 5,
    "start_time": "2022-11-08T11:05:15.781Z"
   },
   {
    "duration": 6,
    "start_time": "2022-11-08T11:05:16.022Z"
   },
   {
    "duration": 6,
    "start_time": "2022-11-08T11:05:16.494Z"
   },
   {
    "duration": 5,
    "start_time": "2022-11-08T11:05:22.022Z"
   },
   {
    "duration": 10,
    "start_time": "2022-11-08T11:05:29.302Z"
   },
   {
    "duration": 5,
    "start_time": "2022-11-08T11:05:47.170Z"
   },
   {
    "duration": 8,
    "start_time": "2022-11-08T11:06:36.679Z"
   },
   {
    "duration": 5,
    "start_time": "2022-11-08T11:06:40.907Z"
   },
   {
    "duration": 9,
    "start_time": "2022-11-08T11:06:43.706Z"
   },
   {
    "duration": 8,
    "start_time": "2022-11-08T11:06:45.445Z"
   },
   {
    "duration": 9,
    "start_time": "2022-11-08T11:06:47.353Z"
   },
   {
    "duration": 4,
    "start_time": "2022-11-08T11:06:49.138Z"
   },
   {
    "duration": 9,
    "start_time": "2022-11-08T11:06:56.495Z"
   },
   {
    "duration": 8,
    "start_time": "2022-11-08T11:06:59.452Z"
   },
   {
    "duration": 11,
    "start_time": "2022-11-08T11:07:04.112Z"
   },
   {
    "duration": 5,
    "start_time": "2022-11-08T11:07:07.948Z"
   },
   {
    "duration": 5,
    "start_time": "2022-11-08T11:07:28.723Z"
   },
   {
    "duration": 13,
    "start_time": "2022-11-08T11:07:39.631Z"
   },
   {
    "duration": 11,
    "start_time": "2022-11-08T11:07:54.859Z"
   },
   {
    "duration": 4,
    "start_time": "2022-11-08T11:08:01.563Z"
   },
   {
    "duration": 5,
    "start_time": "2022-11-08T11:13:51.390Z"
   },
   {
    "duration": 6,
    "start_time": "2022-11-08T11:13:51.848Z"
   },
   {
    "duration": 17,
    "start_time": "2022-11-08T11:13:52.394Z"
   },
   {
    "duration": 3,
    "start_time": "2022-11-08T11:13:54.350Z"
   },
   {
    "duration": 6,
    "start_time": "2022-11-08T11:13:54.989Z"
   },
   {
    "duration": 4,
    "start_time": "2022-11-08T11:14:42.721Z"
   },
   {
    "duration": 4,
    "start_time": "2022-11-08T11:14:44.547Z"
   },
   {
    "duration": 520,
    "start_time": "2022-11-08T11:16:54.203Z"
   },
   {
    "duration": 4,
    "start_time": "2022-11-08T11:17:10.299Z"
   },
   {
    "duration": 4,
    "start_time": "2022-11-08T11:17:31.895Z"
   },
   {
    "duration": 4,
    "start_time": "2022-11-08T11:17:32.613Z"
   },
   {
    "duration": 6,
    "start_time": "2022-11-08T11:17:33.750Z"
   },
   {
    "duration": 6,
    "start_time": "2022-11-08T11:17:35.891Z"
   },
   {
    "duration": 2,
    "start_time": "2022-11-08T11:17:36.964Z"
   },
   {
    "duration": 5,
    "start_time": "2022-11-08T11:17:37.219Z"
   },
   {
    "duration": 4,
    "start_time": "2022-11-08T11:18:12.260Z"
   },
   {
    "duration": 5,
    "start_time": "2022-11-08T11:18:12.653Z"
   },
   {
    "duration": 33,
    "start_time": "2022-11-08T11:18:15.499Z"
   },
   {
    "duration": 3,
    "start_time": "2022-11-08T11:18:16.594Z"
   },
   {
    "duration": 4,
    "start_time": "2022-11-08T11:18:16.877Z"
   },
   {
    "duration": 3,
    "start_time": "2022-11-08T11:18:34.046Z"
   },
   {
    "duration": 4,
    "start_time": "2022-11-08T11:18:34.567Z"
   },
   {
    "duration": 5,
    "start_time": "2022-11-08T11:18:35.659Z"
   },
   {
    "duration": 3,
    "start_time": "2022-11-08T11:18:36.869Z"
   },
   {
    "duration": 4,
    "start_time": "2022-11-08T11:18:37.691Z"
   },
   {
    "duration": 5,
    "start_time": "2022-11-08T11:18:39.279Z"
   },
   {
    "duration": 5,
    "start_time": "2022-11-08T11:18:49.227Z"
   },
   {
    "duration": 3,
    "start_time": "2022-11-08T11:19:18.021Z"
   },
   {
    "duration": 5,
    "start_time": "2022-11-08T11:19:18.226Z"
   },
   {
    "duration": 8,
    "start_time": "2022-11-08T11:19:18.887Z"
   },
   {
    "duration": 1628,
    "start_time": "2022-11-08T12:48:45.704Z"
   },
   {
    "duration": 93,
    "start_time": "2022-11-08T12:48:47.334Z"
   },
   {
    "duration": 5,
    "start_time": "2022-11-08T12:48:47.428Z"
   },
   {
    "duration": 8,
    "start_time": "2022-11-08T12:48:47.435Z"
   },
   {
    "duration": 8,
    "start_time": "2022-11-08T12:48:47.445Z"
   },
   {
    "duration": 8,
    "start_time": "2022-11-08T12:48:47.455Z"
   },
   {
    "duration": 4,
    "start_time": "2022-11-08T12:48:47.464Z"
   },
   {
    "duration": 7,
    "start_time": "2022-11-08T12:48:47.470Z"
   },
   {
    "duration": 13,
    "start_time": "2022-11-08T12:48:47.478Z"
   },
   {
    "duration": 6,
    "start_time": "2022-11-08T12:48:47.495Z"
   },
   {
    "duration": 29,
    "start_time": "2022-11-08T12:48:47.503Z"
   },
   {
    "duration": 101,
    "start_time": "2022-11-08T12:48:47.534Z"
   },
   {
    "duration": 102,
    "start_time": "2022-11-08T12:48:47.637Z"
   },
   {
    "duration": 9,
    "start_time": "2022-11-08T12:48:47.740Z"
   },
   {
    "duration": 87,
    "start_time": "2022-11-08T12:48:47.751Z"
   },
   {
    "duration": 95,
    "start_time": "2022-11-08T12:48:47.840Z"
   },
   {
    "duration": 10,
    "start_time": "2022-11-08T12:48:47.936Z"
   },
   {
    "duration": 5,
    "start_time": "2022-11-08T12:48:47.947Z"
   },
   {
    "duration": 7,
    "start_time": "2022-11-08T12:48:47.953Z"
   },
   {
    "duration": 11,
    "start_time": "2022-11-08T12:48:47.961Z"
   },
   {
    "duration": 5,
    "start_time": "2022-11-08T12:48:47.974Z"
   },
   {
    "duration": 51,
    "start_time": "2022-11-08T12:48:47.981Z"
   },
   {
    "duration": 1145,
    "start_time": "2022-11-08T12:51:13.107Z"
   },
   {
    "duration": 38,
    "start_time": "2022-11-08T12:51:14.254Z"
   },
   {
    "duration": 5,
    "start_time": "2022-11-08T12:51:14.294Z"
   },
   {
    "duration": 20,
    "start_time": "2022-11-08T12:51:14.301Z"
   },
   {
    "duration": 16,
    "start_time": "2022-11-08T12:51:14.323Z"
   },
   {
    "duration": 20,
    "start_time": "2022-11-08T12:51:14.341Z"
   },
   {
    "duration": 16,
    "start_time": "2022-11-08T12:51:14.363Z"
   },
   {
    "duration": 31,
    "start_time": "2022-11-08T12:51:14.380Z"
   },
   {
    "duration": 12,
    "start_time": "2022-11-08T12:51:14.412Z"
   },
   {
    "duration": 24,
    "start_time": "2022-11-08T12:51:14.426Z"
   },
   {
    "duration": 18,
    "start_time": "2022-11-08T12:51:14.452Z"
   },
   {
    "duration": 18,
    "start_time": "2022-11-08T12:51:14.472Z"
   },
   {
    "duration": 9,
    "start_time": "2022-11-08T12:51:14.532Z"
   },
   {
    "duration": 90,
    "start_time": "2022-11-08T12:51:14.543Z"
   },
   {
    "duration": 14,
    "start_time": "2022-11-08T12:51:14.634Z"
   },
   {
    "duration": 99,
    "start_time": "2022-11-08T12:51:14.731Z"
   },
   {
    "duration": 9,
    "start_time": "2022-11-08T12:51:14.832Z"
   },
   {
    "duration": 7,
    "start_time": "2022-11-08T12:51:14.842Z"
   },
   {
    "duration": 5,
    "start_time": "2022-11-08T12:51:14.851Z"
   },
   {
    "duration": 10,
    "start_time": "2022-11-08T12:51:14.858Z"
   },
   {
    "duration": 5,
    "start_time": "2022-11-08T12:51:14.869Z"
   },
   {
    "duration": 7,
    "start_time": "2022-11-08T12:51:14.875Z"
   },
   {
    "duration": 1096,
    "start_time": "2022-11-09T18:08:30.583Z"
   },
   {
    "duration": 96,
    "start_time": "2022-11-09T18:08:31.681Z"
   },
   {
    "duration": 5,
    "start_time": "2022-11-09T18:08:31.778Z"
   },
   {
    "duration": 27,
    "start_time": "2022-11-09T18:08:31.784Z"
   },
   {
    "duration": 6,
    "start_time": "2022-11-09T18:08:31.976Z"
   },
   {
    "duration": 7,
    "start_time": "2022-11-09T18:08:33.933Z"
   },
   {
    "duration": 3,
    "start_time": "2022-11-09T18:08:35.192Z"
   },
   {
    "duration": 104,
    "start_time": "2022-11-09T18:08:35.613Z"
   },
   {
    "duration": 4,
    "start_time": "2022-11-09T18:08:40.852Z"
   },
   {
    "duration": 1094,
    "start_time": "2022-11-09T18:23:40.939Z"
   },
   {
    "duration": 42,
    "start_time": "2022-11-09T18:23:42.035Z"
   },
   {
    "duration": 5,
    "start_time": "2022-11-09T18:23:42.078Z"
   },
   {
    "duration": 23,
    "start_time": "2022-11-09T18:23:42.084Z"
   },
   {
    "duration": 7,
    "start_time": "2022-11-09T18:23:42.109Z"
   },
   {
    "duration": 12,
    "start_time": "2022-11-09T18:23:42.117Z"
   },
   {
    "duration": 5,
    "start_time": "2022-11-09T18:23:42.131Z"
   },
   {
    "duration": 8,
    "start_time": "2022-11-09T18:23:42.138Z"
   },
   {
    "duration": 10,
    "start_time": "2022-11-09T18:23:42.147Z"
   },
   {
    "duration": 10,
    "start_time": "2022-11-09T18:23:42.159Z"
   },
   {
    "duration": 10,
    "start_time": "2022-11-09T18:23:42.171Z"
   },
   {
    "duration": 7,
    "start_time": "2022-11-09T18:23:42.183Z"
   },
   {
    "duration": 91,
    "start_time": "2022-11-09T18:23:42.192Z"
   },
   {
    "duration": 6,
    "start_time": "2022-11-09T18:23:42.287Z"
   },
   {
    "duration": 95,
    "start_time": "2022-11-09T18:23:42.294Z"
   },
   {
    "duration": 19,
    "start_time": "2022-11-09T18:23:42.391Z"
   },
   {
    "duration": 173,
    "start_time": "2022-11-09T18:23:42.413Z"
   },
   {
    "duration": 18,
    "start_time": "2022-11-09T18:23:42.589Z"
   },
   {
    "duration": 12,
    "start_time": "2022-11-09T18:23:42.609Z"
   },
   {
    "duration": 14,
    "start_time": "2022-11-09T18:23:42.623Z"
   },
   {
    "duration": 19,
    "start_time": "2022-11-09T18:23:42.639Z"
   },
   {
    "duration": 13,
    "start_time": "2022-11-09T18:23:42.659Z"
   },
   {
    "duration": 20,
    "start_time": "2022-11-09T18:23:42.674Z"
   },
   {
    "duration": 1066,
    "start_time": "2022-11-09T18:31:15.893Z"
   },
   {
    "duration": 43,
    "start_time": "2022-11-09T18:31:16.961Z"
   },
   {
    "duration": 5,
    "start_time": "2022-11-09T18:31:17.006Z"
   },
   {
    "duration": 21,
    "start_time": "2022-11-09T18:31:17.013Z"
   },
   {
    "duration": 11,
    "start_time": "2022-11-09T18:31:17.036Z"
   },
   {
    "duration": 13,
    "start_time": "2022-11-09T18:31:17.049Z"
   },
   {
    "duration": 7,
    "start_time": "2022-11-09T18:31:17.063Z"
   },
   {
    "duration": 14,
    "start_time": "2022-11-09T18:31:17.072Z"
   },
   {
    "duration": 16,
    "start_time": "2022-11-09T18:31:17.088Z"
   },
   {
    "duration": 11,
    "start_time": "2022-11-09T18:31:17.105Z"
   },
   {
    "duration": 11,
    "start_time": "2022-11-09T18:31:17.117Z"
   },
   {
    "duration": 11,
    "start_time": "2022-11-09T18:31:17.130Z"
   },
   {
    "duration": 36,
    "start_time": "2022-11-09T18:31:17.143Z"
   },
   {
    "duration": 9,
    "start_time": "2022-11-09T18:31:17.183Z"
   },
   {
    "duration": 87,
    "start_time": "2022-11-09T18:31:17.194Z"
   },
   {
    "duration": 197,
    "start_time": "2022-11-09T18:31:17.283Z"
   },
   {
    "duration": 4,
    "start_time": "2022-11-09T18:31:17.481Z"
   },
   {
    "duration": 11,
    "start_time": "2022-11-09T18:31:17.486Z"
   },
   {
    "duration": 5,
    "start_time": "2022-11-09T18:31:17.498Z"
   },
   {
    "duration": 13,
    "start_time": "2022-11-09T18:31:17.505Z"
   },
   {
    "duration": 18,
    "start_time": "2022-11-09T18:31:17.520Z"
   },
   {
    "duration": 14,
    "start_time": "2022-11-09T18:31:17.540Z"
   },
   {
    "duration": 14,
    "start_time": "2022-11-09T18:31:17.556Z"
   }
  ],
  "kernelspec": {
   "display_name": "Python 3 (ipykernel)",
   "language": "python",
   "name": "python3"
  },
  "language_info": {
   "codemirror_mode": {
    "name": "ipython",
    "version": 3
   },
   "file_extension": ".py",
   "mimetype": "text/x-python",
   "name": "python",
   "nbconvert_exporter": "python",
   "pygments_lexer": "ipython3",
   "version": "3.10.5"
  },
  "toc": {
   "base_numbering": 1,
   "nav_menu": {},
   "number_sections": true,
   "sideBar": true,
   "skip_h1_title": true,
   "title_cell": "Содержание",
   "title_sidebar": "Contents",
   "toc_cell": true,
   "toc_position": {},
   "toc_section_display": true,
   "toc_window_display": true
  }
 },
 "nbformat": 4,
 "nbformat_minor": 2
}
