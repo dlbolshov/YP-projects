{
 "cells": [
  {
   "cell_type": "markdown",
   "metadata": {},
   "source": [
    "# Выбор локации для скважины"
   ]
  },
  {
   "cell_type": "markdown",
   "metadata": {},
   "source": [
    "Необходимо решить, где бурить новую скважину.\n",
    "\n",
    "Нам предоставлены пробы нефти в трёх регионах: в каждом 10 000 месторождений, где измерили качество нефти и объём её запасов. Нужно построить модель машинного обучения, которая поможет определить регион, где добыча принесёт наибольшую прибыль. Проанализируем возможную прибыль и риски техникой *Bootstrap.*\n",
    "\n",
    "Шаги для выбора локации:\n",
    "\n",
    "- В избранном регионе ищут месторождения, для каждого определяют значения признаков;\n",
    "- Строят модель и оценивают объём запасов;\n",
    "- Выбирают месторождения с самым высокими оценками значений. Количество месторождений зависит от бюджета компании и стоимости разработки одной скважины;\n",
    "- Прибыль равна суммарной прибыли отобранных месторождений."
   ]
  },
  {
   "cell_type": "markdown",
   "metadata": {},
   "source": [
    "## Загрузка и подготовка данных"
   ]
  },
  {
   "cell_type": "code",
   "execution_count": 1,
   "metadata": {
    "scrolled": true
   },
   "outputs": [
    {
     "name": "stderr",
     "output_type": "stream",
     "text": [
      "/tmp/ipykernel_48/4102136135.py:3: DeprecationWarning: `set_matplotlib_formats` is deprecated since IPython 7.23, directly use `matplotlib_inline.backend_inline.set_matplotlib_formats()`\n",
      "  set_matplotlib_formats('retina')\n"
     ]
    }
   ],
   "source": [
    "# Увеличение разрешения визуализаций\n",
    "from IPython.display import set_matplotlib_formats\n",
    "set_matplotlib_formats('retina')"
   ]
  },
  {
   "cell_type": "code",
   "execution_count": 2,
   "metadata": {},
   "outputs": [],
   "source": [
    "# Сразу подготовим инструменты для дальнейшего использования\n",
    "import numpy as np\n",
    "import pandas as pd\n",
    "import matplotlib.pyplot as plt\n",
    "import seaborn as sns\n",
    "sns.set_theme(style=\"darkgrid\")\n",
    "import warnings\n",
    "warnings.filterwarnings('ignore')\n",
    "warnings.simplefilter('ignore')"
   ]
  },
  {
   "cell_type": "markdown",
   "metadata": {},
   "source": [
    "<div class=\"alert alert-block alert-info\">\n",
    "<b>Совет: </b> Желательно чтобы все импорты были собраны в первой ячейке ноутбука! Если у того, кто будет запускать твой ноутбук будут отсутствовать некоторые библиотеки, то он это увидит сразу, а не в процессе!\n",
    "</div>"
   ]
  },
  {
   "cell_type": "code",
   "execution_count": 3,
   "metadata": {},
   "outputs": [
    {
     "data": {
      "text/html": [
       "<div>\n",
       "<style scoped>\n",
       "    .dataframe tbody tr th:only-of-type {\n",
       "        vertical-align: middle;\n",
       "    }\n",
       "\n",
       "    .dataframe tbody tr th {\n",
       "        vertical-align: top;\n",
       "    }\n",
       "\n",
       "    .dataframe thead th {\n",
       "        text-align: right;\n",
       "    }\n",
       "</style>\n",
       "<table border=\"1\" class=\"dataframe\">\n",
       "  <thead>\n",
       "    <tr style=\"text-align: right;\">\n",
       "      <th></th>\n",
       "      <th>id</th>\n",
       "      <th>f0</th>\n",
       "      <th>f1</th>\n",
       "      <th>f2</th>\n",
       "      <th>product</th>\n",
       "    </tr>\n",
       "  </thead>\n",
       "  <tbody>\n",
       "    <tr>\n",
       "      <th>0</th>\n",
       "      <td>txEyH</td>\n",
       "      <td>0.705745</td>\n",
       "      <td>-0.497823</td>\n",
       "      <td>1.221170</td>\n",
       "      <td>105.280062</td>\n",
       "    </tr>\n",
       "    <tr>\n",
       "      <th>1</th>\n",
       "      <td>2acmU</td>\n",
       "      <td>1.334711</td>\n",
       "      <td>-0.340164</td>\n",
       "      <td>4.365080</td>\n",
       "      <td>73.037750</td>\n",
       "    </tr>\n",
       "    <tr>\n",
       "      <th>2</th>\n",
       "      <td>409Wp</td>\n",
       "      <td>1.022732</td>\n",
       "      <td>0.151990</td>\n",
       "      <td>1.419926</td>\n",
       "      <td>85.265647</td>\n",
       "    </tr>\n",
       "    <tr>\n",
       "      <th>3</th>\n",
       "      <td>iJLyR</td>\n",
       "      <td>-0.032172</td>\n",
       "      <td>0.139033</td>\n",
       "      <td>2.978566</td>\n",
       "      <td>168.620776</td>\n",
       "    </tr>\n",
       "    <tr>\n",
       "      <th>4</th>\n",
       "      <td>Xdl7t</td>\n",
       "      <td>1.988431</td>\n",
       "      <td>0.155413</td>\n",
       "      <td>4.751769</td>\n",
       "      <td>154.036647</td>\n",
       "    </tr>\n",
       "    <tr>\n",
       "      <th>...</th>\n",
       "      <td>...</td>\n",
       "      <td>...</td>\n",
       "      <td>...</td>\n",
       "      <td>...</td>\n",
       "      <td>...</td>\n",
       "    </tr>\n",
       "    <tr>\n",
       "      <th>99995</th>\n",
       "      <td>DLsed</td>\n",
       "      <td>0.971957</td>\n",
       "      <td>0.370953</td>\n",
       "      <td>6.075346</td>\n",
       "      <td>110.744026</td>\n",
       "    </tr>\n",
       "    <tr>\n",
       "      <th>99996</th>\n",
       "      <td>QKivN</td>\n",
       "      <td>1.392429</td>\n",
       "      <td>-0.382606</td>\n",
       "      <td>1.273912</td>\n",
       "      <td>122.346843</td>\n",
       "    </tr>\n",
       "    <tr>\n",
       "      <th>99997</th>\n",
       "      <td>3rnvd</td>\n",
       "      <td>1.029585</td>\n",
       "      <td>0.018787</td>\n",
       "      <td>-1.348308</td>\n",
       "      <td>64.375443</td>\n",
       "    </tr>\n",
       "    <tr>\n",
       "      <th>99998</th>\n",
       "      <td>7kl59</td>\n",
       "      <td>0.998163</td>\n",
       "      <td>-0.528582</td>\n",
       "      <td>1.583869</td>\n",
       "      <td>74.040764</td>\n",
       "    </tr>\n",
       "    <tr>\n",
       "      <th>99999</th>\n",
       "      <td>1CWhH</td>\n",
       "      <td>1.764754</td>\n",
       "      <td>-0.266417</td>\n",
       "      <td>5.722849</td>\n",
       "      <td>149.633246</td>\n",
       "    </tr>\n",
       "  </tbody>\n",
       "</table>\n",
       "<p>100000 rows × 5 columns</p>\n",
       "</div>"
      ],
      "text/plain": [
       "          id        f0        f1        f2     product\n",
       "0      txEyH  0.705745 -0.497823  1.221170  105.280062\n",
       "1      2acmU  1.334711 -0.340164  4.365080   73.037750\n",
       "2      409Wp  1.022732  0.151990  1.419926   85.265647\n",
       "3      iJLyR -0.032172  0.139033  2.978566  168.620776\n",
       "4      Xdl7t  1.988431  0.155413  4.751769  154.036647\n",
       "...      ...       ...       ...       ...         ...\n",
       "99995  DLsed  0.971957  0.370953  6.075346  110.744026\n",
       "99996  QKivN  1.392429 -0.382606  1.273912  122.346843\n",
       "99997  3rnvd  1.029585  0.018787 -1.348308   64.375443\n",
       "99998  7kl59  0.998163 -0.528582  1.583869   74.040764\n",
       "99999  1CWhH  1.764754 -0.266417  5.722849  149.633246\n",
       "\n",
       "[100000 rows x 5 columns]"
      ]
     },
     "execution_count": 3,
     "metadata": {},
     "output_type": "execute_result"
    }
   ],
   "source": [
    "# Загрузим датафрейм и взглянем на него\n",
    "df0 = pd.read_csv('/datasets/geo_data_0.csv')\n",
    "df0"
   ]
  },
  {
   "cell_type": "code",
   "execution_count": 4,
   "metadata": {},
   "outputs": [
    {
     "data": {
      "text/html": [
       "<div>\n",
       "<style scoped>\n",
       "    .dataframe tbody tr th:only-of-type {\n",
       "        vertical-align: middle;\n",
       "    }\n",
       "\n",
       "    .dataframe tbody tr th {\n",
       "        vertical-align: top;\n",
       "    }\n",
       "\n",
       "    .dataframe thead th {\n",
       "        text-align: right;\n",
       "    }\n",
       "</style>\n",
       "<table border=\"1\" class=\"dataframe\">\n",
       "  <thead>\n",
       "    <tr style=\"text-align: right;\">\n",
       "      <th></th>\n",
       "      <th>id</th>\n",
       "      <th>f0</th>\n",
       "      <th>f1</th>\n",
       "      <th>f2</th>\n",
       "      <th>product</th>\n",
       "    </tr>\n",
       "  </thead>\n",
       "  <tbody>\n",
       "    <tr>\n",
       "      <th>0</th>\n",
       "      <td>kBEdx</td>\n",
       "      <td>-15.001348</td>\n",
       "      <td>-8.276000</td>\n",
       "      <td>-0.005876</td>\n",
       "      <td>3.179103</td>\n",
       "    </tr>\n",
       "    <tr>\n",
       "      <th>1</th>\n",
       "      <td>62mP7</td>\n",
       "      <td>14.272088</td>\n",
       "      <td>-3.475083</td>\n",
       "      <td>0.999183</td>\n",
       "      <td>26.953261</td>\n",
       "    </tr>\n",
       "    <tr>\n",
       "      <th>2</th>\n",
       "      <td>vyE1P</td>\n",
       "      <td>6.263187</td>\n",
       "      <td>-5.948386</td>\n",
       "      <td>5.001160</td>\n",
       "      <td>134.766305</td>\n",
       "    </tr>\n",
       "    <tr>\n",
       "      <th>3</th>\n",
       "      <td>KcrkZ</td>\n",
       "      <td>-13.081196</td>\n",
       "      <td>-11.506057</td>\n",
       "      <td>4.999415</td>\n",
       "      <td>137.945408</td>\n",
       "    </tr>\n",
       "    <tr>\n",
       "      <th>4</th>\n",
       "      <td>AHL4O</td>\n",
       "      <td>12.702195</td>\n",
       "      <td>-8.147433</td>\n",
       "      <td>5.004363</td>\n",
       "      <td>134.766305</td>\n",
       "    </tr>\n",
       "    <tr>\n",
       "      <th>...</th>\n",
       "      <td>...</td>\n",
       "      <td>...</td>\n",
       "      <td>...</td>\n",
       "      <td>...</td>\n",
       "      <td>...</td>\n",
       "    </tr>\n",
       "    <tr>\n",
       "      <th>99995</th>\n",
       "      <td>QywKC</td>\n",
       "      <td>9.535637</td>\n",
       "      <td>-6.878139</td>\n",
       "      <td>1.998296</td>\n",
       "      <td>53.906522</td>\n",
       "    </tr>\n",
       "    <tr>\n",
       "      <th>99996</th>\n",
       "      <td>ptvty</td>\n",
       "      <td>-10.160631</td>\n",
       "      <td>-12.558096</td>\n",
       "      <td>5.005581</td>\n",
       "      <td>137.945408</td>\n",
       "    </tr>\n",
       "    <tr>\n",
       "      <th>99997</th>\n",
       "      <td>09gWa</td>\n",
       "      <td>-7.378891</td>\n",
       "      <td>-3.084104</td>\n",
       "      <td>4.998651</td>\n",
       "      <td>137.945408</td>\n",
       "    </tr>\n",
       "    <tr>\n",
       "      <th>99998</th>\n",
       "      <td>rqwUm</td>\n",
       "      <td>0.665714</td>\n",
       "      <td>-6.152593</td>\n",
       "      <td>1.000146</td>\n",
       "      <td>30.132364</td>\n",
       "    </tr>\n",
       "    <tr>\n",
       "      <th>99999</th>\n",
       "      <td>relB0</td>\n",
       "      <td>-3.426139</td>\n",
       "      <td>-7.794274</td>\n",
       "      <td>-0.003299</td>\n",
       "      <td>3.179103</td>\n",
       "    </tr>\n",
       "  </tbody>\n",
       "</table>\n",
       "<p>100000 rows × 5 columns</p>\n",
       "</div>"
      ],
      "text/plain": [
       "          id         f0         f1        f2     product\n",
       "0      kBEdx -15.001348  -8.276000 -0.005876    3.179103\n",
       "1      62mP7  14.272088  -3.475083  0.999183   26.953261\n",
       "2      vyE1P   6.263187  -5.948386  5.001160  134.766305\n",
       "3      KcrkZ -13.081196 -11.506057  4.999415  137.945408\n",
       "4      AHL4O  12.702195  -8.147433  5.004363  134.766305\n",
       "...      ...        ...        ...       ...         ...\n",
       "99995  QywKC   9.535637  -6.878139  1.998296   53.906522\n",
       "99996  ptvty -10.160631 -12.558096  5.005581  137.945408\n",
       "99997  09gWa  -7.378891  -3.084104  4.998651  137.945408\n",
       "99998  rqwUm   0.665714  -6.152593  1.000146   30.132364\n",
       "99999  relB0  -3.426139  -7.794274 -0.003299    3.179103\n",
       "\n",
       "[100000 rows x 5 columns]"
      ]
     },
     "execution_count": 4,
     "metadata": {},
     "output_type": "execute_result"
    }
   ],
   "source": [
    "# Загрузим датафрейм и взглянем на него\n",
    "df1 = pd.read_csv('/datasets/geo_data_1.csv')\n",
    "df1"
   ]
  },
  {
   "cell_type": "code",
   "execution_count": 5,
   "metadata": {},
   "outputs": [
    {
     "data": {
      "text/html": [
       "<div>\n",
       "<style scoped>\n",
       "    .dataframe tbody tr th:only-of-type {\n",
       "        vertical-align: middle;\n",
       "    }\n",
       "\n",
       "    .dataframe tbody tr th {\n",
       "        vertical-align: top;\n",
       "    }\n",
       "\n",
       "    .dataframe thead th {\n",
       "        text-align: right;\n",
       "    }\n",
       "</style>\n",
       "<table border=\"1\" class=\"dataframe\">\n",
       "  <thead>\n",
       "    <tr style=\"text-align: right;\">\n",
       "      <th></th>\n",
       "      <th>id</th>\n",
       "      <th>f0</th>\n",
       "      <th>f1</th>\n",
       "      <th>f2</th>\n",
       "      <th>product</th>\n",
       "    </tr>\n",
       "  </thead>\n",
       "  <tbody>\n",
       "    <tr>\n",
       "      <th>0</th>\n",
       "      <td>fwXo0</td>\n",
       "      <td>-1.146987</td>\n",
       "      <td>0.963328</td>\n",
       "      <td>-0.828965</td>\n",
       "      <td>27.758673</td>\n",
       "    </tr>\n",
       "    <tr>\n",
       "      <th>1</th>\n",
       "      <td>WJtFt</td>\n",
       "      <td>0.262778</td>\n",
       "      <td>0.269839</td>\n",
       "      <td>-2.530187</td>\n",
       "      <td>56.069697</td>\n",
       "    </tr>\n",
       "    <tr>\n",
       "      <th>2</th>\n",
       "      <td>ovLUW</td>\n",
       "      <td>0.194587</td>\n",
       "      <td>0.289035</td>\n",
       "      <td>-5.586433</td>\n",
       "      <td>62.871910</td>\n",
       "    </tr>\n",
       "    <tr>\n",
       "      <th>3</th>\n",
       "      <td>q6cA6</td>\n",
       "      <td>2.236060</td>\n",
       "      <td>-0.553760</td>\n",
       "      <td>0.930038</td>\n",
       "      <td>114.572842</td>\n",
       "    </tr>\n",
       "    <tr>\n",
       "      <th>4</th>\n",
       "      <td>WPMUX</td>\n",
       "      <td>-0.515993</td>\n",
       "      <td>1.716266</td>\n",
       "      <td>5.899011</td>\n",
       "      <td>149.600746</td>\n",
       "    </tr>\n",
       "    <tr>\n",
       "      <th>...</th>\n",
       "      <td>...</td>\n",
       "      <td>...</td>\n",
       "      <td>...</td>\n",
       "      <td>...</td>\n",
       "      <td>...</td>\n",
       "    </tr>\n",
       "    <tr>\n",
       "      <th>99995</th>\n",
       "      <td>4GxBu</td>\n",
       "      <td>-1.777037</td>\n",
       "      <td>1.125220</td>\n",
       "      <td>6.263374</td>\n",
       "      <td>172.327046</td>\n",
       "    </tr>\n",
       "    <tr>\n",
       "      <th>99996</th>\n",
       "      <td>YKFjq</td>\n",
       "      <td>-1.261523</td>\n",
       "      <td>-0.894828</td>\n",
       "      <td>2.524545</td>\n",
       "      <td>138.748846</td>\n",
       "    </tr>\n",
       "    <tr>\n",
       "      <th>99997</th>\n",
       "      <td>tKPY3</td>\n",
       "      <td>-1.199934</td>\n",
       "      <td>-2.957637</td>\n",
       "      <td>5.219411</td>\n",
       "      <td>157.080080</td>\n",
       "    </tr>\n",
       "    <tr>\n",
       "      <th>99998</th>\n",
       "      <td>nmxp2</td>\n",
       "      <td>-2.419896</td>\n",
       "      <td>2.417221</td>\n",
       "      <td>-5.548444</td>\n",
       "      <td>51.795253</td>\n",
       "    </tr>\n",
       "    <tr>\n",
       "      <th>99999</th>\n",
       "      <td>V9kWn</td>\n",
       "      <td>-2.551421</td>\n",
       "      <td>-2.025625</td>\n",
       "      <td>6.090891</td>\n",
       "      <td>102.775767</td>\n",
       "    </tr>\n",
       "  </tbody>\n",
       "</table>\n",
       "<p>100000 rows × 5 columns</p>\n",
       "</div>"
      ],
      "text/plain": [
       "          id        f0        f1        f2     product\n",
       "0      fwXo0 -1.146987  0.963328 -0.828965   27.758673\n",
       "1      WJtFt  0.262778  0.269839 -2.530187   56.069697\n",
       "2      ovLUW  0.194587  0.289035 -5.586433   62.871910\n",
       "3      q6cA6  2.236060 -0.553760  0.930038  114.572842\n",
       "4      WPMUX -0.515993  1.716266  5.899011  149.600746\n",
       "...      ...       ...       ...       ...         ...\n",
       "99995  4GxBu -1.777037  1.125220  6.263374  172.327046\n",
       "99996  YKFjq -1.261523 -0.894828  2.524545  138.748846\n",
       "99997  tKPY3 -1.199934 -2.957637  5.219411  157.080080\n",
       "99998  nmxp2 -2.419896  2.417221 -5.548444   51.795253\n",
       "99999  V9kWn -2.551421 -2.025625  6.090891  102.775767\n",
       "\n",
       "[100000 rows x 5 columns]"
      ]
     },
     "execution_count": 5,
     "metadata": {},
     "output_type": "execute_result"
    }
   ],
   "source": [
    "# Загрузим датафрейм и взглянем на него\n",
    "df2 = pd.read_csv('/datasets/geo_data_2.csv')\n",
    "df2"
   ]
  },
  {
   "cell_type": "code",
   "execution_count": 6,
   "metadata": {},
   "outputs": [
    {
     "data": {
      "text/plain": [
       "id         0\n",
       "f0         0\n",
       "f1         0\n",
       "f2         0\n",
       "product    0\n",
       "dtype: int64"
      ]
     },
     "execution_count": 6,
     "metadata": {},
     "output_type": "execute_result"
    }
   ],
   "source": [
    "df0.isna().sum()"
   ]
  },
  {
   "cell_type": "code",
   "execution_count": 7,
   "metadata": {},
   "outputs": [
    {
     "data": {
      "text/plain": [
       "id         0\n",
       "f0         0\n",
       "f1         0\n",
       "f2         0\n",
       "product    0\n",
       "dtype: int64"
      ]
     },
     "execution_count": 7,
     "metadata": {},
     "output_type": "execute_result"
    }
   ],
   "source": [
    "df1.isna().sum()"
   ]
  },
  {
   "cell_type": "code",
   "execution_count": 8,
   "metadata": {},
   "outputs": [
    {
     "data": {
      "text/plain": [
       "id         0\n",
       "f0         0\n",
       "f1         0\n",
       "f2         0\n",
       "product    0\n",
       "dtype: int64"
      ]
     },
     "execution_count": 8,
     "metadata": {},
     "output_type": "execute_result"
    }
   ],
   "source": [
    "df2.isna().sum()"
   ]
  },
  {
   "cell_type": "code",
   "execution_count": 9,
   "metadata": {},
   "outputs": [
    {
     "data": {
      "text/plain": [
       "array([[<AxesSubplot:title={'center':'f0'}>,\n",
       "        <AxesSubplot:title={'center':'f1'}>],\n",
       "       [<AxesSubplot:title={'center':'f2'}>,\n",
       "        <AxesSubplot:title={'center':'product'}>]], dtype=object)"
      ]
     },
     "execution_count": 9,
     "metadata": {},
     "output_type": "execute_result"
    },
    {
     "data": {
      "image/png": "[encoded data removed]",
      "text/plain": [
       "<Figure size 432x288 with 4 Axes>"
      ]
     },
     "metadata": {
      "image/png": {
       "height": 266,
       "width": 393
      }
     },
     "output_type": "display_data"
    }
   ],
   "source": [
    "df0.hist()"
   ]
  },
  {
   "cell_type": "code",
   "execution_count": 10,
   "metadata": {},
   "outputs": [
    {
     "data": {
      "text/plain": [
       "array([[<AxesSubplot:title={'center':'f0'}>,\n",
       "        <AxesSubplot:title={'center':'f1'}>],\n",
       "       [<AxesSubplot:title={'center':'f2'}>,\n",
       "        <AxesSubplot:title={'center':'product'}>]], dtype=object)"
      ]
     },
     "execution_count": 10,
     "metadata": {},
     "output_type": "execute_result"
    },
    {
     "data": {
      "image/png": "[encoded data removed]",
      "text/plain": [
       "<Figure size 432x288 with 4 Axes>"
      ]
     },
     "metadata": {
      "image/png": {
       "height": 266,
       "width": 398
      }
     },
     "output_type": "display_data"
    }
   ],
   "source": [
    "df1.hist()"
   ]
  },
  {
   "cell_type": "code",
   "execution_count": 11,
   "metadata": {},
   "outputs": [
    {
     "data": {
      "text/plain": [
       "array([[<AxesSubplot:title={'center':'f0'}>,\n",
       "        <AxesSubplot:title={'center':'f1'}>],\n",
       "       [<AxesSubplot:title={'center':'f2'}>,\n",
       "        <AxesSubplot:title={'center':'product'}>]], dtype=object)"
      ]
     },
     "execution_count": 11,
     "metadata": {},
     "output_type": "execute_result"
    },
    {
     "data": {
      "image/png": "[encoded data removed]",
      "text/plain": [
       "<Figure size 432x288 with 4 Axes>"
      ]
     },
     "metadata": {
      "image/png": {
       "height": 266,
       "width": 393
      }
     },
     "output_type": "display_data"
    }
   ],
   "source": [
    "df2.hist()"
   ]
  },
  {
   "cell_type": "markdown",
   "metadata": {},
   "source": [
    "Данные загружены, пропусков нет, распределение целевого признака сильно отличается в регионах 0 и 2 и регионе 1."
   ]
  },
  {
   "cell_type": "markdown",
   "metadata": {},
   "source": [
    "## Обучение и проверка модели"
   ]
  },
  {
   "cell_type": "code",
   "execution_count": 12,
   "metadata": {},
   "outputs": [],
   "source": [
    "X = ['f0', 'f1', 'f2']\n",
    "y = 'product'"
   ]
  },
  {
   "cell_type": "code",
   "execution_count": 13,
   "metadata": {
    "scrolled": true
   },
   "outputs": [],
   "source": [
    "from sklearn.model_selection import train_test_split\n",
    "train_0, val_0 = train_test_split(df0, train_size=0.75, random_state=42)\n",
    "train_1, val_1 = train_test_split(df1, train_size=0.75, random_state=42)\n",
    "train_2, val_2 = train_test_split(df2, train_size=0.75, random_state=42)"
   ]
  },
  {
   "cell_type": "code",
   "execution_count": 14,
   "metadata": {},
   "outputs": [],
   "source": [
    "from sklearn.pipeline import Pipeline\n",
    "from sklearn.linear_model import LinearRegression\n",
    "from sklearn.preprocessing import StandardScaler\n",
    "pipe_model = Pipeline([('scaler', StandardScaler()), ('model', LinearRegression())])"
   ]
  },
  {
   "cell_type": "code",
   "execution_count": 15,
   "metadata": {},
   "outputs": [],
   "source": [
    "pipe_model.fit(train_0[X], train_0[y])\n",
    "pred_0 = pipe_model.predict(val_0[X])\n",
    "\n",
    "pipe_model.fit(train_1[X], train_1[y])\n",
    "pred_1 = pipe_model.predict(val_1[X])\n",
    "\n",
    "pipe_model.fit(train_2[X], train_2[y])\n",
    "pred_2 = pipe_model.predict(val_2[X])"
   ]
  },
  {
   "cell_type": "code",
   "execution_count": 16,
   "metadata": {},
   "outputs": [
    {
     "name": "stdout",
     "output_type": "stream",
     "text": [
      "Регион 0:\n",
      "Cредний запас предсказанного сырья: 92.39879990657768\n",
      "RMSE модели: 37.75660035026169\n",
      "MAE модели: 31.047681538788183\n",
      "\n",
      "Регион 1:\n",
      "Cредний запас предсказанного сырья: 68.7128780391376\n",
      "RMSE модели: 0.8902801001028846\n",
      "MAE модели: 0.7170119535682558\n",
      "\n",
      "Регион 2:\n",
      "Cредний запас предсказанного сырья: 94.77102387765939\n",
      "RMSE модели: 40.145872311342174\n",
      "MAE модели: 32.896958610578054\n",
      "\n"
     ]
    }
   ],
   "source": [
    "from sklearn.metrics import mean_squared_error, mean_absolute_error\n",
    "print(f'''Регион 0:\n",
    "Cредний запас предсказанного сырья: {pred_0.mean()}\n",
    "RMSE модели: {mean_squared_error(pred_0, val_0[y], squared=False)}\n",
    "MAE модели: {mean_absolute_error(pred_0, val_0[y])}\n",
    "''')\n",
    "print(f'''Регион 1:\n",
    "Cредний запас предсказанного сырья: {pred_1.mean()}\n",
    "RMSE модели: {mean_squared_error(pred_1, val_1[y], squared=False)}\n",
    "MAE модели: {mean_absolute_error(pred_1, val_1[y])}\n",
    "''')\n",
    "print(f'''Регион 2:\n",
    "Cредний запас предсказанного сырья: {pred_2.mean()}\n",
    "RMSE модели: {mean_squared_error(pred_2, val_2[y], squared=False)}\n",
    "MAE модели: {mean_absolute_error(pred_2, val_2[y])}\n",
    "''')"
   ]
  },
  {
   "cell_type": "markdown",
   "metadata": {},
   "source": [
    "## Подготовка к расчёту прибыли"
   ]
  },
  {
   "cell_type": "markdown",
   "metadata": {},
   "source": [
    "При разведке региона исследуют 500 точек, из которых с помощью машинного обучения выбирают 200 лучших для разработки.\n",
    "Бюджет на разработку скважин в регионе — 10 млрд рублей.\n",
    "При нынешних ценах один баррель сырья приносит 450 рублей дохода. Доход с каждой единицы продукта составляет 450 тыс. рублей, поскольку объём указан в тысячах баррелей.\n",
    "После оценки рисков нужно оставить лишь те регионы, в которых вероятность убытков меньше 2.5%. Среди них выбирают регион с наибольшей средней прибылью."
   ]
  },
  {
   "cell_type": "code",
   "execution_count": 17,
   "metadata": {
    "scrolled": true
   },
   "outputs": [
    {
     "data": {
      "text/plain": [
       "'Достаточный объём сырья для безубыточной разработки новой скважины (Если все объемы равны): 111 тысяч баррелей'"
      ]
     },
     "execution_count": 17,
     "metadata": {},
     "output_type": "execute_result"
    }
   ],
   "source": [
    "budget = 10_000_000_000\n",
    "num_of_points = 200\n",
    "cost = 450_000\n",
    "threshold = 0.025\n",
    "f'Достаточный объём сырья для безубыточной разработки новой скважины \\\n",
    "(Если все объемы равны): {round(budget / num_of_points / cost)} тысяч баррелей'"
   ]
  },
  {
   "cell_type": "markdown",
   "metadata": {},
   "source": [
    "## Расчёт прибыли и рисков "
   ]
  },
  {
   "cell_type": "code",
   "execution_count": 24,
   "metadata": {},
   "outputs": [],
   "source": [
    "from scipy.stats import norm\n",
    "from tqdm.auto import tqdm\n",
    "\n",
    "# Обьявляем функцию для бутстрэпирования\n",
    "def get_bootstrap(\n",
    "    data_column_1,# предикт\n",
    "    data_column_2, # таргет\n",
    "    boot_it = 1000, # количество бутстрэп-подвыборок\n",
    "    statistic = np.mean, # интересующая нас статистика\n",
    "    bootstrap_conf_level = 0.95 # уровень значимости\n",
    "):\n",
    "    np.random.seed(42)\n",
    "    state = np.random.RandomState(42)\n",
    "    data_column_1 = pd.Series(data_column_1).reset_index(drop=True)\n",
    "    data_column_1 = data_column_1.to_frame()\n",
    "    data_column_2 = pd.Series(data_column_2).reset_index(drop=True)\n",
    "    data = data_column_1.join(data_column_2)\n",
    "    data.columns = ['pred', 'y_true']\n",
    "    boot_len = 500\n",
    "    boot_data = []\n",
    "    for i in tqdm(range(boot_it)): # извлекаем подвыборки\n",
    "        samples_1 = data.sample(\n",
    "            boot_len,\n",
    "            axis=0,\n",
    "            replace = True, # параметр возвращения\n",
    "            random_state=state\n",
    "        )\n",
    "            \n",
    "        boot_data.append(statistic(samples_1)) \n",
    "    pd_boot_data = pd.DataFrame(boot_data)\n",
    "        \n",
    "    left_quant = (1 - bootstrap_conf_level)/2\n",
    "    right_quant = 1 - (1 - bootstrap_conf_level) / 2\n",
    "    quants = pd_boot_data.quantile([left_quant, right_quant])\n",
    "        \n",
    "    p_1 = norm.cdf(\n",
    "        x = 0, \n",
    "        loc = np.mean(boot_data), \n",
    "        scale = np.std(boot_data)\n",
    "    )\n",
    "    p_2 = norm.cdf(\n",
    "        x = 0, \n",
    "        loc = -np.mean(boot_data), \n",
    "        scale = np.std(boot_data)\n",
    "    )\n",
    "    p_value = min(p_1, p_2) * 2\n",
    "        \n",
    "    loss_frac = float((pd_boot_data < 0).sum() / boot_it)\n",
    "    # Визуализация\n",
    "    _, _, bars = plt.hist(pd_boot_data[0], bins = 50)\n",
    "    for bar in bars:\n",
    "        if bar.get_x() <= quants.iloc[0][0] or bar.get_x() >= quants.iloc[1][0]:\n",
    "            bar.set_facecolor('red')\n",
    "        else: \n",
    "            bar.set_facecolor('grey')\n",
    "            bar.set_edgecolor('black')\n",
    "    \n",
    "    plt.style.use('ggplot')\n",
    "    plt.vlines(quants,ymin=0,ymax=boot_it / 20,linestyle='--')\n",
    "    plt.xlabel('boot_data')\n",
    "    plt.ylabel('frequency')\n",
    "    plt.title(\"Histogram of boot_data\")\n",
    "    plt.show()\n",
    "       \n",
    "    return {\"quants\": quants,\n",
    "            \"mean\": f'{np.mean(boot_data):_.0f} ₽',\n",
    "            \"risk_proba\": f'{p_1 * 100 :.2f}%',\n",
    "            \"loss_frac\": f'{loss_frac * 100 :.2f}%'\n",
    "           }"
   ]
  },
  {
   "cell_type": "code",
   "execution_count": 25,
   "metadata": {},
   "outputs": [],
   "source": [
    "def sample_profit(data):\n",
    "    best = data.sort_values(by='pred', ascending=False).head(200)['y_true'].values\n",
    "    return round(sum(best) * cost) - budget"
   ]
  },
  {
   "cell_type": "code",
   "execution_count": 26,
   "metadata": {},
   "outputs": [
    {
     "data": {
      "application/vnd.jupyter.widget-view+json": {
       "model_id": "b3eaca5ccc3c42f49e86f3c2470b7b72",
       "version_major": 2,
       "version_minor": 0
      },
      "text/plain": [
       "  0%|          | 0/1000 [00:00<?, ?it/s]"
      ]
     },
     "metadata": {},
     "output_type": "display_data"
    },
    {
     "data": {
      "image/png": "[encoded data removed]",
      "text/plain": [
       "<Figure size 432x288 with 1 Axes>"
      ]
     },
     "metadata": {
      "image/png": {
       "height": 284,
       "width": 388
      }
     },
     "output_type": "display_data"
    },
    {
     "data": {
      "text/plain": [
       "{'quants':                   0\n",
       " 0.025 -1.104679e+08\n",
       " 0.975  8.974603e+08,\n",
       " 'mean': '399_575_478 ₽',\n",
       " 'risk_proba': '6.18%',\n",
       " 'loss_frac': '6.00%'}"
      ]
     },
     "execution_count": 26,
     "metadata": {},
     "output_type": "execute_result"
    }
   ],
   "source": [
    "get_bootstrap(pred_0, val_0[y], statistic=sample_profit)"
   ]
  },
  {
   "cell_type": "code",
   "execution_count": 27,
   "metadata": {
    "scrolled": false
   },
   "outputs": [
    {
     "data": {
      "application/vnd.jupyter.widget-view+json": {
       "model_id": "12d2d0bd89884379bd17c84258f3fbe2",
       "version_major": 2,
       "version_minor": 0
      },
      "text/plain": [
       "  0%|          | 0/1000 [00:00<?, ?it/s]"
      ]
     },
     "metadata": {},
     "output_type": "display_data"
    },
    {
     "data": {
      "image/png": "[encoded data removed]",
      "text/plain": [
       "<Figure size 432x288 with 1 Axes>"
      ]
     },
     "metadata": {
      "image/png": {
       "height": 284,
       "width": 388
      }
     },
     "output_type": "display_data"
    },
    {
     "data": {
      "text/plain": [
       "{'quants':                   0\n",
       " 0.025  6.168448e+07\n",
       " 0.975  8.453402e+08,\n",
       " 'mean': '452_048_891 ₽',\n",
       " 'risk_proba': '1.36%',\n",
       " 'loss_frac': '1.50%'}"
      ]
     },
     "execution_count": 27,
     "metadata": {},
     "output_type": "execute_result"
    }
   ],
   "source": [
    "get_bootstrap(pred_1, val_1[y], statistic=sample_profit)"
   ]
  },
  {
   "cell_type": "code",
   "execution_count": 28,
   "metadata": {},
   "outputs": [
    {
     "data": {
      "application/vnd.jupyter.widget-view+json": {
       "model_id": "08162b8b219e43f1adb17c9fd1cf23ed",
       "version_major": 2,
       "version_minor": 0
      },
      "text/plain": [
       "  0%|          | 0/1000 [00:00<?, ?it/s]"
      ]
     },
     "metadata": {},
     "output_type": "display_data"
    },
    {
     "data": {
      "image/png": "[encoded data removed]",
      "text/plain": [
       "<Figure size 432x288 with 1 Axes>"
      ]
     },
     "metadata": {
      "image/png": {
       "height": 284,
       "width": 393
      }
     },
     "output_type": "display_data"
    },
    {
     "data": {
      "text/plain": [
       "{'quants':                   0\n",
       " 0.025 -1.447667e+08\n",
       " 0.975  8.883904e+08,\n",
       " 'mean': '375_009_903 ₽',\n",
       " 'risk_proba': '7.63%',\n",
       " 'loss_frac': '8.00%'}"
      ]
     },
     "execution_count": 28,
     "metadata": {},
     "output_type": "execute_result"
    }
   ],
   "source": [
    "get_bootstrap(pred_2, val_2[y], statistic=sample_profit)"
   ]
  },
  {
   "cell_type": "markdown",
   "metadata": {},
   "source": [
    "Итак, только регион 1 проходит порог максимальной вероятности убытка (2.5%). \n",
    "- Средняя ожидаемая прибыль - 452_048_891 ₽\n",
    "- 95%-ый доверительный интервал прибыли - 61_684_479 - 845_340_177 ₽\n",
    "- Вероятность убытка - 1.5%"
   ]
  }
 ],
 "metadata": {
  "ExecuteTimeLog": [
   {
    "duration": 577,
    "start_time": "2022-10-10T19:08:09.652Z"
   },
   {
    "duration": 757,
    "start_time": "2022-10-10T19:08:20.599Z"
   },
   {
    "duration": 688,
    "start_time": "2022-10-10T19:09:23.500Z"
   },
   {
    "duration": 0,
    "start_time": "2022-10-10T19:09:24.190Z"
   },
   {
    "duration": 0,
    "start_time": "2022-10-10T19:09:24.193Z"
   },
   {
    "duration": 168,
    "start_time": "2022-10-10T19:09:32.438Z"
   },
   {
    "duration": 261,
    "start_time": "2022-10-10T19:09:32.609Z"
   },
   {
    "duration": 228,
    "start_time": "2022-10-10T19:09:33.140Z"
   },
   {
    "duration": 11,
    "start_time": "2022-10-10T19:10:11.500Z"
   },
   {
    "duration": 24,
    "start_time": "2022-10-10T19:10:20.195Z"
   },
   {
    "duration": 11,
    "start_time": "2022-10-10T19:10:23.331Z"
   },
   {
    "duration": 50,
    "start_time": "2022-10-11T15:35:21.804Z"
   },
   {
    "duration": 809,
    "start_time": "2022-10-11T15:35:25.787Z"
   },
   {
    "duration": 821,
    "start_time": "2022-10-11T15:35:26.599Z"
   },
   {
    "duration": 499,
    "start_time": "2022-10-11T15:35:27.422Z"
   },
   {
    "duration": 199,
    "start_time": "2022-10-11T15:35:27.923Z"
   },
   {
    "duration": 202,
    "start_time": "2022-10-11T15:35:28.123Z"
   },
   {
    "duration": 9,
    "start_time": "2022-10-11T15:35:28.326Z"
   },
   {
    "duration": 14,
    "start_time": "2022-10-11T15:35:28.337Z"
   },
   {
    "duration": 9,
    "start_time": "2022-10-11T15:35:28.352Z"
   },
   {
    "duration": 551,
    "start_time": "2022-10-11T15:35:28.362Z"
   },
   {
    "duration": 960,
    "start_time": "2022-10-12T11:27:32.395Z"
   },
   {
    "duration": 31,
    "start_time": "2022-10-12T11:28:00.631Z"
   },
   {
    "duration": 361,
    "start_time": "2022-10-12T11:28:13.456Z"
   },
   {
    "duration": 278,
    "start_time": "2022-10-12T11:28:13.819Z"
   },
   {
    "duration": 391,
    "start_time": "2022-10-12T11:28:14.098Z"
   },
   {
    "duration": 198,
    "start_time": "2022-10-12T11:28:14.492Z"
   },
   {
    "duration": 201,
    "start_time": "2022-10-12T11:28:14.692Z"
   },
   {
    "duration": 11,
    "start_time": "2022-10-12T11:28:14.895Z"
   },
   {
    "duration": 18,
    "start_time": "2022-10-12T11:28:14.907Z"
   },
   {
    "duration": 12,
    "start_time": "2022-10-12T11:28:14.927Z"
   },
   {
    "duration": 521,
    "start_time": "2022-10-12T11:28:14.942Z"
   },
   {
    "duration": 58,
    "start_time": "2022-10-12T11:28:47.752Z"
   },
   {
    "duration": 560,
    "start_time": "2022-10-12T11:30:50.925Z"
   },
   {
    "duration": 589,
    "start_time": "2022-10-12T11:30:54.828Z"
   },
   {
    "duration": 5,
    "start_time": "2022-10-12T11:33:43.945Z"
   },
   {
    "duration": 51,
    "start_time": "2022-10-12T11:56:55.991Z"
   },
   {
    "duration": 52,
    "start_time": "2022-10-12T11:56:56.364Z"
   },
   {
    "duration": 2,
    "start_time": "2022-10-12T11:57:01.440Z"
   },
   {
    "duration": 44,
    "start_time": "2022-10-12T11:57:02.011Z"
   },
   {
    "duration": 3,
    "start_time": "2022-10-12T11:57:02.592Z"
   },
   {
    "duration": 68,
    "start_time": "2022-10-12T11:57:09.663Z"
   },
   {
    "duration": 4,
    "start_time": "2022-10-12T11:57:29.963Z"
   },
   {
    "duration": 51,
    "start_time": "2022-10-12T11:57:31.584Z"
   },
   {
    "duration": 5,
    "start_time": "2022-10-12T11:57:34.168Z"
   },
   {
    "duration": 3,
    "start_time": "2022-10-12T12:16:51.591Z"
   },
   {
    "duration": 4,
    "start_time": "2022-10-12T12:16:51.988Z"
   },
   {
    "duration": 140,
    "start_time": "2022-10-12T12:16:52.345Z"
   },
   {
    "duration": 125,
    "start_time": "2022-10-12T12:16:52.685Z"
   },
   {
    "duration": 124,
    "start_time": "2022-10-12T12:16:53.087Z"
   },
   {
    "duration": 10,
    "start_time": "2022-10-12T12:16:54.024Z"
   },
   {
    "duration": 9,
    "start_time": "2022-10-12T12:16:54.640Z"
   },
   {
    "duration": 10,
    "start_time": "2022-10-12T12:16:54.945Z"
   },
   {
    "duration": 495,
    "start_time": "2022-10-12T12:16:55.146Z"
   },
   {
    "duration": 571,
    "start_time": "2022-10-12T12:16:55.643Z"
   },
   {
    "duration": 622,
    "start_time": "2022-10-12T12:16:56.216Z"
   },
   {
    "duration": 2,
    "start_time": "2022-10-12T12:16:57.773Z"
   },
   {
    "duration": 43,
    "start_time": "2022-10-12T12:16:59.588Z"
   },
   {
    "duration": 3,
    "start_time": "2022-10-12T12:17:00.142Z"
   },
   {
    "duration": 296,
    "start_time": "2022-10-12T12:17:00.346Z"
   },
   {
    "duration": 5,
    "start_time": "2022-10-12T12:17:00.735Z"
   },
   {
    "duration": 7,
    "start_time": "2022-10-12T12:21:26.855Z"
   },
   {
    "duration": 7,
    "start_time": "2022-10-12T12:24:06.854Z"
   },
   {
    "duration": 7,
    "start_time": "2022-10-12T12:24:13.267Z"
   },
   {
    "duration": 8,
    "start_time": "2022-10-12T12:24:18.753Z"
   },
   {
    "duration": 3,
    "start_time": "2022-10-12T12:25:20.656Z"
   },
   {
    "duration": 138,
    "start_time": "2022-10-12T12:25:20.997Z"
   },
   {
    "duration": 8,
    "start_time": "2022-10-12T12:25:22.909Z"
   },
   {
    "duration": 3,
    "start_time": "2022-10-12T12:26:06.578Z"
   },
   {
    "duration": 323,
    "start_time": "2022-10-12T12:26:06.716Z"
   },
   {
    "duration": 92,
    "start_time": "2022-10-12T12:26:07.042Z"
   },
   {
    "duration": 9,
    "start_time": "2022-10-12T12:30:41.081Z"
   },
   {
    "duration": 4,
    "start_time": "2022-10-12T12:30:48.552Z"
   },
   {
    "duration": 4,
    "start_time": "2022-10-12T12:31:38.600Z"
   },
   {
    "duration": 4,
    "start_time": "2022-10-12T12:32:05.550Z"
   },
   {
    "duration": 5,
    "start_time": "2022-10-12T12:32:21.293Z"
   },
   {
    "duration": 4,
    "start_time": "2022-10-12T12:32:45.928Z"
   },
   {
    "duration": 4,
    "start_time": "2022-10-12T12:35:44.482Z"
   },
   {
    "duration": 9,
    "start_time": "2022-10-12T12:36:19.404Z"
   },
   {
    "duration": 11,
    "start_time": "2022-10-12T12:36:23.229Z"
   },
   {
    "duration": 25,
    "start_time": "2022-10-12T12:36:31.995Z"
   },
   {
    "duration": 25,
    "start_time": "2022-10-12T12:36:45.101Z"
   },
   {
    "duration": 19,
    "start_time": "2022-10-12T12:36:51.752Z"
   },
   {
    "duration": 15,
    "start_time": "2022-10-12T12:36:59.638Z"
   },
   {
    "duration": 40,
    "start_time": "2022-10-12T12:37:22.193Z"
   },
   {
    "duration": 53,
    "start_time": "2022-10-12T12:39:51.790Z"
   },
   {
    "duration": 3,
    "start_time": "2022-10-12T12:41:25.069Z"
   },
   {
    "duration": 3,
    "start_time": "2022-10-12T12:41:30.573Z"
   },
   {
    "duration": 3,
    "start_time": "2022-10-12T12:41:36.405Z"
   },
   {
    "duration": 4,
    "start_time": "2022-10-12T12:41:36.572Z"
   },
   {
    "duration": 3,
    "start_time": "2022-10-12T12:41:46.521Z"
   },
   {
    "duration": 3,
    "start_time": "2022-10-12T12:41:46.717Z"
   },
   {
    "duration": 4,
    "start_time": "2022-10-12T12:41:56.791Z"
   },
   {
    "duration": 4,
    "start_time": "2022-10-12T12:43:24.905Z"
   },
   {
    "duration": 10,
    "start_time": "2022-10-12T12:44:14.444Z"
   },
   {
    "duration": 9,
    "start_time": "2022-10-12T12:44:20.354Z"
   },
   {
    "duration": 9,
    "start_time": "2022-10-12T12:44:22.720Z"
   },
   {
    "duration": 3,
    "start_time": "2022-10-12T12:44:34.110Z"
   },
   {
    "duration": 78,
    "start_time": "2022-10-12T12:46:34.641Z"
   },
   {
    "duration": 8,
    "start_time": "2022-10-12T12:46:41.177Z"
   },
   {
    "duration": 5,
    "start_time": "2022-10-12T12:46:43.661Z"
   },
   {
    "duration": 5,
    "start_time": "2022-10-12T12:46:47.061Z"
   },
   {
    "duration": 4,
    "start_time": "2022-10-12T12:46:54.904Z"
   },
   {
    "duration": 8,
    "start_time": "2022-10-12T12:47:03.559Z"
   },
   {
    "duration": 3,
    "start_time": "2022-10-12T12:47:38.130Z"
   },
   {
    "duration": 3,
    "start_time": "2022-10-12T12:49:29.302Z"
   },
   {
    "duration": 5,
    "start_time": "2022-10-12T12:49:56.893Z"
   },
   {
    "duration": 13,
    "start_time": "2022-10-12T12:53:40.962Z"
   },
   {
    "duration": 4,
    "start_time": "2022-10-12T12:55:13.879Z"
   },
   {
    "duration": 3,
    "start_time": "2022-10-12T12:55:20.153Z"
   },
   {
    "duration": 3,
    "start_time": "2022-10-12T12:55:20.240Z"
   },
   {
    "duration": 31,
    "start_time": "2022-10-12T12:55:32.731Z"
   },
   {
    "duration": 7,
    "start_time": "2022-10-12T12:56:17.753Z"
   },
   {
    "duration": 415,
    "start_time": "2022-10-12T12:56:18.138Z"
   },
   {
    "duration": 484,
    "start_time": "2022-10-12T12:57:08.608Z"
   },
   {
    "duration": 376,
    "start_time": "2022-10-12T12:57:14.805Z"
   },
   {
    "duration": 2792,
    "start_time": "2022-10-12T12:57:40.975Z"
   },
   {
    "duration": 51,
    "start_time": "2022-10-12T12:59:01.218Z"
   },
   {
    "duration": 3,
    "start_time": "2022-10-12T12:59:47.596Z"
   },
   {
    "duration": 564,
    "start_time": "2022-10-12T12:59:49.781Z"
   },
   {
    "duration": 1268,
    "start_time": "2022-10-12T13:00:12.471Z"
   },
   {
    "duration": 1318,
    "start_time": "2022-10-12T13:00:19.659Z"
   },
   {
    "duration": 1283,
    "start_time": "2022-10-12T13:00:24.789Z"
   },
   {
    "duration": 3,
    "start_time": "2022-10-12T13:00:35.508Z"
   },
   {
    "duration": 1416,
    "start_time": "2022-10-12T13:00:35.728Z"
   },
   {
    "duration": 564,
    "start_time": "2022-10-13T14:13:18.543Z"
   },
   {
    "duration": 748,
    "start_time": "2022-10-13T14:13:19.109Z"
   },
   {
    "duration": 413,
    "start_time": "2022-10-13T14:13:19.858Z"
   },
   {
    "duration": 174,
    "start_time": "2022-10-13T14:13:20.273Z"
   },
   {
    "duration": 176,
    "start_time": "2022-10-13T14:13:20.449Z"
   },
   {
    "duration": 9,
    "start_time": "2022-10-13T14:13:20.627Z"
   },
   {
    "duration": 13,
    "start_time": "2022-10-13T14:13:20.638Z"
   },
   {
    "duration": 9,
    "start_time": "2022-10-13T14:13:20.652Z"
   },
   {
    "duration": 540,
    "start_time": "2022-10-13T14:13:20.662Z"
   },
   {
    "duration": 523,
    "start_time": "2022-10-13T14:13:21.204Z"
   },
   {
    "duration": 521,
    "start_time": "2022-10-13T14:13:21.728Z"
   },
   {
    "duration": 3,
    "start_time": "2022-10-13T14:13:22.251Z"
   },
   {
    "duration": 504,
    "start_time": "2022-10-13T14:13:22.255Z"
   },
   {
    "duration": 21,
    "start_time": "2022-10-13T14:13:22.761Z"
   },
   {
    "duration": 348,
    "start_time": "2022-10-13T14:13:22.785Z"
   },
   {
    "duration": 103,
    "start_time": "2022-10-13T14:13:23.224Z"
   },
   {
    "duration": 106,
    "start_time": "2022-10-13T14:15:27.533Z"
   },
   {
    "duration": 5,
    "start_time": "2022-10-13T14:15:29.973Z"
   },
   {
    "duration": 4,
    "start_time": "2022-10-13T14:15:30.093Z"
   },
   {
    "duration": 10,
    "start_time": "2022-10-13T14:18:32.968Z"
   },
   {
    "duration": 4,
    "start_time": "2022-10-13T14:18:43.423Z"
   },
   {
    "duration": 72,
    "start_time": "2022-10-13T14:18:47.678Z"
   },
   {
    "duration": 49,
    "start_time": "2022-10-13T14:19:35.998Z"
   },
   {
    "duration": 39,
    "start_time": "2022-10-13T14:25:22.185Z"
   },
   {
    "duration": 3,
    "start_time": "2022-10-13T14:25:22.663Z"
   },
   {
    "duration": 12,
    "start_time": "2022-10-13T14:25:24.633Z"
   },
   {
    "duration": 4,
    "start_time": "2022-10-13T14:25:58.633Z"
   },
   {
    "duration": 10,
    "start_time": "2022-10-13T14:25:59.128Z"
   },
   {
    "duration": 7,
    "start_time": "2022-10-13T14:26:32.269Z"
   },
   {
    "duration": 13,
    "start_time": "2022-10-13T14:28:55.123Z"
   },
   {
    "duration": 4,
    "start_time": "2022-10-13T14:28:55.593Z"
   },
   {
    "duration": 38,
    "start_time": "2022-10-13T14:28:56.263Z"
   },
   {
    "duration": 10,
    "start_time": "2022-10-13T14:31:21.918Z"
   },
   {
    "duration": 4,
    "start_time": "2022-10-13T14:31:22.383Z"
   },
   {
    "duration": 12,
    "start_time": "2022-10-13T14:31:22.993Z"
   },
   {
    "duration": 10,
    "start_time": "2022-10-13T14:32:05.088Z"
   },
   {
    "duration": 3,
    "start_time": "2022-10-13T14:32:05.433Z"
   },
   {
    "duration": 966,
    "start_time": "2022-10-13T14:32:05.724Z"
   },
   {
    "duration": 3,
    "start_time": "2022-10-13T14:33:08.134Z"
   },
   {
    "duration": 30,
    "start_time": "2022-10-13T14:33:15.943Z"
   },
   {
    "duration": 4,
    "start_time": "2022-10-13T14:33:28.070Z"
   },
   {
    "duration": 456,
    "start_time": "2022-10-13T14:33:28.565Z"
   },
   {
    "duration": 9,
    "start_time": "2022-10-13T14:34:40.159Z"
   },
   {
    "duration": 4,
    "start_time": "2022-10-13T14:34:40.704Z"
   },
   {
    "duration": 518,
    "start_time": "2022-10-13T14:34:41.423Z"
   },
   {
    "duration": 1042,
    "start_time": "2022-10-13T14:36:18.868Z"
   },
   {
    "duration": 524,
    "start_time": "2022-10-13T14:36:50.373Z"
   },
   {
    "duration": 1034,
    "start_time": "2022-10-13T14:37:16.548Z"
   },
   {
    "duration": 986,
    "start_time": "2022-10-13T14:37:17.584Z"
   },
   {
    "duration": 1184,
    "start_time": "2022-10-13T14:37:18.571Z"
   },
   {
    "duration": 457,
    "start_time": "2022-10-13T14:37:40.483Z"
   },
   {
    "duration": 1066,
    "start_time": "2022-10-13T14:37:40.943Z"
   },
   {
    "duration": 412,
    "start_time": "2022-10-13T14:57:42.783Z"
   },
   {
    "duration": 959,
    "start_time": "2022-10-13T14:57:45.508Z"
   },
   {
    "duration": 939,
    "start_time": "2022-10-13T14:57:49.898Z"
   },
   {
    "duration": 11,
    "start_time": "2022-10-13T14:58:56.233Z"
   },
   {
    "duration": 16,
    "start_time": "2022-10-13T14:59:09.723Z"
   },
   {
    "duration": 11,
    "start_time": "2022-10-13T14:59:12.463Z"
   },
   {
    "duration": 10,
    "start_time": "2022-10-13T14:59:23.659Z"
   },
   {
    "duration": 11,
    "start_time": "2022-10-13T15:00:26.138Z"
   },
   {
    "duration": 10,
    "start_time": "2022-10-13T15:01:06.734Z"
   },
   {
    "duration": 11,
    "start_time": "2022-10-13T15:01:23.115Z"
   },
   {
    "duration": 407,
    "start_time": "2022-10-13T15:20:12.048Z"
   },
   {
    "duration": 700,
    "start_time": "2022-10-13T15:20:12.457Z"
   },
   {
    "duration": 134,
    "start_time": "2022-10-13T15:20:13.159Z"
   },
   {
    "duration": 119,
    "start_time": "2022-10-13T15:20:13.295Z"
   },
   {
    "duration": 127,
    "start_time": "2022-10-13T15:20:13.416Z"
   },
   {
    "duration": 11,
    "start_time": "2022-10-13T15:20:13.545Z"
   },
   {
    "duration": 10,
    "start_time": "2022-10-13T15:20:13.557Z"
   },
   {
    "duration": 10,
    "start_time": "2022-10-13T15:20:13.568Z"
   },
   {
    "duration": 549,
    "start_time": "2022-10-13T15:20:13.579Z"
   },
   {
    "duration": 569,
    "start_time": "2022-10-13T15:20:14.131Z"
   },
   {
    "duration": 538,
    "start_time": "2022-10-13T15:20:14.701Z"
   },
   {
    "duration": 3,
    "start_time": "2022-10-13T15:20:15.240Z"
   },
   {
    "duration": 342,
    "start_time": "2022-10-13T15:20:15.244Z"
   },
   {
    "duration": 21,
    "start_time": "2022-10-13T15:20:15.588Z"
   },
   {
    "duration": 413,
    "start_time": "2022-10-13T15:20:15.610Z"
   },
   {
    "duration": 102,
    "start_time": "2022-10-13T15:20:16.025Z"
   },
   {
    "duration": 103,
    "start_time": "2022-10-13T15:20:16.130Z"
   },
   {
    "duration": 37,
    "start_time": "2022-10-13T15:20:16.235Z"
   },
   {
    "duration": 5,
    "start_time": "2022-10-13T15:20:16.274Z"
   },
   {
    "duration": 20,
    "start_time": "2022-10-13T15:20:16.281Z"
   },
   {
    "duration": 19,
    "start_time": "2022-10-13T15:20:16.303Z"
   },
   {
    "duration": 3,
    "start_time": "2022-10-13T15:20:16.324Z"
   },
   {
    "duration": 489,
    "start_time": "2022-10-13T15:20:16.329Z"
   },
   {
    "duration": 1049,
    "start_time": "2022-10-13T15:20:16.819Z"
   },
   {
    "duration": 473,
    "start_time": "2022-10-13T15:20:17.870Z"
   },
   {
    "duration": 1044,
    "start_time": "2022-10-13T15:20:18.344Z"
   },
   {
    "duration": 452,
    "start_time": "2022-10-13T15:20:19.390Z"
   },
   {
    "duration": 978,
    "start_time": "2022-10-13T15:20:19.847Z"
   },
   {
    "duration": 12,
    "start_time": "2022-10-13T15:20:20.827Z"
   },
   {
    "duration": 561,
    "start_time": "2022-10-14T09:55:25.866Z"
   },
   {
    "duration": 746,
    "start_time": "2022-10-14T09:55:26.429Z"
   },
   {
    "duration": 349,
    "start_time": "2022-10-14T09:55:27.176Z"
   },
   {
    "duration": 191,
    "start_time": "2022-10-14T09:55:27.527Z"
   },
   {
    "duration": 204,
    "start_time": "2022-10-14T09:55:27.719Z"
   },
   {
    "duration": 11,
    "start_time": "2022-10-14T09:55:27.924Z"
   },
   {
    "duration": 11,
    "start_time": "2022-10-14T09:55:27.936Z"
   },
   {
    "duration": 10,
    "start_time": "2022-10-14T09:55:27.948Z"
   },
   {
    "duration": 588,
    "start_time": "2022-10-14T09:55:27.959Z"
   },
   {
    "duration": 624,
    "start_time": "2022-10-14T09:55:28.549Z"
   },
   {
    "duration": 557,
    "start_time": "2022-10-14T09:55:29.175Z"
   },
   {
    "duration": 3,
    "start_time": "2022-10-14T09:55:29.733Z"
   },
   {
    "duration": 391,
    "start_time": "2022-10-14T09:55:29.738Z"
   },
   {
    "duration": 23,
    "start_time": "2022-10-14T09:55:30.131Z"
   },
   {
    "duration": 275,
    "start_time": "2022-10-14T09:55:30.156Z"
   },
   {
    "duration": 100,
    "start_time": "2022-10-14T09:55:30.521Z"
   },
   {
    "duration": 40,
    "start_time": "2022-10-14T09:55:30.623Z"
   },
   {
    "duration": 59,
    "start_time": "2022-10-14T09:55:30.665Z"
   },
   {
    "duration": 36,
    "start_time": "2022-10-14T09:55:30.726Z"
   },
   {
    "duration": 24,
    "start_time": "2022-10-14T09:55:30.764Z"
   },
   {
    "duration": 54,
    "start_time": "2022-10-14T09:55:30.789Z"
   },
   {
    "duration": 0,
    "start_time": "2022-10-14T09:55:30.845Z"
   },
   {
    "duration": 0,
    "start_time": "2022-10-14T09:55:30.846Z"
   },
   {
    "duration": 0,
    "start_time": "2022-10-14T09:55:30.847Z"
   },
   {
    "duration": 364,
    "start_time": "2022-10-14T09:55:58.679Z"
   },
   {
    "duration": 63,
    "start_time": "2022-10-14T09:56:12.744Z"
   },
   {
    "duration": 86,
    "start_time": "2022-10-14T09:56:27.439Z"
   },
   {
    "duration": 64,
    "start_time": "2022-10-14T09:57:01.171Z"
   },
   {
    "duration": 15,
    "start_time": "2022-10-14T09:57:16.859Z"
   },
   {
    "duration": 3,
    "start_time": "2022-10-14T09:57:18.707Z"
   },
   {
    "duration": 117,
    "start_time": "2022-10-14T09:57:19.558Z"
   },
   {
    "duration": 10,
    "start_time": "2022-10-14T09:58:15.950Z"
   },
   {
    "duration": 3,
    "start_time": "2022-10-14T09:58:16.040Z"
   },
   {
    "duration": 48,
    "start_time": "2022-10-14T09:58:16.893Z"
   },
   {
    "duration": 10,
    "start_time": "2022-10-14T09:59:14.249Z"
   },
   {
    "duration": 13,
    "start_time": "2022-10-14T09:59:52.182Z"
   },
   {
    "duration": 9,
    "start_time": "2022-10-14T10:00:06.603Z"
   },
   {
    "duration": 10,
    "start_time": "2022-10-14T10:00:11.662Z"
   },
   {
    "duration": 14,
    "start_time": "2022-10-14T10:00:16.038Z"
   },
   {
    "duration": 14,
    "start_time": "2022-10-14T10:00:23.567Z"
   },
   {
    "duration": 13,
    "start_time": "2022-10-14T10:00:44.895Z"
   },
   {
    "duration": 26,
    "start_time": "2022-10-14T10:01:06.856Z"
   },
   {
    "duration": 23,
    "start_time": "2022-10-14T10:01:33.564Z"
   },
   {
    "duration": 687,
    "start_time": "2022-10-14T10:02:01.740Z"
   },
   {
    "duration": 797,
    "start_time": "2022-10-14T10:02:12.284Z"
   },
   {
    "duration": 692,
    "start_time": "2022-10-14T10:02:22.020Z"
   },
   {
    "duration": 445,
    "start_time": "2022-10-14T10:23:13.532Z"
   },
   {
    "duration": 745,
    "start_time": "2022-10-14T10:23:13.980Z"
   },
   {
    "duration": 143,
    "start_time": "2022-10-14T10:23:14.727Z"
   },
   {
    "duration": 119,
    "start_time": "2022-10-14T10:23:14.873Z"
   },
   {
    "duration": 127,
    "start_time": "2022-10-14T10:23:14.993Z"
   },
   {
    "duration": 10,
    "start_time": "2022-10-14T10:23:15.122Z"
   },
   {
    "duration": 11,
    "start_time": "2022-10-14T10:23:15.134Z"
   },
   {
    "duration": 10,
    "start_time": "2022-10-14T10:23:15.147Z"
   },
   {
    "duration": 591,
    "start_time": "2022-10-14T10:23:15.160Z"
   },
   {
    "duration": 590,
    "start_time": "2022-10-14T10:23:15.755Z"
   },
   {
    "duration": 612,
    "start_time": "2022-10-14T10:23:16.347Z"
   },
   {
    "duration": 3,
    "start_time": "2022-10-14T10:23:16.961Z"
   },
   {
    "duration": 384,
    "start_time": "2022-10-14T10:23:16.966Z"
   },
   {
    "duration": 23,
    "start_time": "2022-10-14T10:23:17.351Z"
   },
   {
    "duration": 346,
    "start_time": "2022-10-14T10:23:17.376Z"
   },
   {
    "duration": 98,
    "start_time": "2022-10-14T10:23:17.728Z"
   },
   {
    "duration": 6,
    "start_time": "2022-10-14T10:23:17.833Z"
   },
   {
    "duration": 82,
    "start_time": "2022-10-14T10:23:17.841Z"
   },
   {
    "duration": 31,
    "start_time": "2022-10-14T10:23:17.925Z"
   },
   {
    "duration": 33,
    "start_time": "2022-10-14T10:23:17.958Z"
   },
   {
    "duration": 36,
    "start_time": "2022-10-14T10:23:17.992Z"
   },
   {
    "duration": 33,
    "start_time": "2022-10-14T10:23:18.030Z"
   },
   {
    "duration": 37,
    "start_time": "2022-10-14T10:23:18.065Z"
   },
   {
    "duration": 169,
    "start_time": "2022-10-14T10:23:18.103Z"
   },
   {
    "duration": 0,
    "start_time": "2022-10-14T10:23:18.273Z"
   },
   {
    "duration": 0,
    "start_time": "2022-10-14T10:23:18.275Z"
   },
   {
    "duration": 0,
    "start_time": "2022-10-14T10:23:18.277Z"
   },
   {
    "duration": 0,
    "start_time": "2022-10-14T10:23:18.278Z"
   },
   {
    "duration": 0,
    "start_time": "2022-10-14T10:23:18.279Z"
   },
   {
    "duration": 0,
    "start_time": "2022-10-14T10:23:18.280Z"
   },
   {
    "duration": 10,
    "start_time": "2022-10-14T10:24:02.200Z"
   },
   {
    "duration": 30,
    "start_time": "2022-10-14T10:24:50.488Z"
   },
   {
    "duration": 7,
    "start_time": "2022-10-14T10:25:11.529Z"
   },
   {
    "duration": 7,
    "start_time": "2022-10-14T10:25:21.060Z"
   },
   {
    "duration": 7,
    "start_time": "2022-10-14T10:25:56.248Z"
   },
   {
    "duration": 15,
    "start_time": "2022-10-14T10:26:17.615Z"
   },
   {
    "duration": 12,
    "start_time": "2022-10-14T10:26:24.799Z"
   },
   {
    "duration": 27,
    "start_time": "2022-10-14T10:26:41.776Z"
   },
   {
    "duration": 453,
    "start_time": "2022-10-14T10:26:49.501Z"
   },
   {
    "duration": 10,
    "start_time": "2022-10-14T10:28:30.759Z"
   },
   {
    "duration": 13,
    "start_time": "2022-10-14T10:29:08.319Z"
   },
   {
    "duration": 14,
    "start_time": "2022-10-14T10:30:10.910Z"
   },
   {
    "duration": 12,
    "start_time": "2022-10-14T10:30:24.021Z"
   },
   {
    "duration": 12,
    "start_time": "2022-10-14T10:30:46.499Z"
   },
   {
    "duration": 12,
    "start_time": "2022-10-14T10:30:49.659Z"
   },
   {
    "duration": 13,
    "start_time": "2022-10-14T10:31:10.058Z"
   },
   {
    "duration": 13,
    "start_time": "2022-10-14T10:31:32.439Z"
   },
   {
    "duration": 18,
    "start_time": "2022-10-14T10:31:38.739Z"
   },
   {
    "duration": 14,
    "start_time": "2022-10-14T10:31:48.779Z"
   },
   {
    "duration": 15,
    "start_time": "2022-10-14T10:32:30.564Z"
   },
   {
    "duration": 11,
    "start_time": "2022-10-14T10:35:11.681Z"
   },
   {
    "duration": 10,
    "start_time": "2022-10-14T10:35:26.928Z"
   },
   {
    "duration": 9,
    "start_time": "2022-10-14T10:38:55.435Z"
   },
   {
    "duration": 2,
    "start_time": "2022-10-14T10:38:56.807Z"
   },
   {
    "duration": 10,
    "start_time": "2022-10-14T10:41:05.857Z"
   },
   {
    "duration": 23,
    "start_time": "2022-10-14T10:41:05.869Z"
   },
   {
    "duration": 1113,
    "start_time": "2022-10-14T10:41:06.083Z"
   },
   {
    "duration": 20,
    "start_time": "2022-10-14T10:41:33.879Z"
   },
   {
    "duration": 15,
    "start_time": "2022-10-14T10:41:33.980Z"
   },
   {
    "duration": 1130,
    "start_time": "2022-10-14T10:42:17.807Z"
   },
   {
    "duration": 1216,
    "start_time": "2022-10-14T10:42:26.199Z"
   },
   {
    "duration": 9,
    "start_time": "2022-10-14T10:46:39.434Z"
   },
   {
    "duration": 3,
    "start_time": "2022-10-14T10:46:39.758Z"
   },
   {
    "duration": 1087,
    "start_time": "2022-10-14T10:46:39.998Z"
   },
   {
    "duration": 8,
    "start_time": "2022-10-14T10:47:17.847Z"
   },
   {
    "duration": 3,
    "start_time": "2022-10-14T10:47:18.658Z"
   },
   {
    "duration": 1133,
    "start_time": "2022-10-14T10:47:18.779Z"
   },
   {
    "duration": 9,
    "start_time": "2022-10-14T10:48:48.561Z"
   },
   {
    "duration": 3,
    "start_time": "2022-10-14T10:48:48.657Z"
   },
   {
    "duration": 1097,
    "start_time": "2022-10-14T10:48:48.792Z"
   },
   {
    "duration": 8,
    "start_time": "2022-10-14T10:52:15.142Z"
   },
   {
    "duration": 3,
    "start_time": "2022-10-14T10:52:15.212Z"
   },
   {
    "duration": 1053,
    "start_time": "2022-10-14T10:52:15.440Z"
   },
   {
    "duration": 9,
    "start_time": "2022-10-14T10:52:36.650Z"
   },
   {
    "duration": 3,
    "start_time": "2022-10-14T10:52:36.776Z"
   },
   {
    "duration": 753,
    "start_time": "2022-10-14T10:52:36.970Z"
   },
   {
    "duration": 8,
    "start_time": "2022-10-14T10:52:48.101Z"
   },
   {
    "duration": 3,
    "start_time": "2022-10-14T10:52:48.163Z"
   },
   {
    "duration": 1169,
    "start_time": "2022-10-14T10:52:49.300Z"
   },
   {
    "duration": 9,
    "start_time": "2022-10-14T10:55:49.161Z"
   },
   {
    "duration": 3,
    "start_time": "2022-10-14T10:55:49.192Z"
   },
   {
    "duration": 1036,
    "start_time": "2022-10-14T10:55:49.359Z"
   },
   {
    "duration": 1070,
    "start_time": "2022-10-14T10:55:50.398Z"
   },
   {
    "duration": 9,
    "start_time": "2022-10-14T10:55:53.996Z"
   },
   {
    "duration": 3,
    "start_time": "2022-10-14T10:55:54.108Z"
   },
   {
    "duration": 1102,
    "start_time": "2022-10-14T10:55:54.320Z"
   },
   {
    "duration": 8,
    "start_time": "2022-10-14T10:56:41.250Z"
   },
   {
    "duration": 4,
    "start_time": "2022-10-14T10:56:41.340Z"
   },
   {
    "duration": 1101,
    "start_time": "2022-10-14T10:56:41.688Z"
   },
   {
    "duration": 1047,
    "start_time": "2022-10-14T10:57:24.780Z"
   },
   {
    "duration": 1106,
    "start_time": "2022-10-14T10:57:28.336Z"
   },
   {
    "duration": 112,
    "start_time": "2022-10-14T10:58:12.629Z"
   },
   {
    "duration": 0,
    "start_time": "2022-10-14T10:58:12.743Z"
   },
   {
    "duration": 1153,
    "start_time": "2022-10-14T10:58:12.896Z"
   },
   {
    "duration": 1041,
    "start_time": "2022-10-14T10:58:16.552Z"
   },
   {
    "duration": 1084,
    "start_time": "2022-10-14T10:58:19.802Z"
   },
   {
    "duration": 158,
    "start_time": "2022-10-14T10:59:27.848Z"
   },
   {
    "duration": 4,
    "start_time": "2022-10-14T10:59:28.044Z"
   },
   {
    "duration": 1138,
    "start_time": "2022-10-14T10:59:28.161Z"
   },
   {
    "duration": 152,
    "start_time": "2022-10-14T10:59:45.108Z"
   },
   {
    "duration": 0,
    "start_time": "2022-10-14T10:59:45.263Z"
   },
   {
    "duration": 1101,
    "start_time": "2022-10-14T10:59:45.348Z"
   },
   {
    "duration": 9,
    "start_time": "2022-10-14T10:59:54.304Z"
   },
   {
    "duration": 4,
    "start_time": "2022-10-14T10:59:54.423Z"
   },
   {
    "duration": 1407,
    "start_time": "2022-10-14T10:59:54.561Z"
   },
   {
    "duration": 8,
    "start_time": "2022-10-14T11:00:06.262Z"
   },
   {
    "duration": 3,
    "start_time": "2022-10-14T11:00:06.628Z"
   },
   {
    "duration": 1422,
    "start_time": "2022-10-14T11:00:06.824Z"
   },
   {
    "duration": 9,
    "start_time": "2022-10-14T11:00:15.609Z"
   },
   {
    "duration": 3,
    "start_time": "2022-10-14T11:00:15.696Z"
   },
   {
    "duration": 1268,
    "start_time": "2022-10-14T11:00:15.792Z"
   },
   {
    "duration": 9,
    "start_time": "2022-10-14T11:00:26.868Z"
   },
   {
    "duration": 3,
    "start_time": "2022-10-14T11:00:27.020Z"
   },
   {
    "duration": 1298,
    "start_time": "2022-10-14T11:00:27.180Z"
   },
   {
    "duration": 8,
    "start_time": "2022-10-14T11:03:20.792Z"
   },
   {
    "duration": 4,
    "start_time": "2022-10-14T11:03:21.106Z"
   },
   {
    "duration": 1382,
    "start_time": "2022-10-14T11:03:21.268Z"
   },
   {
    "duration": 9,
    "start_time": "2022-10-14T11:03:28.606Z"
   },
   {
    "duration": 3,
    "start_time": "2022-10-14T11:03:28.744Z"
   },
   {
    "duration": 1387,
    "start_time": "2022-10-14T11:03:28.919Z"
   },
   {
    "duration": 9,
    "start_time": "2022-10-14T11:07:13.912Z"
   },
   {
    "duration": 4,
    "start_time": "2022-10-14T11:07:14.344Z"
   },
   {
    "duration": 1328,
    "start_time": "2022-10-14T11:07:14.684Z"
   },
   {
    "duration": 9,
    "start_time": "2022-10-14T11:07:21.074Z"
   },
   {
    "duration": 3,
    "start_time": "2022-10-14T11:07:21.274Z"
   },
   {
    "duration": 1353,
    "start_time": "2022-10-14T11:07:21.434Z"
   },
   {
    "duration": 12,
    "start_time": "2022-10-14T11:07:32.066Z"
   },
   {
    "duration": 4,
    "start_time": "2022-10-14T11:07:32.216Z"
   },
   {
    "duration": 1409,
    "start_time": "2022-10-14T11:07:32.537Z"
   },
   {
    "duration": 310,
    "start_time": "2022-10-14T11:10:09.015Z"
   },
   {
    "duration": 3,
    "start_time": "2022-10-14T11:10:09.452Z"
   },
   {
    "duration": 1293,
    "start_time": "2022-10-14T11:10:09.641Z"
   },
   {
    "duration": 9,
    "start_time": "2022-10-14T11:10:20.902Z"
   },
   {
    "duration": 3,
    "start_time": "2022-10-14T11:10:21.081Z"
   },
   {
    "duration": 1066,
    "start_time": "2022-10-14T11:10:21.226Z"
   },
   {
    "duration": 1252,
    "start_time": "2022-10-14T11:10:22.295Z"
   },
   {
    "duration": 9,
    "start_time": "2022-10-14T11:11:20.203Z"
   },
   {
    "duration": 3,
    "start_time": "2022-10-14T11:11:20.422Z"
   },
   {
    "duration": 1055,
    "start_time": "2022-10-14T11:11:20.597Z"
   },
   {
    "duration": 10,
    "start_time": "2022-10-14T11:11:26.212Z"
   },
   {
    "duration": 4,
    "start_time": "2022-10-14T11:11:26.334Z"
   },
   {
    "duration": 1147,
    "start_time": "2022-10-14T11:11:26.501Z"
   },
   {
    "duration": 15,
    "start_time": "2022-10-14T11:11:48.126Z"
   },
   {
    "duration": 5,
    "start_time": "2022-10-14T11:11:48.288Z"
   },
   {
    "duration": 1206,
    "start_time": "2022-10-14T11:11:48.459Z"
   },
   {
    "duration": 9,
    "start_time": "2022-10-14T11:12:19.652Z"
   },
   {
    "duration": 4,
    "start_time": "2022-10-14T11:12:19.819Z"
   },
   {
    "duration": 1028,
    "start_time": "2022-10-14T11:12:19.973Z"
   },
   {
    "duration": 13,
    "start_time": "2022-10-14T11:12:56.346Z"
   },
   {
    "duration": 3,
    "start_time": "2022-10-14T11:12:56.499Z"
   },
   {
    "duration": 1081,
    "start_time": "2022-10-14T11:12:56.613Z"
   },
   {
    "duration": 9,
    "start_time": "2022-10-14T11:13:16.758Z"
   },
   {
    "duration": 3,
    "start_time": "2022-10-14T11:13:16.923Z"
   },
   {
    "duration": 1259,
    "start_time": "2022-10-14T11:13:17.090Z"
   },
   {
    "duration": 1134,
    "start_time": "2022-10-14T11:13:29.034Z"
   },
   {
    "duration": 1100,
    "start_time": "2022-10-14T11:13:30.170Z"
   },
   {
    "duration": 10,
    "start_time": "2022-10-14T11:25:55.045Z"
   },
   {
    "duration": 3,
    "start_time": "2022-10-14T11:25:55.233Z"
   },
   {
    "duration": 1077,
    "start_time": "2022-10-14T11:25:55.373Z"
   },
   {
    "duration": 1092,
    "start_time": "2022-10-14T11:26:00.746Z"
   },
   {
    "duration": 1044,
    "start_time": "2022-10-14T11:26:05.008Z"
   },
   {
    "duration": 1239,
    "start_time": "2022-10-14T11:26:08.077Z"
   },
   {
    "duration": 1056,
    "start_time": "2022-10-14T11:26:13.101Z"
   },
   {
    "duration": 11,
    "start_time": "2022-10-14T11:26:30.168Z"
   },
   {
    "duration": 4,
    "start_time": "2022-10-14T11:26:30.293Z"
   },
   {
    "duration": 1079,
    "start_time": "2022-10-14T11:26:31.756Z"
   },
   {
    "duration": 1152,
    "start_time": "2022-10-14T11:26:41.214Z"
   },
   {
    "duration": 1102,
    "start_time": "2022-10-14T11:26:43.836Z"
   },
   {
    "duration": 15,
    "start_time": "2022-10-14T11:26:48.085Z"
   },
   {
    "duration": 4,
    "start_time": "2022-10-14T11:26:48.237Z"
   },
   {
    "duration": 1136,
    "start_time": "2022-10-14T11:26:48.385Z"
   },
   {
    "duration": 10,
    "start_time": "2022-10-14T11:26:56.018Z"
   },
   {
    "duration": 3,
    "start_time": "2022-10-14T11:26:56.173Z"
   },
   {
    "duration": 1132,
    "start_time": "2022-10-14T11:26:56.879Z"
   },
   {
    "duration": 1436,
    "start_time": "2022-10-14T11:26:58.020Z"
   },
   {
    "duration": 1166,
    "start_time": "2022-10-14T11:26:59.458Z"
   },
   {
    "duration": 1067,
    "start_time": "2022-10-14T12:26:15.460Z"
   },
   {
    "duration": 4,
    "start_time": "2022-10-14T12:26:37.834Z"
   },
   {
    "duration": 9,
    "start_time": "2022-10-14T12:29:27.764Z"
   },
   {
    "duration": 4,
    "start_time": "2022-10-14T12:29:28.273Z"
   },
   {
    "duration": 1062,
    "start_time": "2022-10-14T12:29:29.836Z"
   },
   {
    "duration": 1092,
    "start_time": "2022-10-14T12:29:32.554Z"
   },
   {
    "duration": 1102,
    "start_time": "2022-10-14T12:29:36.754Z"
   },
   {
    "duration": 1063,
    "start_time": "2022-10-14T12:29:43.493Z"
   },
   {
    "duration": 5,
    "start_time": "2022-10-14T12:29:48.348Z"
   },
   {
    "duration": 5,
    "start_time": "2022-10-14T12:29:56.798Z"
   },
   {
    "duration": 5,
    "start_time": "2022-10-14T12:30:31.344Z"
   },
   {
    "duration": 4,
    "start_time": "2022-10-14T12:30:52.358Z"
   },
   {
    "duration": 632,
    "start_time": "2022-10-14T14:06:29.807Z"
   },
   {
    "duration": 723,
    "start_time": "2022-10-14T14:06:30.441Z"
   },
   {
    "duration": 522,
    "start_time": "2022-10-14T14:06:31.165Z"
   },
   {
    "duration": 190,
    "start_time": "2022-10-14T14:06:31.689Z"
   },
   {
    "duration": 197,
    "start_time": "2022-10-14T14:06:31.881Z"
   },
   {
    "duration": 10,
    "start_time": "2022-10-14T14:06:32.080Z"
   },
   {
    "duration": 16,
    "start_time": "2022-10-14T14:06:32.091Z"
   },
   {
    "duration": 9,
    "start_time": "2022-10-14T14:06:32.108Z"
   },
   {
    "duration": 567,
    "start_time": "2022-10-14T14:06:32.118Z"
   },
   {
    "duration": 578,
    "start_time": "2022-10-14T14:06:32.686Z"
   },
   {
    "duration": 625,
    "start_time": "2022-10-14T14:06:33.265Z"
   },
   {
    "duration": 2,
    "start_time": "2022-10-14T14:06:33.892Z"
   },
   {
    "duration": 409,
    "start_time": "2022-10-14T14:06:33.896Z"
   },
   {
    "duration": 28,
    "start_time": "2022-10-14T14:06:34.307Z"
   },
   {
    "duration": 399,
    "start_time": "2022-10-14T14:06:34.337Z"
   },
   {
    "duration": 104,
    "start_time": "2022-10-14T14:06:34.738Z"
   },
   {
    "duration": 10,
    "start_time": "2022-10-14T14:06:34.934Z"
   },
   {
    "duration": 16,
    "start_time": "2022-10-14T14:06:34.946Z"
   },
   {
    "duration": 3,
    "start_time": "2022-10-14T14:06:34.964Z"
   },
   {
    "duration": 1039,
    "start_time": "2022-10-14T14:06:34.969Z"
   },
   {
    "duration": 1099,
    "start_time": "2022-10-14T14:06:36.010Z"
   },
   {
    "duration": 1008,
    "start_time": "2022-10-14T14:06:37.111Z"
   },
   {
    "duration": 559,
    "start_time": "2022-10-15T07:56:57.409Z"
   },
   {
    "duration": 684,
    "start_time": "2022-10-15T07:56:57.969Z"
   },
   {
    "duration": 341,
    "start_time": "2022-10-15T07:56:58.654Z"
   },
   {
    "duration": 182,
    "start_time": "2022-10-15T07:56:58.997Z"
   },
   {
    "duration": 177,
    "start_time": "2022-10-15T07:56:59.180Z"
   },
   {
    "duration": 8,
    "start_time": "2022-10-15T07:56:59.359Z"
   },
   {
    "duration": 10,
    "start_time": "2022-10-15T07:56:59.369Z"
   },
   {
    "duration": 8,
    "start_time": "2022-10-15T07:56:59.380Z"
   },
   {
    "duration": 465,
    "start_time": "2022-10-15T07:56:59.400Z"
   },
   {
    "duration": 471,
    "start_time": "2022-10-15T07:56:59.868Z"
   },
   {
    "duration": 502,
    "start_time": "2022-10-15T07:57:00.341Z"
   },
   {
    "duration": 3,
    "start_time": "2022-10-15T07:57:00.844Z"
   },
   {
    "duration": 341,
    "start_time": "2022-10-15T07:57:00.848Z"
   },
   {
    "duration": 24,
    "start_time": "2022-10-15T07:57:01.191Z"
   },
   {
    "duration": 294,
    "start_time": "2022-10-15T07:57:01.217Z"
   },
   {
    "duration": 92,
    "start_time": "2022-10-15T07:57:01.514Z"
   },
   {
    "duration": 174,
    "start_time": "2022-10-15T07:57:01.608Z"
   },
   {
    "duration": 24,
    "start_time": "2022-10-15T07:57:01.784Z"
   },
   {
    "duration": 25,
    "start_time": "2022-10-15T07:57:01.809Z"
   },
   {
    "duration": 769,
    "start_time": "2022-10-15T07:57:01.835Z"
   },
   {
    "duration": 0,
    "start_time": "2022-10-15T07:57:02.606Z"
   },
   {
    "duration": 0,
    "start_time": "2022-10-15T07:57:02.607Z"
   },
   {
    "duration": 9,
    "start_time": "2022-10-15T07:57:46.729Z"
   },
   {
    "duration": 3,
    "start_time": "2022-10-15T07:57:47.056Z"
   },
   {
    "duration": 861,
    "start_time": "2022-10-15T07:57:47.214Z"
   },
   {
    "duration": 8,
    "start_time": "2022-10-15T07:58:22.044Z"
   },
   {
    "duration": 3,
    "start_time": "2022-10-15T07:58:22.315Z"
   },
   {
    "duration": 872,
    "start_time": "2022-10-15T07:58:22.843Z"
   },
   {
    "duration": 914,
    "start_time": "2022-10-15T07:58:36.853Z"
   },
   {
    "duration": 1070,
    "start_time": "2022-10-15T07:58:37.769Z"
   }
  ],
  "kernelspec": {
   "display_name": "Python 3 (ipykernel)",
   "language": "python",
   "name": "python3"
  },
  "language_info": {
   "codemirror_mode": {
    "name": "ipython",
    "version": 3
   },
   "file_extension": ".py",
   "mimetype": "text/x-python",
   "name": "python",
   "nbconvert_exporter": "python",
   "pygments_lexer": "ipython3",
   "version": "3.10.5"
  },
  "toc": {
   "base_numbering": 1,
   "nav_menu": {
    "height": "130px",
    "width": "231px"
   },
   "number_sections": true,
   "sideBar": true,
   "skip_h1_title": true,
   "title_cell": "Table of Contents",
   "title_sidebar": "Contents",
   "toc_cell": false,
   "toc_position": {},
   "toc_section_display": true,
   "toc_window_display": false
  }
 },
 "nbformat": 4,
 "nbformat_minor": 2
}
